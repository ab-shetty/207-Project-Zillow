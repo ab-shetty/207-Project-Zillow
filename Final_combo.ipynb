{
 "cells": [
  {
   "cell_type": "code",
   "execution_count": 4,
   "metadata": {},
   "outputs": [
    {
     "name": "stderr",
     "output_type": "stream",
     "text": [
      "c:\\Users\\ashet\\anaconda3\\envs\\ml\\Lib\\site-packages\\tqdm\\auto.py:21: TqdmWarning: IProgress not found. Please update jupyter and ipywidgets. See https://ipywidgets.readthedocs.io/en/stable/user_install.html\n",
      "  from .autonotebook import tqdm as notebook_tqdm\n"
     ]
    }
   ],
   "source": [
    "# standard\n",
    "import pandas as pd\n",
    "import numpy as np\n",
    "import random\n",
    "\n",
    "# tf and keras\n",
    "import tensorflow as tf\n",
    "import keras\n",
    "from keras import layers\n",
    "from sklearn.model_selection import train_test_split\n",
    "from sklearn import ensemble\n",
    "from sklearn.preprocessing import StandardScaler\n",
    "from sklearn.model_selection import RandomizedSearchCV\n",
    "\n",
    "# plots\n",
    "import seaborn as sns\n",
    "import matplotlib.pyplot as plt\n",
    "\n",
    "# xgboost\n",
    "import xgboost as xgb\n",
    "import optuna\n",
    "import optuna.visualization as vis\n",
    "\n",
    "random.seed(42)"
   ]
  },
  {
   "cell_type": "code",
   "execution_count": 5,
   "metadata": {},
   "outputs": [],
   "source": [
    "# This is reading the cleaned dataframe from the cleaning notebook\n",
    "df = pd.read_csv('./data/nn.csv')\n",
    "#pd.options.display.max_columns = None\n",
    "df = df[~df.landtaxvaluedollarcnt.isnull()]\n",
    "df = df[~df.taxamount.isnull()]\n",
    "df = df[~df.regionidzip.isnull()]\n",
    "df = df[~df.structuretaxvaluedollarcnt.isnull()]\n",
    "\n",
    "# Now we read in the housing index for LA County, and add the index for each month\n",
    "dfh = pd.read_csv('data/LXXRNSA.csv')\n",
    "dfh.DATE = pd.to_datetime(dfh.DATE)\n",
    "df.transactiondate = pd.to_datetime(df.transactiondate)\n",
    "df['transactionmonth'] =  df['transactiondate'].dt.strftime('%Y%m')\n",
    "dfh.DATE = dfh['DATE'].dt.strftime('%Y%m')\n",
    "df = pd.merge(df, dfh, left_on='transactionmonth', right_on='DATE', how='left')\n",
    "df = df.drop(columns='DATE')\n",
    "\n",
    "# Get month, year, weekday\n",
    "df['month'] = df.transactionmonth.str[4:]\n",
    "df['year'] = df.transactionmonth.str[:-2]\n",
    "df['weekday'] = df.transactiondate.dt.day_of_week\n"
   ]
  },
  {
   "cell_type": "code",
   "execution_count": 6,
   "metadata": {},
   "outputs": [],
   "source": [
    "X = df[['bedroomcnt','roomcnt','bathroomcnt','taxamount','landtaxvaluedollarcnt','taxvaluedollarcnt','structuretaxvaluedollarcnt',\n",
    "        'latitude', 'longitude', 'LXXRNSA', 'month', 'year', 'weekday',\n",
    "          'lotsizesquarefeet', 'calculatedfinishedsquarefeet', 'yearbuilt',\n",
    "          ]]\n",
    "Y = df.logerror\n",
    "\n",
    "# X_train, X_test, Y_train, Y_test = train_test_split(X, Y, test_size=0.2, random_state=1234)\n",
    "\n",
    "X_train, X_val, Y_train, Y_val = train_test_split(X, Y, test_size=0.2, random_state=1234)\n",
    "\n",
    "# Applying standardization to inputs\n",
    "\n",
    "numeric_columns = ['bedroomcnt', 'roomcnt', 'bathroomcnt', 'taxamount',\n",
    "       'landtaxvaluedollarcnt', 'taxvaluedollarcnt',\n",
    "       'structuretaxvaluedollarcnt', 'latitude', 'longitude', 'LXXRNSA', 'calculatedfinishedsquarefeet',\n",
    "        'lotsizesquarefeet', 'calculatedfinishedsquarefeet', 'yearbuilt',\n",
    "         ]\n",
    "\n",
    "# Standardize numeric columns\n",
    "sc_x = StandardScaler()\n",
    "X_train_std = X_train.copy()\n",
    "X_val_std = X_val.copy()\n",
    "# X_test_std = X_test.copy()\n",
    "\n",
    "X_train_std[numeric_columns] = sc_x.fit(X_train[numeric_columns]).transform(X_train[numeric_columns])\n",
    "X_val_std[numeric_columns] = sc_x.fit(X_train[numeric_columns]).transform(X_val[numeric_columns])\n",
    "# X_test_std[numeric_columns] = sc_x.fit(X_train[numeric_columns]).transform(X_test[numeric_columns])\n",
    "\n",
    "# Applying standardization to outputs\n",
    "Y_train_std = (Y_train - Y_train.mean())/Y_train.std()\n",
    "Y_val_std = (Y_val - Y_train.mean())/Y_train.std()\n",
    "# Y_test_std = (Y_test - Y_train.mean())/Y_train.std()\n",
    "\n",
    "# Mask missing data in last three columns - does this help? Apparently a tiny bit\n",
    "mask_value = -999\n",
    "X_train_std = X_train_std.fillna(mask_value)\n",
    "X_val_std = X_val_std.fillna(mask_value)\n",
    "# X_test_std = X_test_std.fillna(mask_value)"
   ]
  },
  {
   "cell_type": "code",
   "execution_count": 7,
   "metadata": {},
   "outputs": [
    {
     "data": {
      "text/plain": [
       "0.06992945188768067"
      ]
     },
     "execution_count": 7,
     "metadata": {},
     "output_type": "execute_result"
    }
   ],
   "source": [
    "# THIS IS THE FUNCTION TO PREDICT MAE\n",
    "\n",
    "# avg_error = Y_val_std.mean()\n",
    "#y_true = np.array(Y)\n",
    "#y_pred = np.ones(len(Y_val_std)) * avg_error\n",
    "y_pred_main = np.zeros(len(Y_val_std))\n",
    "\n",
    "def get_loss(y_true=Y_val_std, y_pred=y_pred_main):\n",
    "    return tf.keras.losses.MAE(\n",
    "    y_true, y_pred).numpy()\n",
    "\n",
    "# Get loss of Zillow model\n",
    "get_loss(y_true=Y_val)"
   ]
  },
  {
   "cell_type": "code",
   "execution_count": 8,
   "metadata": {},
   "outputs": [],
   "source": [
    "def build_model(lr):\n",
    "    \n",
    "    \n",
    "    tf.keras.backend.clear_session()\n",
    "    tf.random.set_seed(1234)\n",
    "    random.seed(42)\n",
    "    mask_value = -999\n",
    "    \n",
    "\n",
    "    bedroomcnt = layers.Input(shape=(1,), dtype=tf.float32, name='bedroomcnt')\n",
    "    roomcnt = layers.Input(shape=(1,), dtype=tf.float32, name='roomcnt')\n",
    "    bathroomcnt = layers.Input(shape=(1,), dtype=tf.float32, name='bathroomcnt')\n",
    "    taxamount = layers.Input(shape=(1,), dtype=tf.float32, name='taxamount')\n",
    "    landtaxvaluedollarcnt = layers.Input(shape=(1,), dtype=tf.float32, name='landtaxvaluedollarcnt')\n",
    "    taxvaluedollarcnt = layers.Input(shape=(1,), dtype=tf.float32, name='taxvaluedollarcnt')\n",
    "    structuretaxvaluedollarcnt = layers.Input(shape=(1,), dtype=tf.float32, name='structuretaxvaluedollarcnt')\n",
    "    latitude = layers.Input(shape=(1,), dtype=tf.float32, name='latitude')\n",
    "    longitude = layers.Input(shape=(1,), dtype=tf.float32, name='longitude')\n",
    "    lxxrnsa = layers.Input(shape=(1,), dtype=tf.float32, name='lxxrnsa')\n",
    "    month = layers.Input(shape=(1,), dtype=tf.string, name='month')\n",
    "    year = layers.Input(shape=(1,), dtype=tf.string, name='year')\n",
    "    weekday = layers.Input(shape=(1,), dtype=tf.int64, name='weekday')\n",
    "\n",
    "    \n",
    "    lotsizesquarefeet = layers.Input(shape=(1,), dtype=tf.int64, name='lotsizesquarefeet')\n",
    "    lotsizemask = layers.Masking(mask_value=mask_value)(lotsizesquarefeet)\n",
    "\n",
    "    calculatedfinishedsquarefeet = layers.Input(shape=(1,), dtype=tf.int64, name='calculatedfinishedsquarefeet')\n",
    "    finishedsqftmask = layers.Masking(mask_value=mask_value)(calculatedfinishedsquarefeet)\n",
    "\n",
    "    yearbuilt = layers.Input(shape=(1,), dtype=tf.int64, name='yearbuilt')\n",
    "    yearblt = layers.Masking(mask_value=mask_value)(yearbuilt)\n",
    "\n",
    "\n",
    "    month_id = tf.keras.layers.StringLookup(\n",
    "      vocabulary=['01', '02', '03', '04', '05', '06', '07', '08', '09', '10', '11', '12'], \n",
    "      output_mode='one_hot')(month)\n",
    "    \n",
    "    year_id = tf.keras.layers.StringLookup(\n",
    "      vocabulary=['2016', '2017'], \n",
    "      output_mode='one_hot')(year)   \n",
    "\n",
    "    weekday_id = tf.keras.layers.IntegerLookup(\n",
    "      vocabulary=[0,1,2,3,4,5,6], \n",
    "      output_mode='one_hot')(weekday) \n",
    "\n",
    "    resolution_in_degrees = 0.4\n",
    "\n",
    "    # Create a list of numbers representing the bucket boundaries for latitude.\n",
    "    latitude_boundaries = list(np.arange(-3, 3 + resolution_in_degrees, resolution_in_degrees))\n",
    "\n",
    "    # Create a Discretization layer to separate the latitude data into buckets.\n",
    "    latitude_discretized = tf.keras.layers.Discretization(\n",
    "        bin_boundaries=latitude_boundaries,\n",
    "        name='discretization_latitude')(latitude)\n",
    "\n",
    "    # Create a list of numbers representing the bucket boundaries for longitude.\n",
    "    longitude_boundaries = list(np.arange(-3, 3 + resolution_in_degrees, resolution_in_degrees))\n",
    "\n",
    "    # Create a Discretization layer to separate the longitude data into buckets.\n",
    "    longitude_discretized = tf.keras.layers.Discretization(\n",
    "        bin_boundaries=longitude_boundaries,\n",
    "        name='discretization_longitude')(longitude)\n",
    "\n",
    "    # Cross the latitude and longitude features into a single one-hot vector.\n",
    "    feature_cross = tf.keras.layers.HashedCrossing(\n",
    "        num_bins=len(latitude_boundaries) * len(longitude_boundaries),\n",
    "        output_mode='one_hot',\n",
    "        name='cross_latitude_longitude')([latitude_discretized, longitude_discretized])\n",
    "\n",
    "    features = layers.Concatenate()([\n",
    "                    bedroomcnt, \n",
    "                    roomcnt, \n",
    "                    bathroomcnt, \n",
    "                    taxamount, \n",
    "                    landtaxvaluedollarcnt, \n",
    "                    taxvaluedollarcnt, \n",
    "                    structuretaxvaluedollarcnt,\n",
    "                    feature_cross,\n",
    "                    lxxrnsa,\n",
    "                    month_id,\n",
    "                    year_id,\n",
    "                    weekday_id,\n",
    "                    lotsizemask,\n",
    "                    finishedsqftmask,\n",
    "                    yearblt,\n",
    "    ]) \n",
    "    print(features)\n",
    "\n",
    "\n",
    "    x = layers.Dense(units=600, kernel_initializer='normal', activation='relu')(features)\n",
    "    x = layers.Dropout(0.36)(x)\n",
    "    x = layers.Dense(units=200, kernel_initializer='normal', activation='relu')(x)\n",
    "    x = layers.BatchNormalization()(x)\n",
    "    x = layers.Dropout(0.6)(x)\n",
    "    x = layers.Dense(1, kernel_initializer='normal')(x)\n",
    "    x = layers.Dense(1, kernel_initializer='normal')(x)\n",
    "\n",
    "\n",
    "\n",
    "    logerror = tf.keras.layers.Dense(\n",
    "        units=1, activation='linear', name='logerror')(x)\n",
    "\n",
    "    model = tf.keras.Model(inputs=[\n",
    "        bedroomcnt, \n",
    "        roomcnt, \n",
    "        bathroomcnt, \n",
    "        taxamount, \n",
    "        landtaxvaluedollarcnt, \n",
    "        taxvaluedollarcnt, \n",
    "        structuretaxvaluedollarcnt,\n",
    "        latitude,\n",
    "        longitude,\n",
    "        lxxrnsa,\n",
    "        month,\n",
    "        year,\n",
    "        weekday,\n",
    "        lotsizesquarefeet,\n",
    "        calculatedfinishedsquarefeet,\n",
    "        yearbuilt,\n",
    "    ], outputs=logerror)\n",
    "    \n",
    "    model.compile(\n",
    "        optimizer=tf.keras.optimizers.Adam(learning_rate=lr),\n",
    "        loss='mae',\n",
    "        metrics=['mae'])\n",
    "\n",
    "    return model"
   ]
  },
  {
   "cell_type": "code",
   "execution_count": 9,
   "metadata": {},
   "outputs": [
    {
     "name": "stdout",
     "output_type": "stream",
     "text": [
      "WARNING:tensorflow:From c:\\Users\\ashet\\anaconda3\\envs\\ml\\Lib\\site-packages\\keras\\src\\backend\\common\\global_state.py:82: The name tf.reset_default_graph is deprecated. Please use tf.compat.v1.reset_default_graph instead.\n",
      "\n",
      "<KerasTensor shape=(None, 291), dtype=float32, sparse=False, name=keras_tensor_15>\n",
      "Epoch 1/5\n",
      "\u001b[1m1046/1046\u001b[0m \u001b[32m━━━━━━━━━━━━━━━━━━━━\u001b[0m\u001b[37m\u001b[0m \u001b[1m15s\u001b[0m 10ms/step - loss: 0.4186 - mae: 0.4186 - val_loss: 0.4219 - val_mae: 0.4219\n",
      "Epoch 2/5\n",
      "\u001b[1m1046/1046\u001b[0m \u001b[32m━━━━━━━━━━━━━━━━━━━━\u001b[0m\u001b[37m\u001b[0m \u001b[1m10s\u001b[0m 9ms/step - loss: 0.4176 - mae: 0.4176 - val_loss: 0.4218 - val_mae: 0.4218\n",
      "Epoch 3/5\n",
      "\u001b[1m1046/1046\u001b[0m \u001b[32m━━━━━━━━━━━━━━━━━━━━\u001b[0m\u001b[37m\u001b[0m \u001b[1m9s\u001b[0m 9ms/step - loss: 0.4174 - mae: 0.4174 - val_loss: 0.4216 - val_mae: 0.4216\n",
      "Epoch 4/5\n",
      "\u001b[1m1046/1046\u001b[0m \u001b[32m━━━━━━━━━━━━━━━━━━━━\u001b[0m\u001b[37m\u001b[0m \u001b[1m9s\u001b[0m 9ms/step - loss: 0.4171 - mae: 0.4171 - val_loss: 0.4216 - val_mae: 0.4216\n",
      "Epoch 5/5\n",
      "\u001b[1m1046/1046\u001b[0m \u001b[32m━━━━━━━━━━━━━━━━━━━━\u001b[0m\u001b[37m\u001b[0m \u001b[1m9s\u001b[0m 9ms/step - loss: 0.4171 - mae: 0.4171 - val_loss: 0.4215 - val_mae: 0.4215\n"
     ]
    }
   ],
   "source": [
    "model = build_model(lr=0.002)\n",
    "#model.summary()\n",
    "#display(tf.keras.utils.plot_model(model))\n",
    "random.seed(42)\n",
    "tf.random.set_seed(1234)\n",
    "\n",
    "history = model.fit(\n",
    "    x={\n",
    "        'bedroomcnt': X_train_std[['bedroomcnt']],\n",
    "        'roomcnt': X_train_std[['roomcnt']],\n",
    "        'bathroomcnt': X_train_std[['bathroomcnt']],\n",
    "        'taxamount': X_train_std[['taxamount']],\n",
    "        'landtaxvaluedollarcnt': X_train_std[['landtaxvaluedollarcnt']],\n",
    "        'taxvaluedollarcnt': X_train_std[['taxvaluedollarcnt']],\n",
    "        'structuretaxvaluedollarcnt': X_train_std[['structuretaxvaluedollarcnt']],\n",
    "        'latitude': X_train_std[['latitude']],\n",
    "        'longitude': X_train_std[['longitude']],\n",
    "        'lxxrnsa': X_train_std[['LXXRNSA']],\n",
    "        'year': X_train_std[['year']],  \n",
    "        'month': X_train_std[['month']],  \n",
    "        'weekday': X_train_std[['weekday']],\n",
    "        'lotsizesquarefeet': X_train_std[['lotsizesquarefeet']],\n",
    "        'calculatedfinishedsquarefeet': X_train_std[['calculatedfinishedsquarefeet']],\n",
    "        'yearbuilt': X_train_std[['yearbuilt']],\n",
    "\n",
    "    },\n",
    "    y=Y_train_std,\n",
    "    epochs=5,\n",
    "    batch_size=128,\n",
    "    validation_data=(\n",
    "        {\n",
    "            'bedroomcnt': X_val_std[['bedroomcnt']],\n",
    "            'roomcnt': X_val_std[['roomcnt']],\n",
    "            'bathroomcnt': X_val_std[['bathroomcnt']],\n",
    "            'taxamount': X_val_std[['taxamount']],\n",
    "            'landtaxvaluedollarcnt': X_val_std[['landtaxvaluedollarcnt']],\n",
    "            'taxvaluedollarcnt': X_val_std[['taxvaluedollarcnt']],\n",
    "            'structuretaxvaluedollarcnt': X_val_std[['structuretaxvaluedollarcnt']],\n",
    "            'latitude': X_val_std[['latitude']],\n",
    "            'longitude': X_val_std[['longitude']],\n",
    "            'lxxrnsa': X_val_std[['LXXRNSA']],\n",
    "            'year': X_val_std[['year']], \n",
    "            'month': X_val_std[['month']], \n",
    "            'weekday': X_val_std[['weekday']],\n",
    "            'lotsizesquarefeet': X_val_std[['lotsizesquarefeet']],\n",
    "            'calculatedfinishedsquarefeet': X_val_std[['calculatedfinishedsquarefeet']],\n",
    "            'yearbuilt': X_val_std[['yearbuilt']],\n",
    "        },\n",
    "        Y_val_std\n",
    "    )\n",
    ")"
   ]
  },
  {
   "cell_type": "code",
   "execution_count": 10,
   "metadata": {},
   "outputs": [
    {
     "name": "stdout",
     "output_type": "stream",
     "text": [
      "\u001b[1m1046/1046\u001b[0m \u001b[32m━━━━━━━━━━━━━━━━━━━━\u001b[0m\u001b[37m\u001b[0m \u001b[1m4s\u001b[0m 4ms/step\n"
     ]
    },
    {
     "data": {
      "text/plain": [
       "0.069189526"
      ]
     },
     "execution_count": 10,
     "metadata": {},
     "output_type": "execute_result"
    }
   ],
   "source": [
    "val_preds = model.predict({\n",
    "        'bedroomcnt': X_val_std[['bedroomcnt']],\n",
    "        'roomcnt': X_val_std[['roomcnt']],\n",
    "        'bathroomcnt': X_val_std[['bathroomcnt']],\n",
    "        'taxamount': X_val_std[['taxamount']],\n",
    "        'landtaxvaluedollarcnt': X_val_std[['landtaxvaluedollarcnt']],\n",
    "        'taxvaluedollarcnt': X_val_std[['taxvaluedollarcnt']],\n",
    "        'structuretaxvaluedollarcnt': X_val_std[['structuretaxvaluedollarcnt']],\n",
    "        'latitude': X_val_std[['latitude']],\n",
    "        'longitude': X_val_std[['longitude']],\n",
    "        'lxxrnsa': X_val_std[['LXXRNSA']],\n",
    "        'year': X_val_std[['year']], \n",
    "        'month': X_val_std[['month']],\n",
    "        'weekday': X_val_std[['weekday']],\n",
    "        'lotsizesquarefeet': X_val_std[['lotsizesquarefeet']],\n",
    "        'calculatedfinishedsquarefeet': X_val_std[['calculatedfinishedsquarefeet']],\n",
    "        'yearbuilt': X_val_std[['yearbuilt']],\n",
    "        \n",
    "    })\n",
    "\n",
    "# Convert to regular scale from scaled-standardized scale\n",
    "val_preds= (val_preds[:,0]*Y_train.std()) + Y_train.mean()\n",
    "get_loss(y_pred=val_preds, y_true=Y_val)"
   ]
  },
  {
   "cell_type": "markdown",
   "metadata": {},
   "source": [
    "### XGBoost"
   ]
  },
  {
   "cell_type": "code",
   "execution_count": 11,
   "metadata": {},
   "outputs": [
    {
     "name": "stdout",
     "output_type": "stream",
     "text": [
      "\u001b[1m4181/4181\u001b[0m \u001b[32m━━━━━━━━━━━━━━━━━━━━\u001b[0m\u001b[37m\u001b[0m \u001b[1m18s\u001b[0m 4ms/step\n",
      "\u001b[1m1046/1046\u001b[0m \u001b[32m━━━━━━━━━━━━━━━━━━━━\u001b[0m\u001b[37m\u001b[0m \u001b[1m4s\u001b[0m 4ms/step\n"
     ]
    }
   ],
   "source": [
    "train_preds = model.predict({\n",
    "        'bedroomcnt': X_train_std[['bedroomcnt']],\n",
    "        'roomcnt': X_train_std[['roomcnt']],\n",
    "        'bathroomcnt': X_train_std[['bathroomcnt']],\n",
    "        'taxamount': X_train_std[['taxamount']],\n",
    "        'landtaxvaluedollarcnt': X_train_std[['landtaxvaluedollarcnt']],\n",
    "        'taxvaluedollarcnt': X_train_std[['taxvaluedollarcnt']],\n",
    "        'structuretaxvaluedollarcnt': X_train_std[['structuretaxvaluedollarcnt']],\n",
    "        'latitude': X_train_std[['latitude']],\n",
    "        'longitude': X_train_std[['longitude']],\n",
    "        'lxxrnsa': X_train_std[['LXXRNSA']],\n",
    "        'year': X_train_std[['year']],  \n",
    "        'month': X_train_std[['month']],  \n",
    "        'weekday': X_train_std[['weekday']],\n",
    "        'lotsizesquarefeet': X_train_std[['lotsizesquarefeet']],\n",
    "        'calculatedfinishedsquarefeet': X_train_std[['calculatedfinishedsquarefeet']],\n",
    "        'yearbuilt': X_train_std[['yearbuilt']],\n",
    "    })\n",
    "\n",
    "val_preds = model.predict({\n",
    "        'bedroomcnt': X_val_std[['bedroomcnt']],\n",
    "        'roomcnt': X_val_std[['roomcnt']],\n",
    "        'bathroomcnt': X_val_std[['bathroomcnt']],\n",
    "        'taxamount': X_val_std[['taxamount']],\n",
    "        'landtaxvaluedollarcnt': X_val_std[['landtaxvaluedollarcnt']],\n",
    "        'taxvaluedollarcnt': X_val_std[['taxvaluedollarcnt']],\n",
    "        'structuretaxvaluedollarcnt': X_val_std[['structuretaxvaluedollarcnt']],\n",
    "        'latitude': X_val_std[['latitude']],\n",
    "        'longitude': X_val_std[['longitude']],\n",
    "        'lxxrnsa': X_val_std[['LXXRNSA']],\n",
    "        'year': X_val_std[['year']], \n",
    "        'month': X_val_std[['month']],\n",
    "        'weekday': X_val_std[['weekday']],\n",
    "        'lotsizesquarefeet': X_val_std[['lotsizesquarefeet']],\n",
    "        'calculatedfinishedsquarefeet': X_val_std[['calculatedfinishedsquarefeet']],\n",
    "        'yearbuilt': X_val_std[['yearbuilt']],\n",
    "    })\n",
    "\n"
   ]
  },
  {
   "cell_type": "code",
   "execution_count": 13,
   "metadata": {},
   "outputs": [],
   "source": [
    "d_train = xgb.DMatrix(train_preds, label = Y_train_std)\n",
    "d_valid = xgb.DMatrix(val_preds, label = Y_val_std)"
   ]
  },
  {
   "cell_type": "code",
   "execution_count": 15,
   "metadata": {},
   "outputs": [
    {
     "name": "stdout",
     "output_type": "stream",
     "text": [
      "[0]\ttrain-mae:0.41942\tvalid-mae:0.42691\n"
     ]
    },
    {
     "name": "stderr",
     "output_type": "stream",
     "text": [
      "c:\\Users\\ashet\\anaconda3\\envs\\ml\\Lib\\site-packages\\xgboost\\core.py:723: FutureWarning: Pass `evals` as keyword args.\n",
      "  warnings.warn(msg, FutureWarning)\n",
      "c:\\Users\\ashet\\anaconda3\\envs\\ml\\Lib\\site-packages\\xgboost\\core.py:158: UserWarning: [12:51:44] WARNING: C:\\buildkite-agent\\builds\\buildkite-windows-cpu-autoscaling-group-i-0015a694724fa8361-1\\xgboost\\xgboost-ci-windows\\src\\learner.cc:740: \n",
      "Parameters: { \"silent\" } are not used.\n",
      "\n",
      "  warnings.warn(smsg, UserWarning)\n"
     ]
    },
    {
     "name": "stdout",
     "output_type": "stream",
     "text": [
      "[10]\ttrain-mae:0.41865\tvalid-mae:0.42621\n",
      "[20]\ttrain-mae:0.41812\tvalid-mae:0.42575\n",
      "[30]\ttrain-mae:0.41776\tvalid-mae:0.42544\n",
      "[40]\ttrain-mae:0.41746\tvalid-mae:0.42521\n",
      "[50]\ttrain-mae:0.41724\tvalid-mae:0.42503\n",
      "[60]\ttrain-mae:0.41704\tvalid-mae:0.42487\n",
      "[70]\ttrain-mae:0.41688\tvalid-mae:0.42475\n",
      "[80]\ttrain-mae:0.41675\tvalid-mae:0.42466\n",
      "[90]\ttrain-mae:0.41665\tvalid-mae:0.42460\n",
      "[100]\ttrain-mae:0.41657\tvalid-mae:0.42455\n",
      "[110]\ttrain-mae:0.41651\tvalid-mae:0.42452\n",
      "[120]\ttrain-mae:0.41647\tvalid-mae:0.42451\n",
      "[130]\ttrain-mae:0.41644\tvalid-mae:0.42451\n",
      "[140]\ttrain-mae:0.41642\tvalid-mae:0.42451\n",
      "[150]\ttrain-mae:0.41640\tvalid-mae:0.42452\n",
      "[160]\ttrain-mae:0.41639\tvalid-mae:0.42452\n",
      "[170]\ttrain-mae:0.41639\tvalid-mae:0.42454\n",
      "[180]\ttrain-mae:0.41638\tvalid-mae:0.42454\n",
      "[190]\ttrain-mae:0.41638\tvalid-mae:0.42456\n",
      "[200]\ttrain-mae:0.41639\tvalid-mae:0.42457\n",
      "[210]\ttrain-mae:0.41639\tvalid-mae:0.42459\n",
      "[220]\ttrain-mae:0.41640\tvalid-mae:0.42461\n",
      "[230]\ttrain-mae:0.41641\tvalid-mae:0.42463\n",
      "[233]\ttrain-mae:0.41641\tvalid-mae:0.42463\n"
     ]
    }
   ],
   "source": [
    "params = {}\n",
    "params['eta'] = 0.02\n",
    "params['objective'] = 'reg:squarederror'\n",
    "params['eval_metric'] = 'mae'\n",
    "params['max_depth'] = 1\n",
    "params['silent'] = 1\n",
    "\n",
    "watchlist = [(d_train, 'train'), (d_valid, 'valid')]\n",
    "clf = xgb.train(params, d_train, 1000, watchlist,\n",
    "                early_stopping_rounds=100, verbose_eval=10)"
   ]
  },
  {
   "cell_type": "code",
   "execution_count": 16,
   "metadata": {},
   "outputs": [
    {
     "data": {
      "text/plain": [
       "0.0697121"
      ]
     },
     "execution_count": 16,
     "metadata": {},
     "output_type": "execute_result"
    }
   ],
   "source": [
    "# Get final loss, it's bad\n",
    "forest_val = (clf.predict(d_valid)*Y_train.std()) + Y_train.mean()\n",
    "get_loss(y_pred=forest_val, y_true=Y_val)"
   ]
  },
  {
   "cell_type": "markdown",
   "metadata": {},
   "source": [
    "### Hyperparameter Tuning"
   ]
  },
  {
   "cell_type": "code",
   "execution_count": 18,
   "metadata": {},
   "outputs": [
    {
     "name": "stderr",
     "output_type": "stream",
     "text": [
      "[I 2024-08-04 12:52:14,702] A new study created in memory with name: no-name-e7476c05-6ad4-4e75-abe5-7396810111d4\n",
      "[I 2024-08-04 12:52:18,743] Trial 0 finished with value: 0.42466538901704753 and parameters: {'eta': 0.021891280668566063, 'max_depth': 6, 'subsample': 0.6426508708876639, 'colsample_bytree': 0.724689978636257, 'lambda': 0.10531877947587076, 'alpha': 0.02712769698514286}. Best is trial 0 with value: 0.42466538901704753.\n",
      "[I 2024-08-04 12:52:22,413] Trial 1 finished with value: 0.42471122506319176 and parameters: {'eta': 0.03891277265259157, 'max_depth': 6, 'subsample': 0.9957094867092299, 'colsample_bytree': 0.9444806160905179, 'lambda': 8.400121339528692e-07, 'alpha': 0.002777388974730232}. Best is trial 0 with value: 0.42466538901704753.\n",
      "[I 2024-08-04 12:52:24,647] Trial 2 finished with value: 0.4244901194906469 and parameters: {'eta': 0.054532821753224464, 'max_depth': 1, 'subsample': 0.9808767998962851, 'colsample_bytree': 0.8816139491606669, 'lambda': 4.233266884294445e-07, 'alpha': 0.031430778129361826}. Best is trial 2 with value: 0.4244901194906469.\n",
      "[I 2024-08-04 12:52:27,483] Trial 3 finished with value: 0.42444714257440774 and parameters: {'eta': 0.011666930094943337, 'max_depth': 2, 'subsample': 0.8116314582880721, 'colsample_bytree': 0.937313446267886, 'lambda': 0.5381155851522343, 'alpha': 0.0002666212989286312}. Best is trial 3 with value: 0.42444714257440774.\n",
      "[I 2024-08-04 12:52:29,619] Trial 4 finished with value: 0.4247775929627766 and parameters: {'eta': 0.07821679780993475, 'max_depth': 7, 'subsample': 0.8715901869470071, 'colsample_bytree': 0.668030087873191, 'lambda': 0.012893494136602382, 'alpha': 0.00020323601633112588}. Best is trial 3 with value: 0.42444714257440774.\n",
      "[I 2024-08-04 12:52:31,678] Trial 5 finished with value: 0.42477974718229816 and parameters: {'eta': 0.08677451981668445, 'max_depth': 7, 'subsample': 0.8756056055186048, 'colsample_bytree': 0.7206144715832199, 'lambda': 0.032321922757896186, 'alpha': 0.05434822660939547}. Best is trial 3 with value: 0.42444714257440774.\n",
      "[I 2024-08-04 12:52:33,594] Trial 6 finished with value: 0.42464227379666253 and parameters: {'eta': 0.09035567491127554, 'max_depth': 6, 'subsample': 0.8550324534496618, 'colsample_bytree': 0.9913543446047719, 'lambda': 7.991590760621945e-08, 'alpha': 0.018928317692162015}. Best is trial 3 with value: 0.42444714257440774.\n",
      "[I 2024-08-04 12:52:36,476] Trial 7 finished with value: 0.42462845397715054 and parameters: {'eta': 0.037929045456709116, 'max_depth': 5, 'subsample': 0.9344558828423457, 'colsample_bytree': 0.9104761009260414, 'lambda': 0.0005971371948877326, 'alpha': 7.963613918084627e-07}. Best is trial 3 with value: 0.42444714257440774.\n",
      "[I 2024-08-04 12:52:38,310] Trial 8 finished with value: 0.42447861839159184 and parameters: {'eta': 0.03418906371685361, 'max_depth': 2, 'subsample': 0.8520542083851643, 'colsample_bytree': 0.7317729964384855, 'lambda': 0.00016437355656079235, 'alpha': 2.391248324540662e-06}. Best is trial 3 with value: 0.42444714257440774.\n",
      "[I 2024-08-04 12:52:41,304] Trial 9 finished with value: 0.42457448738778647 and parameters: {'eta': 0.01431182620725173, 'max_depth': 5, 'subsample': 0.6359779062714687, 'colsample_bytree': 0.9678833488904525, 'lambda': 1.7375393136296235e-08, 'alpha': 4.8681427753383626e-08}. Best is trial 3 with value: 0.42444714257440774.\n",
      "[I 2024-08-04 12:52:43,394] Trial 10 finished with value: 0.4244894537496696 and parameters: {'eta': 0.06413792592928608, 'max_depth': 3, 'subsample': 0.7478480652880415, 'colsample_bytree': 0.8334298289239009, 'lambda': 0.7835046868232084, 'alpha': 4.0586119074711334e-05}. Best is trial 3 with value: 0.42444714257440774.\n",
      "[I 2024-08-04 12:52:46,336] Trial 11 finished with value: 0.4244307491438331 and parameters: {'eta': 0.028101552427427005, 'max_depth': 1, 'subsample': 0.7591952071049763, 'colsample_bytree': 0.6023273988644302, 'lambda': 2.565175535736139e-05, 'alpha': 4.953139869413688e-06}. Best is trial 11 with value: 0.4244307491438331.\n",
      "[I 2024-08-04 12:52:48,674] Trial 12 finished with value: 0.42448685784943485 and parameters: {'eta': 0.015551831492264745, 'max_depth': 3, 'subsample': 0.7552517907727859, 'colsample_bytree': 0.6296433231795889, 'lambda': 1.2047882485813639e-05, 'alpha': 7.474595839448109e-05}. Best is trial 11 with value: 0.4244307491438331.\n",
      "[I 2024-08-04 12:52:53,065] Trial 13 finished with value: 0.42492591456440404 and parameters: {'eta': 0.027505484453534318, 'max_depth': 9, 'subsample': 0.7195753490603737, 'colsample_bytree': 0.8177255245993582, 'lambda': 0.0019419140207906054, 'alpha': 2.8606025426159745e-06}. Best is trial 11 with value: 0.4244307491438331.\n",
      "[I 2024-08-04 12:52:56,132] Trial 14 finished with value: 0.4244605926645569 and parameters: {'eta': 0.04927102292238353, 'max_depth': 1, 'subsample': 0.7875663816286035, 'colsample_bytree': 0.602958379609996, 'lambda': 1.774636290397249e-05, 'alpha': 0.7137148899948074}. Best is trial 11 with value: 0.4244307491438331.\n",
      "[I 2024-08-04 12:53:00,222] Trial 15 finished with value: 0.4244767459216823 and parameters: {'eta': 0.013562659153750416, 'max_depth': 3, 'subsample': 0.70146085051211, 'colsample_bytree': 0.7877110512369249, 'lambda': 8.864054984592839e-06, 'alpha': 0.0010341356235921682}. Best is trial 11 with value: 0.4244307491438331.\n",
      "[I 2024-08-04 12:53:02,337] Trial 16 finished with value: 0.4244589784276438 and parameters: {'eta': 0.026508001729202764, 'max_depth': 2, 'subsample': 0.7867407335317658, 'colsample_bytree': 0.8979390342074046, 'lambda': 0.9519203989547168, 'alpha': 5.2599485132247683e-08}. Best is trial 11 with value: 0.4244307491438331.\n",
      "[I 2024-08-04 12:53:04,712] Trial 17 finished with value: 0.4245743916216439 and parameters: {'eta': 0.06538023619902127, 'max_depth': 4, 'subsample': 0.8179642003373998, 'colsample_bytree': 0.7806477925283066, 'lambda': 0.0036213622119156096, 'alpha': 1.8890043250638443e-05}. Best is trial 11 with value: 0.4244307491438331.\n",
      "[I 2024-08-04 12:53:08,039] Trial 18 finished with value: 0.42446902565790584 and parameters: {'eta': 0.04889999244209795, 'max_depth': 1, 'subsample': 0.6732626140349861, 'colsample_bytree': 0.8625787154664607, 'lambda': 8.26490496030052e-05, 'alpha': 2.390556483051382e-07}. Best is trial 11 with value: 0.4244307491438331.\n",
      "[I 2024-08-04 12:53:11,718] Trial 19 finished with value: 0.42447151386716336 and parameters: {'eta': 0.023189690173340306, 'max_depth': 2, 'subsample': 0.6002367349228716, 'colsample_bytree': 0.6903695678688556, 'lambda': 1.7872587559752746e-06, 'alpha': 7.794135218953425e-06}. Best is trial 11 with value: 0.4244307491438331.\n",
      "[I 2024-08-04 12:53:14,462] Trial 20 finished with value: 0.4245547313522134 and parameters: {'eta': 0.0347250461395057, 'max_depth': 4, 'subsample': 0.9219841706840262, 'colsample_bytree': 0.9246136000267335, 'lambda': 0.0001918327455718121, 'alpha': 0.0005302347253919342}. Best is trial 11 with value: 0.4244307491438331.\n",
      "[I 2024-08-04 12:53:19,440] Trial 21 finished with value: 0.424440798222007 and parameters: {'eta': 0.010462109366088572, 'max_depth': 2, 'subsample': 0.8005382439542984, 'colsample_bytree': 0.8914742786717985, 'lambda': 0.16497164059851535, 'alpha': 1.2992983589949396e-08}. Best is trial 11 with value: 0.4244307491438331.\n",
      "[I 2024-08-04 12:53:22,743] Trial 22 finished with value: 0.424444771766895 and parameters: {'eta': 0.010550906457477057, 'max_depth': 2, 'subsample': 0.8156809848495629, 'colsample_bytree': 0.8591180766277386, 'lambda': 0.12648791831275855, 'alpha': 1.7804399281930114e-07}. Best is trial 11 with value: 0.4244307491438331.\n",
      "[I 2024-08-04 12:53:25,896] Trial 23 finished with value: 0.42443189519041047 and parameters: {'eta': 0.01996688389127087, 'max_depth': 1, 'subsample': 0.7578849172294168, 'colsample_bytree': 0.8610444896831547, 'lambda': 0.07186151014539782, 'alpha': 2.6739828708506825e-08}. Best is trial 11 with value: 0.4244307491438331.\n",
      "[I 2024-08-04 12:53:29,985] Trial 24 finished with value: 0.4244336023877105 and parameters: {'eta': 0.02121565522499365, 'max_depth': 1, 'subsample': 0.750858685569774, 'colsample_bytree': 0.7605733033148296, 'lambda': 0.009312040840542433, 'alpha': 1.299092967118242e-08}. Best is trial 11 with value: 0.4244307491438331.\n",
      "[I 2024-08-04 12:53:32,388] Trial 25 finished with value: 0.42447432684379993 and parameters: {'eta': 0.04408343111470714, 'max_depth': 1, 'subsample': 0.7571220593087202, 'colsample_bytree': 0.759438526898477, 'lambda': 0.007057241846796499, 'alpha': 1.9722372717674538e-08}. Best is trial 11 with value: 0.4244307491438331.\n",
      "[I 2024-08-04 12:53:35,540] Trial 26 finished with value: 0.4244127197735508 and parameters: {'eta': 0.03026364551812057, 'max_depth': 1, 'subsample': 0.7138080775779367, 'colsample_bytree': 0.6474283903652601, 'lambda': 0.0008608516951166133, 'alpha': 2.1065095620215015e-07}. Best is trial 26 with value: 0.4244127197735508.\n",
      "[I 2024-08-04 12:53:37,659] Trial 27 finished with value: 0.4245408393850549 and parameters: {'eta': 0.029700230372117897, 'max_depth': 4, 'subsample': 0.7107669957669336, 'colsample_bytree': 0.6454103868884399, 'lambda': 0.000714677619750889, 'alpha': 4.123194970922107e-07}. Best is trial 26 with value: 0.4244127197735508.\n",
      "[I 2024-08-04 12:53:39,613] Trial 28 finished with value: 0.4244957354233861 and parameters: {'eta': 0.04232270784449654, 'max_depth': 3, 'subsample': 0.6773216409786305, 'colsample_bytree': 0.6002052587311066, 'lambda': 3.3050226736234263e-05, 'alpha': 1.2116059588020805e-06}. Best is trial 26 with value: 0.4244127197735508.\n",
      "[I 2024-08-04 12:53:43,675] Trial 29 finished with value: 0.4248834051535101 and parameters: {'eta': 0.02000739197366721, 'max_depth': 9, 'subsample': 0.661857204560267, 'colsample_bytree': 0.6722070882544792, 'lambda': 0.040395953597318235, 'alpha': 8.435898175255756e-08}. Best is trial 26 with value: 0.4244127197735508.\n",
      "[I 2024-08-04 12:53:46,553] Trial 30 finished with value: 0.42441684648568656 and parameters: {'eta': 0.03120905056238298, 'max_depth': 1, 'subsample': 0.7321556453241752, 'colsample_bytree': 0.7107259742665327, 'lambda': 0.001105105394072681, 'alpha': 7.451674542105733e-06}. Best is trial 26 with value: 0.4244127197735508.\n",
      "[I 2024-08-04 12:53:50,523] Trial 31 finished with value: 0.4244079026985867 and parameters: {'eta': 0.03050963240478877, 'max_depth': 1, 'subsample': 0.7281849324768006, 'colsample_bytree': 0.6349345887376519, 'lambda': 0.0009581020224562085, 'alpha': 7.793490025660552e-06}. Best is trial 31 with value: 0.4244079026985867.\n",
      "[I 2024-08-04 12:53:53,443] Trial 32 finished with value: 0.4244174009414719 and parameters: {'eta': 0.0302226699436166, 'max_depth': 1, 'subsample': 0.7124045360815672, 'colsample_bytree': 0.6344405684052068, 'lambda': 0.0008718766162168575, 'alpha': 8.329597174766821e-06}. Best is trial 31 with value: 0.4244079026985867.\n",
      "[I 2024-08-04 12:53:55,834] Trial 33 finished with value: 0.4244109855920923 and parameters: {'eta': 0.03272019105562809, 'max_depth': 1, 'subsample': 0.7245048261395473, 'colsample_bytree': 0.6384168864189174, 'lambda': 0.0009908984402218202, 'alpha': 1.4719387446204056e-05}. Best is trial 31 with value: 0.4244079026985867.\n",
      "[I 2024-08-04 12:53:58,201] Trial 34 finished with value: 0.4244908218788331 and parameters: {'eta': 0.057401888410462565, 'max_depth': 2, 'subsample': 0.6431268346892773, 'colsample_bytree': 0.7035184060956898, 'lambda': 0.0003483982455374502, 'alpha': 2.3004893255213336e-05}. Best is trial 31 with value: 0.4244079026985867.\n",
      "[I 2024-08-04 12:54:00,394] Trial 35 finished with value: 0.42442479577511777 and parameters: {'eta': 0.03533771097293208, 'max_depth': 1, 'subsample': 0.7267170307595424, 'colsample_bytree': 0.6621322638821967, 'lambda': 0.0015798371332663784, 'alpha': 6.852903927513534e-05}. Best is trial 31 with value: 0.4244079026985867.\n",
      "[I 2024-08-04 12:54:02,488] Trial 36 finished with value: 0.4245022476252031 and parameters: {'eta': 0.04257056555572959, 'max_depth': 2, 'subsample': 0.6891602889746441, 'colsample_bytree': 0.6882632895301363, 'lambda': 7.608555070013925e-05, 'alpha': 9.331472791908979e-07}. Best is trial 31 with value: 0.4244079026985867.\n",
      "[I 2024-08-04 12:54:05,673] Trial 37 finished with value: 0.42449076481251535 and parameters: {'eta': 0.04957399350642489, 'max_depth': 3, 'subsample': 0.7354269558419518, 'colsample_bytree': 0.6456103275615679, 'lambda': 0.003338854535761603, 'alpha': 0.000246869905283954}. Best is trial 31 with value: 0.4244079026985867.\n",
      "[I 2024-08-04 12:54:09,133] Trial 38 finished with value: 0.42476064941036346 and parameters: {'eta': 0.03862914767774204, 'max_depth': 7, 'subsample': 0.784879695681137, 'colsample_bytree': 0.7313258803732987, 'lambda': 0.013048445555891656, 'alpha': 1.6105080708295e-05}. Best is trial 31 with value: 0.4244079026985867.\n",
      "[I 2024-08-04 12:54:12,668] Trial 39 finished with value: 0.42486310327637405 and parameters: {'eta': 0.09818707335918742, 'max_depth': 8, 'subsample': 0.6550237329825235, 'colsample_bytree': 0.6208419267790636, 'lambda': 4.9008464677292884e-06, 'alpha': 0.0049479545758692785}. Best is trial 31 with value: 0.4244079026985867.\n",
      "[I 2024-08-04 12:54:15,915] Trial 40 finished with value: 0.424454477303174 and parameters: {'eta': 0.03235064659384504, 'max_depth': 2, 'subsample': 0.6946514272218507, 'colsample_bytree': 0.6637165422224265, 'lambda': 0.00020292849560537941, 'alpha': 4.570257870020776e-07}. Best is trial 31 with value: 0.4244079026985867.\n",
      "[I 2024-08-04 12:54:19,641] Trial 41 finished with value: 0.4244200211033861 and parameters: {'eta': 0.024526180417935785, 'max_depth': 1, 'subsample': 0.7151894350749068, 'colsample_bytree': 0.6321638665590328, 'lambda': 0.0010438152987507585, 'alpha': 8.188780471395508e-06}. Best is trial 31 with value: 0.4244079026985867.\n",
      "[I 2024-08-04 12:54:22,898] Trial 42 finished with value: 0.42439548777767666 and parameters: {'eta': 0.030304262976597284, 'max_depth': 1, 'subsample': 0.6279596654879951, 'colsample_bytree': 0.7091423003349848, 'lambda': 0.00045543927184549303, 'alpha': 2.2001642398561293e-06}. Best is trial 42 with value: 0.42439548777767666.\n",
      "[I 2024-08-04 12:54:25,849] Trial 43 finished with value: 0.42439182393392727 and parameters: {'eta': 0.03897530763590243, 'max_depth': 1, 'subsample': 0.613448124838634, 'colsample_bytree': 0.7178869660668258, 'lambda': 0.0003506027329386582, 'alpha': 2.396994720147981e-06}. Best is trial 43 with value: 0.42439182393392727.\n",
      "[I 2024-08-04 12:54:28,300] Trial 44 finished with value: 0.42445381861451764 and parameters: {'eta': 0.04001853492119302, 'max_depth': 2, 'subsample': 0.6228398361818892, 'colsample_bytree': 0.680962830751037, 'lambda': 0.0003208763368876455, 'alpha': 2.05402944495414e-06}. Best is trial 43 with value: 0.42439182393392727.\n",
      "[I 2024-08-04 12:54:31,335] Trial 45 finished with value: 0.4243840456001108 and parameters: {'eta': 0.01761922281532648, 'max_depth': 1, 'subsample': 0.600477964740588, 'colsample_bytree': 0.7464179179039164, 'lambda': 7.134276381592245e-05, 'alpha': 1.341067510433756e-07}. Best is trial 45 with value: 0.4243840456001108.\n",
      "[I 2024-08-04 12:54:33,927] Trial 46 finished with value: 0.42465976310761067 and parameters: {'eta': 0.017704346366828515, 'max_depth': 6, 'subsample': 0.6141930603276595, 'colsample_bytree': 0.7455908341798535, 'lambda': 4.971745014224874e-05, 'alpha': 2.8661737363683943e-06}. Best is trial 45 with value: 0.4243840456001108.\n",
      "[I 2024-08-04 12:54:36,594] Trial 47 finished with value: 0.4244603861154764 and parameters: {'eta': 0.02465647737933615, 'max_depth': 2, 'subsample': 0.6018615281593688, 'colsample_bytree': 0.7193663745090366, 'lambda': 0.00010757128520548677, 'alpha': 3.839259546216655e-05}. Best is trial 45 with value: 0.4243840456001108.\n",
      "[I 2024-08-04 12:54:40,220] Trial 48 finished with value: 0.4244424279186632 and parameters: {'eta': 0.05509776199202575, 'max_depth': 1, 'subsample': 0.6349601481339068, 'colsample_bytree': 0.7473546915227155, 'lambda': 0.0035826071682774187, 'alpha': 0.00010514508316996699}. Best is trial 45 with value: 0.4243840456001108.\n",
      "[I 2024-08-04 12:54:42,499] Trial 49 finished with value: 0.4244869233008231 and parameters: {'eta': 0.04655322444459019, 'max_depth': 3, 'subsample': 0.6200164324841582, 'colsample_bytree': 0.7006191779212539, 'lambda': 1.4723513529976408e-07, 'alpha': 1.4681265178110674e-06}. Best is trial 45 with value: 0.4243840456001108.\n",
      "[I 2024-08-04 12:54:45,810] Trial 50 finished with value: 0.4243819082558991 and parameters: {'eta': 0.03664149784899949, 'max_depth': 1, 'subsample': 0.6529720326294108, 'colsample_bytree': 0.805631107111403, 'lambda': 0.00038738799963366246, 'alpha': 4.821783566073323e-07}. Best is trial 50 with value: 0.4243819082558991.\n",
      "[I 2024-08-04 12:54:48,122] Trial 51 finished with value: 0.424374998321953 and parameters: {'eta': 0.03645539443085783, 'max_depth': 1, 'subsample': 0.6585870586005471, 'colsample_bytree': 0.782952071578565, 'lambda': 0.0003767376751845663, 'alpha': 5.605457358072697e-07}. Best is trial 51 with value: 0.424374998321953.\n",
      "[I 2024-08-04 12:54:50,160] Trial 52 finished with value: 0.42440156973008347 and parameters: {'eta': 0.037931388225574125, 'max_depth': 1, 'subsample': 0.6489659203121694, 'colsample_bytree': 0.7967602132293515, 'lambda': 0.00038787589746668147, 'alpha': 1.1574785627301704e-07}. Best is trial 51 with value: 0.424374998321953.\n",
      "[I 2024-08-04 12:54:51,992] Trial 53 finished with value: 0.42444583335494124 and parameters: {'eta': 0.03735878359376233, 'max_depth': 2, 'subsample': 0.6493837466454317, 'colsample_bytree': 0.8145669064195776, 'lambda': 0.00037272471588451595, 'alpha': 1.0768392213684268e-07}. Best is trial 51 with value: 0.424374998321953.\n",
      "[I 2024-08-04 12:54:53,678] Trial 54 finished with value: 0.42443293895375755 and parameters: {'eta': 0.06871692295904613, 'max_depth': 1, 'subsample': 0.628837198764963, 'colsample_bytree': 0.7934703403297279, 'lambda': 0.00014101645511914684, 'alpha': 5.323077215229563e-07}. Best is trial 51 with value: 0.424374998321953.\n",
      "[I 2024-08-04 12:54:55,415] Trial 55 finished with value: 0.42448407799725935 and parameters: {'eta': 0.05256569797710041, 'max_depth': 2, 'subsample': 0.66342499126939, 'colsample_bytree': 0.7758496536067124, 'lambda': 7.562560418009817e-06, 'alpha': 3.679026432573811e-08}. Best is trial 51 with value: 0.424374998321953.\n",
      "[I 2024-08-04 12:54:57,581] Trial 56 finished with value: 0.42439274262061016 and parameters: {'eta': 0.036963901772082516, 'max_depth': 1, 'subsample': 0.6093748256014765, 'colsample_bytree': 0.8113767286122745, 'lambda': 5.2830461869775926e-05, 'alpha': 1.4830240100760228e-07}. Best is trial 51 with value: 0.424374998321953.\n",
      "[I 2024-08-04 12:55:00,920] Trial 57 finished with value: 0.42443272693665207 and parameters: {'eta': 0.01618793733110002, 'max_depth': 2, 'subsample': 0.6172775140937382, 'colsample_bytree': 0.8349023865504547, 'lambda': 1.9873853614899598e-05, 'alpha': 2.698872980674455e-07}. Best is trial 51 with value: 0.424374998321953.\n",
      "[I 2024-08-04 12:55:03,139] Trial 58 finished with value: 0.4244469603928391 and parameters: {'eta': 0.045363959535977244, 'max_depth': 1, 'subsample': 0.6049311472198333, 'colsample_bytree': 0.810299230277263, 'lambda': 4.726416750756427e-05, 'alpha': 6.066802227783746e-08}. Best is trial 51 with value: 0.424374998321953.\n",
      "[I 2024-08-04 12:55:05,004] Trial 59 finished with value: 0.42448337030146627 and parameters: {'eta': 0.026433811907717715, 'max_depth': 3, 'subsample': 0.6746223770263078, 'colsample_bytree': 0.7738761960082472, 'lambda': 5.311913490915589e-06, 'alpha': 3.2415023990139732e-06}. Best is trial 51 with value: 0.424374998321953.\n",
      "[I 2024-08-04 12:55:06,909] Trial 60 finished with value: 0.424461109568703 and parameters: {'eta': 0.035537846911003576, 'max_depth': 2, 'subsample': 0.6300365447216113, 'colsample_bytree': 0.8354091222615229, 'lambda': 2.2995347218811987e-06, 'alpha': 6.770079623951144e-07}. Best is trial 51 with value: 0.424374998321953.\n",
      "[I 2024-08-04 12:55:09,648] Trial 61 finished with value: 0.42439957297351805 and parameters: {'eta': 0.04031235702802294, 'max_depth': 1, 'subsample': 0.6459837935367104, 'colsample_bytree': 0.7994025619310429, 'lambda': 0.00025396738026204203, 'alpha': 1.1080242088274082e-07}. Best is trial 51 with value: 0.424374998321953.\n",
      "[I 2024-08-04 12:55:12,347] Trial 62 finished with value: 0.42443062327696857 and parameters: {'eta': 0.04033474213338859, 'max_depth': 1, 'subsample': 0.6373656512737451, 'colsample_bytree': 0.7442078460549754, 'lambda': 6.699594575898704e-05, 'alpha': 1.5864584296696766e-07}. Best is trial 51 with value: 0.424374998321953.\n",
      "[I 2024-08-04 12:55:14,199] Trial 63 finished with value: 0.4244253632179325 and parameters: {'eta': 0.04868812409437328, 'max_depth': 1, 'subsample': 0.6063881025945583, 'colsample_bytree': 0.8232554321774948, 'lambda': 0.0002260674167950224, 'alpha': 3.483820743913648e-07}. Best is trial 51 with value: 0.424374998321953.\n",
      "[I 2024-08-04 12:55:16,559] Trial 64 finished with value: 0.42439678623000215 and parameters: {'eta': 0.033599362339696015, 'max_depth': 1, 'subsample': 0.6860054660909374, 'colsample_bytree': 0.7672418277669315, 'lambda': 3.039765757267036e-05, 'alpha': 9.038351109195371e-07}. Best is trial 51 with value: 0.424374998321953.\n",
      "[I 2024-08-04 12:55:19,991] Trial 65 finished with value: 0.42438972374037104 and parameters: {'eta': 0.03530777710726778, 'max_depth': 1, 'subsample': 0.6823286981444032, 'colsample_bytree': 0.7618395560243166, 'lambda': 2.5680404060516035e-05, 'alpha': 9.935682785614694e-07}. Best is trial 51 with value: 0.424374998321953.\n",
      "[I 2024-08-04 12:55:22,930] Trial 66 finished with value: 0.4244721537464423 and parameters: {'eta': 0.02645478621449371, 'max_depth': 2, 'subsample': 0.6664314554951091, 'colsample_bytree': 0.7561441782442053, 'lambda': 1.2367356103122027e-05, 'alpha': 1.4141596065394454e-06}. Best is trial 51 with value: 0.424374998321953.\n",
      "[I 2024-08-04 12:55:28,571] Trial 67 finished with value: 0.424496667056995 and parameters: {'eta': 0.022711906313829577, 'max_depth': 1, 'subsample': 0.9561160468635261, 'colsample_bytree': 0.7279026677237966, 'lambda': 0.0001119523217325765, 'alpha': 4.427864757144685e-06}. Best is trial 51 with value: 0.424374998321953.\n",
      "[I 2024-08-04 12:55:30,400] Trial 68 finished with value: 0.4244506840379284 and parameters: {'eta': 0.03606608060301255, 'max_depth': 2, 'subsample': 0.6202816479599119, 'colsample_bytree': 0.7862547978755298, 'lambda': 0.0022247668600242675, 'alpha': 3.276926301348014e-08}. Best is trial 51 with value: 0.424374998321953.\n",
      "[I 2024-08-04 12:55:32,308] Trial 69 finished with value: 0.42460505610779353 and parameters: {'eta': 0.028612242416053525, 'max_depth': 5, 'subsample': 0.6595130196424902, 'colsample_bytree': 0.8493614856843885, 'lambda': 0.00046372046678013113, 'alpha': 3.525839280001439e-07}. Best is trial 51 with value: 0.424374998321953.\n",
      "[I 2024-08-04 12:55:36,877] Trial 70 finished with value: 0.4244649100293931 and parameters: {'eta': 0.012881533388949838, 'max_depth': 1, 'subsample': 0.8404748919016728, 'colsample_bytree': 0.7200398213019167, 'lambda': 8.893397911880493e-07, 'alpha': 0.24780246117461305}. Best is trial 51 with value: 0.424374998321953.\n",
      "[I 2024-08-04 12:55:39,469] Trial 71 finished with value: 0.42441032241524274 and parameters: {'eta': 0.03359137695255849, 'max_depth': 1, 'subsample': 0.6907668598179241, 'colsample_bytree': 0.7678202199951839, 'lambda': 2.5610815892750666e-05, 'alpha': 7.854036087925774e-07}. Best is trial 51 with value: 0.424374998321953.\n",
      "[I 2024-08-04 12:55:41,967] Trial 72 finished with value: 0.42441554718901386 and parameters: {'eta': 0.04208551970712453, 'max_depth': 1, 'subsample': 0.6814581316473725, 'colsample_bytree': 0.7387211082308055, 'lambda': 3.8464892796232305e-05, 'alpha': 1.95579934344016e-06}. Best is trial 51 with value: 0.424374998321953.\n",
      "[I 2024-08-04 12:55:44,306] Trial 73 finished with value: 0.4243807103312667 and parameters: {'eta': 0.03307259352315713, 'max_depth': 1, 'subsample': 0.6391463383702913, 'colsample_bytree': 0.7642996273962717, 'lambda': 1.535526824290652e-05, 'alpha': 9.574512661617036e-07}. Best is trial 51 with value: 0.424374998321953.\n",
      "[I 2024-08-04 12:55:46,856] Trial 74 finished with value: 0.42442682988702823 and parameters: {'eta': 0.04361585815162489, 'max_depth': 1, 'subsample': 0.6365442234554717, 'colsample_bytree': 0.7568022261841947, 'lambda': 7.245275338113222e-05, 'alpha': 2.2863457536203594e-07}. Best is trial 51 with value: 0.424374998321953.\n",
      "[I 2024-08-04 12:55:50,473] Trial 75 finished with value: 0.42444604652525525 and parameters: {'eta': 0.017948181819540034, 'max_depth': 2, 'subsample': 0.6102774608576838, 'colsample_bytree': 0.7105347674002401, 'lambda': 2.994376981505274e-06, 'alpha': 6.89181251346948e-08}. Best is trial 51 with value: 0.424374998321953.\n",
      "[I 2024-08-04 12:55:54,286] Trial 76 finished with value: 0.42440044609714717 and parameters: {'eta': 0.027956958957546553, 'max_depth': 1, 'subsample': 0.625311814500295, 'colsample_bytree': 0.7816157169099565, 'lambda': 1.3285076124613404e-05, 'alpha': 1.942689383983364e-08}. Best is trial 51 with value: 0.424374998321953.\n",
      "[I 2024-08-04 12:55:57,683] Trial 77 finished with value: 0.4245132496024979 and parameters: {'eta': 0.07900768952361881, 'max_depth': 2, 'subsample': 0.6696108982383365, 'colsample_bytree': 0.8079159437513507, 'lambda': 0.0005832451812542506, 'alpha': 6.461860566291155e-07}. Best is trial 51 with value: 0.424374998321953.\n",
      "[I 2024-08-04 12:56:00,367] Trial 78 finished with value: 0.42442902861061094 and parameters: {'eta': 0.0594944656681852, 'max_depth': 1, 'subsample': 0.6518716064017268, 'colsample_bytree': 0.8249850936138795, 'lambda': 0.00013244819510360047, 'alpha': 1.3048080021773223e-06}. Best is trial 51 with value: 0.424374998321953.\n",
      "[I 2024-08-04 12:56:02,422] Trial 79 finished with value: 0.4244690556170706 and parameters: {'eta': 0.04635698872996231, 'max_depth': 1, 'subsample': 0.6403430648009841, 'colsample_bytree': 0.7531806830135266, 'lambda': 0.0001753258781425602, 'alpha': 4.630197581399734e-06}. Best is trial 51 with value: 0.424374998321953.\n",
      "[I 2024-08-04 12:56:05,225] Trial 80 finished with value: 0.42446074122417865 and parameters: {'eta': 0.03206964517777428, 'max_depth': 2, 'subsample': 0.7047831190303774, 'colsample_bytree': 0.8753117364255202, 'lambda': 0.001900895029319802, 'alpha': 1.6184013881787047e-07}. Best is trial 51 with value: 0.424374998321953.\n",
      "[I 2024-08-04 12:56:07,574] Trial 81 finished with value: 0.4243902932278989 and parameters: {'eta': 0.0340688366899873, 'max_depth': 1, 'subsample': 0.684375502393909, 'colsample_bytree': 0.7360929034473681, 'lambda': 2.5795865137210683e-05, 'alpha': 8.635135966370452e-07}. Best is trial 51 with value: 0.424374998321953.\n",
      "[I 2024-08-04 12:56:09,602] Trial 82 finished with value: 0.4243965231554799 and parameters: {'eta': 0.03808163429776125, 'max_depth': 1, 'subsample': 0.6131805526912807, 'colsample_bytree': 0.7313093333903735, 'lambda': 5.452452962400819e-05, 'alpha': 4.640396329841969e-07}. Best is trial 51 with value: 0.424374998321953.\n",
      "[I 2024-08-04 12:56:11,846] Trial 83 finished with value: 0.4244168736408856 and parameters: {'eta': 0.03671959427076539, 'max_depth': 1, 'subsample': 0.6323137501227477, 'colsample_bytree': 0.6976774857640474, 'lambda': 9.679201969625081e-06, 'alpha': 2.29592949534706e-06}. Best is trial 51 with value: 0.424374998321953.\n",
      "[I 2024-08-04 12:56:13,865] Trial 84 finished with value: 0.4244578391080757 and parameters: {'eta': 0.03441629603997248, 'max_depth': 1, 'subsample': 0.9069160737828448, 'colsample_bytree': 0.7652388343612154, 'lambda': 2.4877908175979402e-05, 'alpha': 2.730817590294394e-07}. Best is trial 51 with value: 0.424374998321953.\n",
      "[I 2024-08-04 12:56:15,858] Trial 85 finished with value: 0.4244085347775953 and parameters: {'eta': 0.04111042593195077, 'max_depth': 1, 'subsample': 0.6558469785733468, 'colsample_bytree': 0.7138843002806389, 'lambda': 0.000106765695520052, 'alpha': 9.9713556535506e-07}. Best is trial 51 with value: 0.424374998321953.\n",
      "[I 2024-08-04 12:56:18,186] Trial 86 finished with value: 0.42439834731427784 and parameters: {'eta': 0.023982310502690722, 'max_depth': 1, 'subsample': 0.6011595368363865, 'colsample_bytree': 0.7391340636298608, 'lambda': 1.723411639875759e-05, 'alpha': 3.4995204136059703e-06}. Best is trial 51 with value: 0.424374998321953.\n",
      "[I 2024-08-04 12:56:19,905] Trial 87 finished with value: 0.424461852398598 and parameters: {'eta': 0.02973317380984615, 'max_depth': 2, 'subsample': 0.6966401432833373, 'colsample_bytree': 0.7924638872348989, 'lambda': 4.852277962941668e-06, 'alpha': 1.687138064702569e-06}. Best is trial 51 with value: 0.424374998321953.\n",
      "[I 2024-08-04 12:56:21,790] Trial 88 finished with value: 0.4244552633908144 and parameters: {'eta': 0.03140186065585782, 'max_depth': 2, 'subsample': 0.6262999924920784, 'colsample_bytree': 0.7765865247454724, 'lambda': 0.0005345892162659755, 'alpha': 5.2032422337846e-07}. Best is trial 51 with value: 0.424374998321953.\n",
      "[I 2024-08-04 12:56:25,013] Trial 89 finished with value: 0.4244181246691848 and parameters: {'eta': 0.01963858884152695, 'max_depth': 1, 'subsample': 0.6436739562578279, 'colsample_bytree': 0.967756928739367, 'lambda': 1.182497970117631e-06, 'alpha': 1.5813832236950673e-07}. Best is trial 51 with value: 0.424374998321953.\n",
      "[I 2024-08-04 12:56:29,692] Trial 90 finished with value: 0.42440313182283096 and parameters: {'eta': 0.025775997943853733, 'max_depth': 1, 'subsample': 0.6778674928701125, 'colsample_bytree': 0.8466169235141984, 'lambda': 3.669512870481409e-05, 'alpha': 9.054545493493551e-08}. Best is trial 51 with value: 0.424374998321953.\n",
      "[I 2024-08-04 12:56:33,502] Trial 91 finished with value: 0.42439391068186016 and parameters: {'eta': 0.038027303590168815, 'max_depth': 1, 'subsample': 0.6152306369187198, 'colsample_bytree': 0.7339612468073786, 'lambda': 5.5741329286119985e-05, 'alpha': 4.310162689099664e-07}. Best is trial 51 with value: 0.424374998321953.\n",
      "[I 2024-08-04 12:56:37,807] Trial 92 finished with value: 0.42438978802086935 and parameters: {'eta': 0.03863823299914194, 'max_depth': 1, 'subsample': 0.6188264146932912, 'colsample_bytree': 0.7365477099828257, 'lambda': 0.0002597405003126629, 'alpha': 3.6042481158632105e-07}. Best is trial 51 with value: 0.424374998321953.\n",
      "[I 2024-08-04 12:56:41,603] Trial 93 finished with value: 0.4244057276536453 and parameters: {'eta': 0.038837150998371664, 'max_depth': 1, 'subsample': 0.6126895196639635, 'colsample_bytree': 0.8051072146494601, 'lambda': 0.00025868505953254077, 'alpha': 3.18414462670951e-07}. Best is trial 51 with value: 0.424374998321953.\n",
      "[I 2024-08-04 12:56:45,962] Trial 94 finished with value: 0.424449547201915 and parameters: {'eta': 0.044495525441141486, 'max_depth': 1, 'subsample': 0.6181534041090639, 'colsample_bytree': 0.7381440245163664, 'lambda': 9.39031134253906e-05, 'alpha': 4.7600573890952754e-08}. Best is trial 51 with value: 0.424374998321953.\n",
      "[I 2024-08-04 12:56:50,300] Trial 95 finished with value: 0.42438209050637393 and parameters: {'eta': 0.036237482626679696, 'max_depth': 1, 'subsample': 0.6581818807594382, 'colsample_bytree': 0.7469296006609758, 'lambda': 7.007293930737731e-06, 'alpha': 7.235801430468654e-07}. Best is trial 51 with value: 0.424374998321953.\n",
      "[I 2024-08-04 12:56:51,890] Trial 96 finished with value: 0.42450019806395844 and parameters: {'eta': 0.047906090772866505, 'max_depth': 2, 'subsample': 0.6693326337809591, 'colsample_bytree': 0.7503638031745736, 'lambda': 1.8614301238345668e-05, 'alpha': 7.430531935344535e-07}. Best is trial 51 with value: 0.424374998321953.\n",
      "[I 2024-08-04 12:56:53,644] Trial 97 finished with value: 0.4244276672660501 and parameters: {'eta': 0.05242486955234835, 'max_depth': 1, 'subsample': 0.6579937228777626, 'colsample_bytree': 0.7836886681596719, 'lambda': 0.001424430016957048, 'alpha': 1.1203203957362259e-06}. Best is trial 51 with value: 0.424374998321953.\n",
      "[I 2024-08-04 12:56:56,363] Trial 98 finished with value: 0.4246881656350512 and parameters: {'eta': 0.03525302807334133, 'max_depth': 6, 'subsample': 0.7704125838304531, 'colsample_bytree': 0.7261309941030979, 'lambda': 3.2081428005076244e-06, 'alpha': 1.1185146179045604e-05}. Best is trial 51 with value: 0.424374998321953.\n",
      "[I 2024-08-04 12:56:58,916] Trial 99 finished with value: 0.42443841428093454 and parameters: {'eta': 0.04231178927474906, 'max_depth': 1, 'subsample': 0.643991400483722, 'colsample_bytree': 0.7696751373349938, 'lambda': 6.929623898493242e-06, 'alpha': 1.7138807823984213e-07}. Best is trial 51 with value: 0.424374998321953.\n"
     ]
    },
    {
     "name": "stdout",
     "output_type": "stream",
     "text": [
      "Best Parameters: {'eta': 0.03645539443085783, 'max_depth': 1, 'subsample': 0.6585870586005471, 'colsample_bytree': 0.782952071578565, 'lambda': 0.0003767376751845663, 'alpha': 5.605457358072697e-07}\n"
     ]
    }
   ],
   "source": [
    "\n",
    "# Define the objective function\n",
    "def objective(trial):\n",
    "    params = {\n",
    "        'objective': 'reg:squarederror',\n",
    "        'eval_metric': 'mae',\n",
    "        'eta': trial.suggest_float('eta', 0.01, 0.1),\n",
    "        'max_depth': trial.suggest_int('max_depth', 1, 9),\n",
    "        'subsample': trial.suggest_float('subsample', 0.6, 1.0),\n",
    "        'colsample_bytree': trial.suggest_float('colsample_bytree', 0.6, 1.0),\n",
    "        'lambda': trial.suggest_float('lambda', 1e-8, 1.0, log=True),\n",
    "        'alpha': trial.suggest_float('alpha', 1e-8, 1.0, log=True)\n",
    "    }\n",
    "        \n",
    "    # Train the model\n",
    "    model = xgb.train(params, d_train, num_boost_round=1000, evals=watchlist,\n",
    "                      early_stopping_rounds=100, verbose_eval=False)\n",
    "    \n",
    "    # Return the best validation MAE\n",
    "    val_mae = model.best_score\n",
    "    return val_mae\n",
    "\n",
    "# Create a study object and optimize the objective function\n",
    "study = optuna.create_study(direction='minimize')\n",
    "study.optimize(objective, n_trials=100, timeout=600)\n",
    "\n",
    "# Print the best parameters\n",
    "print(f\"Best Parameters: {study.best_params}\")\n"
   ]
  },
  {
   "cell_type": "code",
   "execution_count": 22,
   "metadata": {},
   "outputs": [],
   "source": [
    "best_opts = {'eta': 0.03645539443085783, \n",
    "             'max_depth': 1, \n",
    "             'subsample': 0.6585870586005471, \n",
    "             'colsample_bytree': 0.782952071578565, \n",
    "             'lambda': 0.0003767376751845663, \n",
    "             'alpha': 5.605457358072697e-07,\n",
    "             'eval_metric' : 'mae'}\n"
   ]
  },
  {
   "cell_type": "code",
   "execution_count": 23,
   "metadata": {},
   "outputs": [
    {
     "name": "stdout",
     "output_type": "stream",
     "text": [
      "[0]\ttrain-mae:0.41935\tvalid-mae:0.42685\n"
     ]
    },
    {
     "name": "stdout",
     "output_type": "stream",
     "text": [
      "[10]\ttrain-mae:0.41814\tvalid-mae:0.42576\n",
      "[20]\ttrain-mae:0.41749\tvalid-mae:0.42521\n",
      "[30]\ttrain-mae:0.41704\tvalid-mae:0.42486\n",
      "[40]\ttrain-mae:0.41675\tvalid-mae:0.42463\n",
      "[50]\ttrain-mae:0.41653\tvalid-mae:0.42450\n",
      "[60]\ttrain-mae:0.41644\tvalid-mae:0.42445\n",
      "[70]\ttrain-mae:0.41632\tvalid-mae:0.42439\n",
      "[80]\ttrain-mae:0.41629\tvalid-mae:0.42439\n",
      "[90]\ttrain-mae:0.41633\tvalid-mae:0.42446\n",
      "[100]\ttrain-mae:0.41633\tvalid-mae:0.42450\n",
      "[110]\ttrain-mae:0.41633\tvalid-mae:0.42453\n",
      "[120]\ttrain-mae:0.41639\tvalid-mae:0.42461\n",
      "[130]\ttrain-mae:0.41642\tvalid-mae:0.42466\n",
      "[140]\ttrain-mae:0.41648\tvalid-mae:0.42473\n",
      "[150]\ttrain-mae:0.41653\tvalid-mae:0.42481\n",
      "[160]\ttrain-mae:0.41657\tvalid-mae:0.42486\n",
      "[170]\ttrain-mae:0.41662\tvalid-mae:0.42492\n",
      "[175]\ttrain-mae:0.41662\tvalid-mae:0.42492\n"
     ]
    }
   ],
   "source": [
    "clf = xgb.train(\n",
    "    best_opts,\n",
    "    d_train,\n",
    "    num_boost_round=1000,  # Choose a suitable number of boosting rounds\n",
    "    evals=watchlist,\n",
    "    early_stopping_rounds=100,\n",
    "    verbose_eval=10\n",
    ")"
   ]
  },
  {
   "cell_type": "code",
   "execution_count": 24,
   "metadata": {},
   "outputs": [
    {
     "data": {
      "text/plain": [
       "0.0697121"
      ]
     },
     "execution_count": 24,
     "metadata": {},
     "output_type": "execute_result"
    }
   ],
   "source": [
    "# Get final loss, it's identical!\n",
    "xgb_val = (clf.predict(d_valid)*Y_train.std()) + Y_train.mean()\n",
    "get_loss(y_pred=forest_val, y_true=Y_val)"
   ]
  },
  {
   "cell_type": "code",
   "execution_count": null,
   "metadata": {},
   "outputs": [],
   "source": [
    "# Optimization history plot\n",
    "opt_history_fig = vis.plot_optimization_history(study)\n",
    "opt_history_fig.show()"
   ]
  },
  {
   "cell_type": "code",
   "execution_count": null,
   "metadata": {},
   "outputs": [],
   "source": [
    "# Parameter importance plot\n",
    "param_importance_fig = vis.plot_param_importances(study)\n",
    "param_importance_fig.show()"
   ]
  },
  {
   "cell_type": "code",
   "execution_count": null,
   "metadata": {},
   "outputs": [],
   "source": [
    "# Slice plot\n",
    "slice_fig = vis.plot_slice(study)\n",
    "slice_fig.show()"
   ]
  },
  {
   "cell_type": "code",
   "execution_count": 26,
   "metadata": {},
   "outputs": [
    {
     "data": {
      "image/png": "[encoded data removed]",
      "text/plain": [
       "<Figure size 1000x600 with 1 Axes>"
      ]
     },
     "metadata": {},
     "output_type": "display_data"
    }
   ],
   "source": [
    "# Extract values from the study\n",
    "trial_values = [trial.value for trial in study.trials]\n",
    "\n",
    "# Apply the transformation: (value * a) + b\n",
    "transformed_values = [(value * Y_train.std()) + Y_train.mean() for value in trial_values]\n",
    "\n",
    "# Plotting\n",
    "plt.figure(figsize=(10, 6))\n",
    "plt.scatter(range(1,101,1), transformed_values)\n",
    "plt.xlabel('Trial')\n",
    "plt.ylabel('MAE - Validation Data')\n",
    "plt.title('Optuna Optimization History')\n",
    "plt.grid(True)\n",
    "plt.show()"
   ]
  },
  {
   "cell_type": "code",
   "execution_count": null,
   "metadata": {},
   "outputs": [],
   "source": []
  }
 ],
 "metadata": {
  "kernelspec": {
   "display_name": "ml",
   "language": "python",
   "name": "python3"
  },
  "language_info": {
   "codemirror_mode": {
    "name": "ipython",
    "version": 3
   },
   "file_extension": ".py",
   "mimetype": "text/x-python",
   "name": "python",
   "nbconvert_exporter": "python",
   "pygments_lexer": "ipython3",
   "version": "3.11.5"
  }
 },
 "nbformat": 4,
 "nbformat_minor": 2
}
