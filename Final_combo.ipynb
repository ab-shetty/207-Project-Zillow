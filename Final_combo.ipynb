{
 "cells": [
  {
   "cell_type": "code",
   "execution_count": 1,
   "metadata": {},
   "outputs": [
    {
     "name": "stderr",
     "output_type": "stream",
     "text": [
      "c:\\Users\\ashet\\anaconda3\\envs\\ml\\Lib\\site-packages\\tqdm\\auto.py:21: TqdmWarning: IProgress not found. Please update jupyter and ipywidgets. See https://ipywidgets.readthedocs.io/en/stable/user_install.html\n",
      "  from .autonotebook import tqdm as notebook_tqdm\n"
     ]
    }
   ],
   "source": [
    "# standard\n",
    "import pandas as pd\n",
    "import numpy as np\n",
    "import random\n",
    "\n",
    "# tf and keras\n",
    "import tensorflow as tf\n",
    "#import keras\n",
    "from keras import layers\n",
    "from sklearn.model_selection import train_test_split\n",
    "from sklearn.preprocessing import StandardScaler\n",
    "\n",
    "# plots\n",
    "import seaborn as sns\n",
    "sns.set_theme()\n",
    "import matplotlib.pyplot as plt\n",
    "\n",
    "# xgboost\n",
    "import xgboost as xgb\n",
    "import optuna\n",
    "import optuna.visualization as vis\n",
    "\n",
    "random.seed(42)"
   ]
  },
  {
   "cell_type": "code",
   "execution_count": null,
   "metadata": {},
   "outputs": [],
   "source": [
    "# Read and clean dataframe\n",
    "df_properties = pd.read_csv('./data/properties_2017.csv')\n",
    "\n",
    "# Get logerrors of transactions and merge\n",
    "df_2016 = pd.read_csv('./data/train_2016_v2.csv', parse_dates=[\"transactiondate\"])\n",
    "df_2017 = pd.read_csv('./data/train_2017.csv', parse_dates=[\"transactiondate\"])\n",
    "df_logs = pd.concat([df_2016, df_2017])\n",
    "\n",
    "# Inner join transactions with the dataset of all properties\n",
    "df_all = pd.merge(df_logs, df_properties, on='parcelid', how='inner')"
   ]
  },
  {
   "cell_type": "code",
   "execution_count": 2,
   "metadata": {},
   "outputs": [],
   "source": [
    "# Remove some rows missing very important data\n",
    "df = df_all.dropna(subset=['regionidcounty','landtaxvaluedollarcnt', 'taxamount', 'regionidzip', 'structuretaxvaluedollarcnt'])\n",
    "\n",
    "# Now we read in the housing index for LA County, and add the index for each month\n",
    "dfh = pd.read_csv('data/LXXRNSA.csv')\n",
    "dfh.DATE = pd.to_datetime(dfh.DATE)\n",
    "df.transactiondate = pd.to_datetime(df.transactiondate)\n",
    "df['transactionmonth'] =  df['transactiondate'].dt.strftime('%Y%m')\n",
    "dfh.DATE = dfh['DATE'].dt.strftime('%Y%m')\n",
    "df = pd.merge(df, dfh, left_on='transactionmonth', right_on='DATE', how='left')\n",
    "df = df.drop(columns='DATE')\n",
    "\n",
    "# Get month, year, weekday\n",
    "df['month'] = df.transactionmonth.str[4:]\n",
    "df['year'] = df.transactionmonth.str[:-2]\n",
    "df['weekday'] = df.transactiondate.dt.day_of_week\n"
   ]
  },
  {
   "cell_type": "code",
   "execution_count": 102,
   "metadata": {},
   "outputs": [],
   "source": [
    "# Select only certain features from full dataset\n",
    "X = df[['bedroomcnt','roomcnt','bathroomcnt','taxamount','landtaxvaluedollarcnt','taxvaluedollarcnt','structuretaxvaluedollarcnt',\n",
    "        'latitude', 'longitude', 'LXXRNSA', 'month', 'year', 'weekday',\n",
    "          'lotsizesquarefeet', 'calculatedfinishedsquarefeet', 'yearbuilt',\n",
    "          ]]\n",
    "Y = df.logerror\n",
    "\n",
    "X_train, X_val, Y_train, Y_val = train_test_split(X, Y, test_size=0.2, random_state=1234)\n",
    "\n",
    "# Applying standardization to inputs\n",
    "\n",
    "numeric_columns = ['bedroomcnt', 'roomcnt', 'bathroomcnt', 'taxamount',\n",
    "       'landtaxvaluedollarcnt', 'taxvaluedollarcnt',\n",
    "       'structuretaxvaluedollarcnt', 'latitude', 'longitude', 'LXXRNSA', \n",
    "        'lotsizesquarefeet', 'calculatedfinishedsquarefeet', 'yearbuilt',\n",
    "         ]\n",
    "\n",
    "# Standardize numeric columns\n",
    "sc_x = StandardScaler()\n",
    "X_train_std = X_train.copy()\n",
    "X_val_std = X_val.copy()\n",
    "\n",
    "X_train_std[numeric_columns] = sc_x.fit(X_train[numeric_columns]).transform(X_train[numeric_columns])\n",
    "X_val_std[numeric_columns] = sc_x.fit(X_train[numeric_columns]).transform(X_val[numeric_columns])\n",
    "\n",
    "# Applying standardization to outputs\n",
    "Y_train_std = (Y_train - Y_train.mean())/Y_train.std()\n",
    "Y_val_std = (Y_val - Y_train.mean())/Y_train.std()\n",
    "\n",
    "# Mask missing data in last three columns - does this help? Apparently a tiny bit\n",
    "mask_value = -999\n",
    "X_train_std = X_train_std.fillna(mask_value)\n",
    "X_val_std = X_val_std.fillna(mask_value)"
   ]
  },
  {
   "cell_type": "code",
   "execution_count": 215,
   "metadata": {},
   "outputs": [
    {
     "data": {
      "text/plain": [
       "0.06890573262261189"
      ]
     },
     "execution_count": 215,
     "metadata": {},
     "output_type": "execute_result"
    }
   ],
   "source": [
    "# THIS IS THE FUNCTION TO PREDICT MAE\n",
    "\n",
    "y_pred_main = np.zeros(len(Y))\n",
    "\n",
    "def get_loss(y_true=Y_val_std, y_pred=y_pred_main):\n",
    "    return tf.keras.losses.MAE(\n",
    "    y_true, y_pred).numpy()\n",
    "\n",
    "# Get loss of Zillow model\n",
    "get_loss(Y, y_pred=y_pred_main)"
   ]
  },
  {
   "cell_type": "code",
   "execution_count": 239,
   "metadata": {},
   "outputs": [],
   "source": [
    "def build_model(lr, resolution_in_degrees):\n",
    "    \"\"\"Use Keras functional API to create neural network model\"\"\"\n",
    "    \n",
    "    tf.keras.backend.clear_session()\n",
    "    tf.random.set_seed(1234)\n",
    "    random.seed(42)\n",
    "    mask_value = -999\n",
    "    \n",
    "\n",
    "    bedroomcnt = layers.Input(shape=(1,), dtype=tf.float32, name='bedroomcnt')\n",
    "    roomcnt = layers.Input(shape=(1,), dtype=tf.float32, name='roomcnt')\n",
    "    bathroomcnt = layers.Input(shape=(1,), dtype=tf.float32, name='bathroomcnt')\n",
    "    taxamount = layers.Input(shape=(1,), dtype=tf.float32, name='taxamount')\n",
    "    landtaxvaluedollarcnt = layers.Input(shape=(1,), dtype=tf.float32, name='landtaxvaluedollarcnt')\n",
    "    taxvaluedollarcnt = layers.Input(shape=(1,), dtype=tf.float32, name='taxvaluedollarcnt')\n",
    "    structuretaxvaluedollarcnt = layers.Input(shape=(1,), dtype=tf.float32, name='structuretaxvaluedollarcnt')\n",
    "    latitude = layers.Input(shape=(1,), dtype=tf.float32, name='latitude')\n",
    "    longitude = layers.Input(shape=(1,), dtype=tf.float32, name='longitude')\n",
    "    lxxrnsa = layers.Input(shape=(1,), dtype=tf.float32, name='lxxrnsa')\n",
    "    month = layers.Input(shape=(1,), dtype=tf.string, name='month')\n",
    "    year = layers.Input(shape=(1,), dtype=tf.string, name='year')\n",
    "    weekday = layers.Input(shape=(1,), dtype=tf.int64, name='weekday')\n",
    "\n",
    "    \n",
    "    lotsizesquarefeet = layers.Input(shape=(1,), dtype=tf.float32, name='lotsizesquarefeet')\n",
    "    lotsizemask = layers.Masking(mask_value=mask_value)(lotsizesquarefeet)\n",
    "\n",
    "    calculatedfinishedsquarefeet = layers.Input(shape=(1,), dtype=tf.float32, name='calculatedfinishedsquarefeet')\n",
    "    finishedsqftmask = layers.Masking(mask_value=mask_value)(calculatedfinishedsquarefeet)\n",
    "\n",
    "    yearbuilt = layers.Input(shape=(1,), dtype=tf.float32, name='yearbuilt')\n",
    "    yearblt = layers.Masking(mask_value=mask_value)(yearbuilt)\n",
    "\n",
    "    bedroomcnt_masked = layers.Masking(mask_value=mask_value)(bedroomcnt)\n",
    "    roomcnt_masked = layers.Masking(mask_value=mask_value)(roomcnt)\n",
    "    bathroomcnt_masked = layers.Masking(mask_value=mask_value)(bathroomcnt)\n",
    "    taxamount_masked = layers.Masking(mask_value=mask_value)(taxamount)\n",
    "    landtaxvaluedollarcnt_masked = layers.Masking(mask_value=mask_value)(landtaxvaluedollarcnt)\n",
    "    taxvaluedollarcnt_masked = layers.Masking(mask_value=mask_value)(taxvaluedollarcnt)\n",
    "    structuretaxvaluedollarcnt_masked = layers.Masking(mask_value=mask_value)(structuretaxvaluedollarcnt)\n",
    "\n",
    "    # One hot encode month, year and weekday\n",
    "    month_id = tf.keras.layers.StringLookup(\n",
    "      vocabulary=['01', '02', '03', '04', '05', '06', '07', '08', '09', '10', '11', '12'], \n",
    "      output_mode='one_hot')(month)\n",
    "    \n",
    "    year_id = tf.keras.layers.StringLookup(\n",
    "      vocabulary=['2016', '2017'], \n",
    "      output_mode='one_hot')(year)   \n",
    "\n",
    "    weekday_id = tf.keras.layers.IntegerLookup(\n",
    "      vocabulary=[0,1,2,3,4,5,6], \n",
    "      output_mode='one_hot')(weekday) \n",
    "\n",
    "\n",
    "    # Create a list of numbers representing the bucket boundaries for latitude.\n",
    "    latitude_boundaries = list(np.arange(-3, 3 + resolution_in_degrees, resolution_in_degrees))\n",
    "\n",
    "    # Create a Discretization layer to separate the latitude data into buckets.\n",
    "    latitude_discretized = tf.keras.layers.Discretization(\n",
    "        bin_boundaries=latitude_boundaries,\n",
    "        name='discretization_latitude')(latitude)\n",
    "\n",
    "    # Create a list of numbers representing the bucket boundaries for longitude.\n",
    "    longitude_boundaries = list(np.arange(-3, 3 + resolution_in_degrees, resolution_in_degrees))\n",
    "\n",
    "    # Create a Discretization layer to separate the longitude data into buckets.\n",
    "    longitude_discretized = tf.keras.layers.Discretization(\n",
    "        bin_boundaries=longitude_boundaries,\n",
    "        name='discretization_longitude')(longitude)\n",
    "\n",
    "    # Cross the latitude and longitude features into a single one-hot vector.\n",
    "    feature_cross = tf.keras.layers.HashedCrossing(\n",
    "        num_bins=len(latitude_boundaries) * len(longitude_boundaries),\n",
    "        output_mode='one_hot',\n",
    "        name='cross_latitude_longitude')([latitude_discretized, longitude_discretized])\n",
    "\n",
    "    features = layers.Concatenate()([\n",
    "                    bedroomcnt_masked, \n",
    "                    roomcnt_masked, \n",
    "                    bathroomcnt_masked, \n",
    "                    taxamount_masked, \n",
    "                    landtaxvaluedollarcnt_masked, \n",
    "                    taxvaluedollarcnt_masked, \n",
    "                    structuretaxvaluedollarcnt_masked,\n",
    "                    feature_cross,\n",
    "                    lxxrnsa,\n",
    "                    month_id,\n",
    "                    year_id,\n",
    "                    weekday_id,\n",
    "                    lotsizemask,\n",
    "                    finishedsqftmask,\n",
    "                    yearblt,\n",
    "    ]) \n",
    "\n",
    "    x = layers.Dense(units=600, kernel_initializer='normal', activation='relu')(features)\n",
    "    x = layers.Dropout(0.36)(x)\n",
    "    x = layers.Dense(units=200, kernel_initializer='normal', activation='relu')(x)\n",
    "    x = layers.BatchNormalization()(x)\n",
    "    x = layers.Dropout(0.6)(x)\n",
    "    x = layers.Dense(1, kernel_initializer='normal')(x)\n",
    "    x = layers.Dense(1, kernel_initializer='normal')(x)\n",
    "\n",
    "    logerror = tf.keras.layers.Dense(\n",
    "        units=1, activation='linear', name='logerror')(x)\n",
    "\n",
    "    model = tf.keras.Model(inputs=[\n",
    "        bedroomcnt, \n",
    "        roomcnt, \n",
    "        bathroomcnt, \n",
    "        taxamount, \n",
    "        landtaxvaluedollarcnt, \n",
    "        taxvaluedollarcnt, \n",
    "        structuretaxvaluedollarcnt,\n",
    "        latitude,\n",
    "        longitude,\n",
    "        lxxrnsa,\n",
    "        month,\n",
    "        year,\n",
    "        weekday,\n",
    "        lotsizesquarefeet,\n",
    "        calculatedfinishedsquarefeet,\n",
    "        yearbuilt,\n",
    "    ], outputs=logerror)\n",
    "    \n",
    "    model.compile(\n",
    "        optimizer=tf.keras.optimizers.Adam(learning_rate=lr),\n",
    "        loss='mae',\n",
    "        metrics=['mae'])\n",
    "\n",
    "    return model"
   ]
  },
  {
   "cell_type": "code",
   "execution_count": 240,
   "metadata": {},
   "outputs": [
    {
     "name": "stdout",
     "output_type": "stream",
     "text": [
      "Epoch 1/10\n",
      "\u001b[1m67/67\u001b[0m \u001b[32m━━━━━━━━━━━━━━━━━━━━\u001b[0m\u001b[37m\u001b[0m \u001b[1m14s\u001b[0m 129ms/step - loss: 0.4193 - mae: 0.4193 - val_loss: 0.4227 - val_mae: 0.4227\n",
      "Epoch 2/10\n",
      "\u001b[1m67/67\u001b[0m \u001b[32m━━━━━━━━━━━━━━━━━━━━\u001b[0m\u001b[37m\u001b[0m \u001b[1m7s\u001b[0m 101ms/step - loss: 0.4166 - mae: 0.4166 - val_loss: 0.4222 - val_mae: 0.4222\n",
      "Epoch 3/10\n",
      "\u001b[1m67/67\u001b[0m \u001b[32m━━━━━━━━━━━━━━━━━━━━\u001b[0m\u001b[37m\u001b[0m \u001b[1m10s\u001b[0m 95ms/step - loss: 0.4163 - mae: 0.4163 - val_loss: 0.4217 - val_mae: 0.4217\n",
      "Epoch 4/10\n",
      "\u001b[1m67/67\u001b[0m \u001b[32m━━━━━━━━━━━━━━━━━━━━\u001b[0m\u001b[37m\u001b[0m \u001b[1m7s\u001b[0m 107ms/step - loss: 0.4161 - mae: 0.4161 - val_loss: 0.4213 - val_mae: 0.4213\n",
      "Epoch 5/10\n",
      "\u001b[1m67/67\u001b[0m \u001b[32m━━━━━━━━━━━━━━━━━━━━\u001b[0m\u001b[37m\u001b[0m \u001b[1m7s\u001b[0m 97ms/step - loss: 0.4160 - mae: 0.4160 - val_loss: 0.4210 - val_mae: 0.4210\n",
      "Epoch 6/10\n",
      "\u001b[1m67/67\u001b[0m \u001b[32m━━━━━━━━━━━━━━━━━━━━\u001b[0m\u001b[37m\u001b[0m \u001b[1m7s\u001b[0m 97ms/step - loss: 0.4158 - mae: 0.4158 - val_loss: 0.4208 - val_mae: 0.4208\n",
      "Epoch 7/10\n",
      "\u001b[1m67/67\u001b[0m \u001b[32m━━━━━━━━━━━━━━━━━━━━\u001b[0m\u001b[37m\u001b[0m \u001b[1m11s\u001b[0m 100ms/step - loss: 0.4156 - mae: 0.4156 - val_loss: 0.4207 - val_mae: 0.4207\n",
      "Epoch 8/10\n",
      "\u001b[1m67/67\u001b[0m \u001b[32m━━━━━━━━━━━━━━━━━━━━\u001b[0m\u001b[37m\u001b[0m \u001b[1m8s\u001b[0m 115ms/step - loss: 0.4156 - mae: 0.4156 - val_loss: 0.4207 - val_mae: 0.4207\n",
      "Epoch 9/10\n",
      "\u001b[1m67/67\u001b[0m \u001b[32m━━━━━━━━━━━━━━━━━━━━\u001b[0m\u001b[37m\u001b[0m \u001b[1m7s\u001b[0m 106ms/step - loss: 0.4153 - mae: 0.4153 - val_loss: 0.4206 - val_mae: 0.4206\n",
      "Epoch 10/10\n",
      "\u001b[1m67/67\u001b[0m \u001b[32m━━━━━━━━━━━━━━━━━━━━\u001b[0m\u001b[37m\u001b[0m \u001b[1m10s\u001b[0m 101ms/step - loss: 0.4153 - mae: 0.4153 - val_loss: 0.4205 - val_mae: 0.4205\n"
     ]
    }
   ],
   "source": [
    "model = build_model(lr=0.001, resolution_in_degrees=0.239)\n",
    "#model.summary()\n",
    "#display(tf.keras.utils.plot_model(model))\n",
    "random.seed(42)\n",
    "tf.random.set_seed(1234)\n",
    "\n",
    "# Fit model\n",
    "history = model.fit(\n",
    "    x={\n",
    "        'bedroomcnt': X_train_std[['bedroomcnt']],\n",
    "        'roomcnt': X_train_std[['roomcnt']],\n",
    "        'bathroomcnt': X_train_std[['bathroomcnt']],\n",
    "        'taxamount': X_train_std[['taxamount']],\n",
    "        'landtaxvaluedollarcnt': X_train_std[['landtaxvaluedollarcnt']],\n",
    "        'taxvaluedollarcnt': X_train_std[['taxvaluedollarcnt']],\n",
    "        'structuretaxvaluedollarcnt': X_train_std[['structuretaxvaluedollarcnt']],\n",
    "        'latitude': X_train_std[['latitude']],\n",
    "        'longitude': X_train_std[['longitude']],\n",
    "        'lxxrnsa': X_train_std[['LXXRNSA']],\n",
    "        'year': X_train_std[['year']],  \n",
    "        'month': X_train_std[['month']],  \n",
    "        'weekday': X_train_std[['weekday']],\n",
    "        'lotsizesquarefeet': X_train_std[['lotsizesquarefeet']],\n",
    "        'calculatedfinishedsquarefeet': X_train_std[['calculatedfinishedsquarefeet']],\n",
    "        'yearbuilt': X_train_std[['yearbuilt']],\n",
    "\n",
    "    },\n",
    "    y=Y_train_std,\n",
    "    epochs=10,\n",
    "    batch_size=2000,\n",
    "    validation_data=(\n",
    "        {\n",
    "            'bedroomcnt': X_val_std[['bedroomcnt']],\n",
    "            'roomcnt': X_val_std[['roomcnt']],\n",
    "            'bathroomcnt': X_val_std[['bathroomcnt']],\n",
    "            'taxamount': X_val_std[['taxamount']],\n",
    "            'landtaxvaluedollarcnt': X_val_std[['landtaxvaluedollarcnt']],\n",
    "            'taxvaluedollarcnt': X_val_std[['taxvaluedollarcnt']],\n",
    "            'structuretaxvaluedollarcnt': X_val_std[['structuretaxvaluedollarcnt']],\n",
    "            'latitude': X_val_std[['latitude']],\n",
    "            'longitude': X_val_std[['longitude']],\n",
    "            'lxxrnsa': X_val_std[['LXXRNSA']],\n",
    "            'year': X_val_std[['year']], \n",
    "            'month': X_val_std[['month']], \n",
    "            'weekday': X_val_std[['weekday']],\n",
    "            'lotsizesquarefeet': X_val_std[['lotsizesquarefeet']],\n",
    "            'calculatedfinishedsquarefeet': X_val_std[['calculatedfinishedsquarefeet']],\n",
    "            'yearbuilt': X_val_std[['yearbuilt']],\n",
    "        },\n",
    "        Y_val_std\n",
    "    )\n",
    ")"
   ]
  },
  {
   "cell_type": "code",
   "execution_count": null,
   "metadata": {},
   "outputs": [],
   "source": [
    "train_x = {\n",
    "        'bedroomcnt': X_train_std[['bedroomcnt']],\n",
    "        'roomcnt': X_train_std[['roomcnt']],\n",
    "        'bathroomcnt': X_train_std[['bathroomcnt']],\n",
    "        'taxamount': X_train_std[['taxamount']],\n",
    "        'landtaxvaluedollarcnt': X_train_std[['landtaxvaluedollarcnt']],\n",
    "        'taxvaluedollarcnt': X_train_std[['taxvaluedollarcnt']],\n",
    "        'structuretaxvaluedollarcnt': X_train_std[['structuretaxvaluedollarcnt']],\n",
    "        'latitude': X_train_std[['latitude']],\n",
    "        'longitude': X_train_std[['longitude']],\n",
    "        'lxxrnsa': X_train_std[['LXXRNSA']],\n",
    "        'year': X_train_std[['year']],  \n",
    "        'month': X_train_std[['month']],  \n",
    "        'weekday': X_train_std[['weekday']],\n",
    "        'lotsizesquarefeet': X_train_std[['lotsizesquarefeet']],\n",
    "        'calculatedfinishedsquarefeet': X_train_std[['calculatedfinishedsquarefeet']],\n",
    "        'yearbuilt': X_train_std[['yearbuilt']],\n",
    "\n",
    "    }\n",
    "\n",
    "val_x = {\n",
    "            'bedroomcnt': X_val_std[['bedroomcnt']],\n",
    "            'roomcnt': X_val_std[['roomcnt']],\n",
    "            'bathroomcnt': X_val_std[['bathroomcnt']],\n",
    "            'taxamount': X_val_std[['taxamount']],\n",
    "            'landtaxvaluedollarcnt': X_val_std[['landtaxvaluedollarcnt']],\n",
    "            'taxvaluedollarcnt': X_val_std[['taxvaluedollarcnt']],\n",
    "            'structuretaxvaluedollarcnt': X_val_std[['structuretaxvaluedollarcnt']],\n",
    "            'latitude': X_val_std[['latitude']],\n",
    "            'longitude': X_val_std[['longitude']],\n",
    "            'lxxrnsa': X_val_std[['LXXRNSA']],\n",
    "            'year': X_val_std[['year']], \n",
    "            'month': X_val_std[['month']], \n",
    "            'weekday': X_val_std[['weekday']],\n",
    "            'lotsizesquarefeet': X_val_std[['lotsizesquarefeet']],\n",
    "            'calculatedfinishedsquarefeet': X_val_std[['calculatedfinishedsquarefeet']],\n",
    "            'yearbuilt': X_val_std[['yearbuilt']],\n",
    "        }\n",
    "\n",
    "# Define the objective function\n",
    "def objective(trial):\n",
    "\n",
    "    lr = trial.suggest_float(\"lr\", 0.0005, 0.005)\n",
    "    resolution_in_degrees = trial.suggest_float(\"resolution_in_degrees\", 0.05, 0.7)\n",
    "    epochs = trial.suggest_int(\"epochs\", 5, 10)\n",
    "    batch = trial.suggest_int(\"batch\", 4000, 10000)\n",
    "\n",
    "    random.seed(42)\n",
    "    tf.random.set_seed(1234)\n",
    "    \n",
    "\n",
    "    model = build_model(lr, resolution_in_degrees)\n",
    "  \n",
    "    # Train the model\n",
    "    history = model.fit(\n",
    "    x=train_x,\n",
    "    y=Y_train_std,\n",
    "    epochs= epochs,\n",
    "    batch_size=batch,\n",
    "    validation_data=(val_x, Y_val_std),\n",
    "    verbose = 0,\n",
    ")\n",
    "    \n",
    "    # Return the final validation MAE\n",
    "    val_mae = history.history['val_mae'][-1]\n",
    "    return val_mae\n",
    "\n",
    "# Create a study object and optimize the objective function\n",
    "study = optuna.create_study(direction='minimize')\n",
    "study.optimize(objective, n_trials=100, timeout=900)\n",
    "\n",
    "# Print the best parameters\n",
    "print(f\"Best Parameters: {study.best_params}\")\n"
   ]
  },
  {
   "cell_type": "code",
   "execution_count": 114,
   "metadata": {},
   "outputs": [
    {
     "name": "stdout",
     "output_type": "stream",
     "text": [
      "\u001b[1m1046/1046\u001b[0m \u001b[32m━━━━━━━━━━━━━━━━━━━━\u001b[0m\u001b[37m\u001b[0m \u001b[1m5s\u001b[0m 5ms/step\n"
     ]
    },
    {
     "data": {
      "text/plain": [
       "0.06903582"
      ]
     },
     "execution_count": 114,
     "metadata": {},
     "output_type": "execute_result"
    }
   ],
   "source": [
    "val_preds = model.predict({\n",
    "        'bedroomcnt': X_val_std[['bedroomcnt']],\n",
    "        'roomcnt': X_val_std[['roomcnt']],\n",
    "        'bathroomcnt': X_val_std[['bathroomcnt']],\n",
    "        'taxamount': X_val_std[['taxamount']],\n",
    "        'landtaxvaluedollarcnt': X_val_std[['landtaxvaluedollarcnt']],\n",
    "        'taxvaluedollarcnt': X_val_std[['taxvaluedollarcnt']],\n",
    "        'structuretaxvaluedollarcnt': X_val_std[['structuretaxvaluedollarcnt']],\n",
    "        'latitude': X_val_std[['latitude']],\n",
    "        'longitude': X_val_std[['longitude']],\n",
    "        'lxxrnsa': X_val_std[['LXXRNSA']],\n",
    "        'year': X_val_std[['year']], \n",
    "        'month': X_val_std[['month']],\n",
    "        'weekday': X_val_std[['weekday']],\n",
    "        'lotsizesquarefeet': X_val_std[['lotsizesquarefeet']],\n",
    "        'calculatedfinishedsquarefeet': X_val_std[['calculatedfinishedsquarefeet']],\n",
    "        'yearbuilt': X_val_std[['yearbuilt']],\n",
    "        \n",
    "    })\n",
    "\n",
    "# Convert to regular scale from scaled-standardized scale and print loss\n",
    "val_preds= (val_preds[:,0]*Y_train.std()) + Y_train.mean()\n",
    "get_loss(y_pred=val_preds, y_true=Y_val)"
   ]
  },
  {
   "cell_type": "markdown",
   "metadata": {},
   "source": [
    "### XGBoost"
   ]
  },
  {
   "cell_type": "code",
   "execution_count": 119,
   "metadata": {},
   "outputs": [
    {
     "name": "stdout",
     "output_type": "stream",
     "text": [
      "\u001b[1m4181/4181\u001b[0m \u001b[32m━━━━━━━━━━━━━━━━━━━━\u001b[0m\u001b[37m\u001b[0m \u001b[1m26s\u001b[0m 6ms/step\n",
      "\u001b[1m1046/1046\u001b[0m \u001b[32m━━━━━━━━━━━━━━━━━━━━\u001b[0m\u001b[37m\u001b[0m \u001b[1m6s\u001b[0m 5ms/step\n"
     ]
    }
   ],
   "source": [
    "# Get train and validation predictions from neural network as inputs for XGBoost\n",
    "\n",
    "train_preds = model.predict({\n",
    "        'bedroomcnt': X_train_std[['bedroomcnt']],\n",
    "        'roomcnt': X_train_std[['roomcnt']],\n",
    "        'bathroomcnt': X_train_std[['bathroomcnt']],\n",
    "        'taxamount': X_train_std[['taxamount']],\n",
    "        'landtaxvaluedollarcnt': X_train_std[['landtaxvaluedollarcnt']],\n",
    "        'taxvaluedollarcnt': X_train_std[['taxvaluedollarcnt']],\n",
    "        'structuretaxvaluedollarcnt': X_train_std[['structuretaxvaluedollarcnt']],\n",
    "        'latitude': X_train_std[['latitude']],\n",
    "        'longitude': X_train_std[['longitude']],\n",
    "        'lxxrnsa': X_train_std[['LXXRNSA']],\n",
    "        'year': X_train_std[['year']],  \n",
    "        'month': X_train_std[['month']],  \n",
    "        'weekday': X_train_std[['weekday']],\n",
    "        'lotsizesquarefeet': X_train_std[['lotsizesquarefeet']],\n",
    "        'calculatedfinishedsquarefeet': X_train_std[['calculatedfinishedsquarefeet']],\n",
    "        'yearbuilt': X_train_std[['yearbuilt']],\n",
    "    })\n",
    "\n",
    "val_preds = model.predict({\n",
    "        'bedroomcnt': X_val_std[['bedroomcnt']],\n",
    "        'roomcnt': X_val_std[['roomcnt']],\n",
    "        'bathroomcnt': X_val_std[['bathroomcnt']],\n",
    "        'taxamount': X_val_std[['taxamount']],\n",
    "        'landtaxvaluedollarcnt': X_val_std[['landtaxvaluedollarcnt']],\n",
    "        'taxvaluedollarcnt': X_val_std[['taxvaluedollarcnt']],\n",
    "        'structuretaxvaluedollarcnt': X_val_std[['structuretaxvaluedollarcnt']],\n",
    "        'latitude': X_val_std[['latitude']],\n",
    "        'longitude': X_val_std[['longitude']],\n",
    "        'lxxrnsa': X_val_std[['LXXRNSA']],\n",
    "        'year': X_val_std[['year']], \n",
    "        'month': X_val_std[['month']],\n",
    "        'weekday': X_val_std[['weekday']],\n",
    "        'lotsizesquarefeet': X_val_std[['lotsizesquarefeet']],\n",
    "        'calculatedfinishedsquarefeet': X_val_std[['calculatedfinishedsquarefeet']],\n",
    "        'yearbuilt': X_val_std[['yearbuilt']],\n",
    "    })\n",
    "\n"
   ]
  },
  {
   "cell_type": "code",
   "execution_count": 153,
   "metadata": {},
   "outputs": [],
   "source": [
    "# Create XGBoost matrices\n",
    "d_train = xgb.DMatrix(train_preds, label = Y_train_std)\n",
    "d_valid = xgb.DMatrix(val_preds, label = Y_val_std)"
   ]
  },
  {
   "cell_type": "code",
   "execution_count": 154,
   "metadata": {},
   "outputs": [
    {
     "name": "stdout",
     "output_type": "stream",
     "text": [
      "[0]\ttrain-mae:0.41944\tvalid-mae:0.42693\n"
     ]
    },
    {
     "name": "stderr",
     "output_type": "stream",
     "text": [
      "c:\\Users\\ashet\\anaconda3\\envs\\ml\\Lib\\site-packages\\xgboost\\core.py:723: FutureWarning: Pass `evals` as keyword args.\n",
      "  warnings.warn(msg, FutureWarning)\n",
      "c:\\Users\\ashet\\anaconda3\\envs\\ml\\Lib\\site-packages\\xgboost\\core.py:158: UserWarning: [17:44:26] WARNING: C:\\buildkite-agent\\builds\\buildkite-windows-cpu-autoscaling-group-i-0015a694724fa8361-1\\xgboost\\xgboost-ci-windows\\src\\learner.cc:740: \n",
      "Parameters: { \"silent\" } are not used.\n",
      "\n",
      "  warnings.warn(smsg, UserWarning)\n"
     ]
    },
    {
     "name": "stdout",
     "output_type": "stream",
     "text": [
      "[10]\ttrain-mae:0.41889\tvalid-mae:0.42643\n",
      "[20]\ttrain-mae:0.41852\tvalid-mae:0.42609\n",
      "[30]\ttrain-mae:0.41825\tvalid-mae:0.42583\n",
      "[40]\ttrain-mae:0.41803\tvalid-mae:0.42562\n",
      "[50]\ttrain-mae:0.41788\tvalid-mae:0.42547\n",
      "[60]\ttrain-mae:0.41774\tvalid-mae:0.42534\n",
      "[70]\ttrain-mae:0.41764\tvalid-mae:0.42524\n",
      "[80]\ttrain-mae:0.41756\tvalid-mae:0.42517\n",
      "[90]\ttrain-mae:0.41749\tvalid-mae:0.42511\n",
      "[100]\ttrain-mae:0.41743\tvalid-mae:0.42505\n",
      "[110]\ttrain-mae:0.41738\tvalid-mae:0.42502\n",
      "[119]\ttrain-mae:0.41735\tvalid-mae:0.42499\n"
     ]
    }
   ],
   "source": [
    "# Train XGBoost model\n",
    "params = {}\n",
    "params['eta'] = 0.02\n",
    "params['objective'] = 'reg:squarederror'\n",
    "params['eval_metric'] = 'mae'\n",
    "params['max_depth'] = 1\n",
    "params['silent'] = 1\n",
    "\n",
    "watchlist = [(d_train, 'train'), (d_valid, 'valid')]\n",
    "clf = xgb.train(params, d_train, 120, watchlist,\n",
    "                early_stopping_rounds=100, verbose_eval=10)"
   ]
  },
  {
   "cell_type": "code",
   "execution_count": 155,
   "metadata": {},
   "outputs": [
    {
     "data": {
      "text/plain": [
       "0.069770075"
      ]
     },
     "execution_count": 155,
     "metadata": {},
     "output_type": "execute_result"
    }
   ],
   "source": [
    "# Get final loss, it's not significantly better\n",
    "forest_val = (clf.predict(d_valid)*Y_train.std()) + Y_train.mean()\n",
    "get_loss(y_pred=forest_val, y_true=Y_val1)"
   ]
  },
  {
   "cell_type": "markdown",
   "metadata": {},
   "source": [
    "### Hyperparameter Tuning"
   ]
  },
  {
   "cell_type": "code",
   "execution_count": 156,
   "metadata": {},
   "outputs": [
    {
     "name": "stderr",
     "output_type": "stream",
     "text": [
      "[I 2024-08-06 17:45:15,780] A new study created in memory with name: no-name-ac48070c-43ec-4e6d-8fe4-fad3e92563f6\n",
      "[I 2024-08-06 17:45:18,640] Trial 0 finished with value: 0.4250122785152996 and parameters: {'eta': 0.02408685983723347, 'max_depth': 4, 'subsample': 0.9660363932938789, 'colsample_bytree': 0.6404704609861492, 'lambda': 0.006204604532392792, 'alpha': 1.209864274636887e-07}. Best is trial 0 with value: 0.4250122785152996.\n",
      "[I 2024-08-06 17:45:21,276] Trial 1 finished with value: 0.42488807513324073 and parameters: {'eta': 0.03100460724677393, 'max_depth': 3, 'subsample': 0.822923699891477, 'colsample_bytree': 0.6753075248961763, 'lambda': 0.00012662333084381534, 'alpha': 0.281886846203796}. Best is trial 1 with value: 0.42488807513324073.\n",
      "[I 2024-08-06 17:45:24,045] Trial 2 finished with value: 0.42583106763654893 and parameters: {'eta': 0.08263512146721413, 'max_depth': 13, 'subsample': 0.997356214918908, 'colsample_bytree': 0.7460585052564457, 'lambda': 2.1079012828436545e-06, 'alpha': 1.874053506123699e-05}. Best is trial 1 with value: 0.42488807513324073.\n",
      "[I 2024-08-06 17:45:26,619] Trial 3 finished with value: 0.42579302281200637 and parameters: {'eta': 0.08783761106566425, 'max_depth': 11, 'subsample': 0.9965669745115402, 'colsample_bytree': 0.7112905551154921, 'lambda': 0.04604219879674974, 'alpha': 0.00010043624067104742}. Best is trial 1 with value: 0.42488807513324073.\n",
      "[I 2024-08-06 17:45:29,235] Trial 4 finished with value: 0.4258846941476487 and parameters: {'eta': 0.05989935083963851, 'max_depth': 14, 'subsample': 0.727737372998004, 'colsample_bytree': 0.7334201594240607, 'lambda': 1.344354687619691e-05, 'alpha': 0.1109792936917908}. Best is trial 1 with value: 0.42488807513324073.\n",
      "[I 2024-08-06 17:45:32,122] Trial 5 finished with value: 0.42591210391685386 and parameters: {'eta': 0.09569582274406112, 'max_depth': 15, 'subsample': 0.60310650523134, 'colsample_bytree': 0.725053261508136, 'lambda': 0.0034401311461860797, 'alpha': 1.6745712724945165e-07}. Best is trial 1 with value: 0.42488807513324073.\n",
      "[I 2024-08-06 17:45:35,844] Trial 6 finished with value: 0.4251989848539579 and parameters: {'eta': 0.014142478177240611, 'max_depth': 6, 'subsample': 0.6255456073895472, 'colsample_bytree': 0.9229112882211005, 'lambda': 0.0007280613749333228, 'alpha': 6.61879201812858e-08}. Best is trial 1 with value: 0.42488807513324073.\n",
      "[I 2024-08-06 17:45:38,606] Trial 7 finished with value: 0.42579619934650736 and parameters: {'eta': 0.05537122831570682, 'max_depth': 11, 'subsample': 0.6402546134750603, 'colsample_bytree': 0.9972861037673989, 'lambda': 0.0021488430302956424, 'alpha': 3.493301457538428e-08}. Best is trial 1 with value: 0.42488807513324073.\n",
      "[I 2024-08-06 17:45:42,016] Trial 8 finished with value: 0.4257900953494082 and parameters: {'eta': 0.03468579669112244, 'max_depth': 11, 'subsample': 0.9034625321351467, 'colsample_bytree': 0.8231229738347385, 'lambda': 1.5958095586965775e-07, 'alpha': 3.467260045528065e-06}. Best is trial 1 with value: 0.42488807513324073.\n",
      "[I 2024-08-06 17:45:44,568] Trial 9 finished with value: 0.42572426025177845 and parameters: {'eta': 0.046859898702218176, 'max_depth': 10, 'subsample': 0.8712992312864462, 'colsample_bytree': 0.6889502163970688, 'lambda': 1.5298520979774066e-05, 'alpha': 1.5360960861922962e-06}. Best is trial 1 with value: 0.42488807513324073.\n",
      "[I 2024-08-06 17:45:46,880] Trial 10 finished with value: 0.42488361658081725 and parameters: {'eta': 0.06973407226931548, 'max_depth': 1, 'subsample': 0.7717987567043458, 'colsample_bytree': 0.6012129974524163, 'lambda': 4.6640414413827084e-08, 'alpha': 0.6618539132109329}. Best is trial 10 with value: 0.42488361658081725.\n",
      "[I 2024-08-06 17:45:48,956] Trial 11 finished with value: 0.42488402816802295 and parameters: {'eta': 0.07202125584488131, 'max_depth': 1, 'subsample': 0.7756262404011167, 'colsample_bytree': 0.6042993947589609, 'lambda': 1.0168492963348296e-08, 'alpha': 0.7382585823173424}. Best is trial 10 with value: 0.42488361658081725.\n",
      "[I 2024-08-06 17:45:52,444] Trial 12 finished with value: 0.4248886342784975 and parameters: {'eta': 0.07603829778140997, 'max_depth': 1, 'subsample': 0.7428644469324905, 'colsample_bytree': 0.6039765595709097, 'lambda': 1.1701968134723897e-08, 'alpha': 0.004269556109308328}. Best is trial 10 with value: 0.42488361658081725.\n",
      "[I 2024-08-06 17:45:55,683] Trial 13 finished with value: 0.42488132969992215 and parameters: {'eta': 0.06890466477562449, 'max_depth': 1, 'subsample': 0.7441099713589264, 'colsample_bytree': 0.6126436667214439, 'lambda': 1.0727890986960932e-08, 'alpha': 0.009333221837141263}. Best is trial 13 with value: 0.42488132969992215.\n",
      "[I 2024-08-06 17:45:58,085] Trial 14 finished with value: 0.4253040000140747 and parameters: {'eta': 0.06437626013163278, 'max_depth': 6, 'subsample': 0.6913771689729667, 'colsample_bytree': 0.8175001254573646, 'lambda': 3.282858179018284e-07, 'alpha': 0.007363661546701323}. Best is trial 13 with value: 0.42488132969992215.\n",
      "[I 2024-08-06 17:46:00,395] Trial 15 finished with value: 0.4249020485811291 and parameters: {'eta': 0.04613311838193324, 'max_depth': 3, 'subsample': 0.8011279771500086, 'colsample_bytree': 0.6502804214274661, 'lambda': 0.536953647644143, 'alpha': 0.011676049190412}. Best is trial 13 with value: 0.42488132969992215.\n",
      "[I 2024-08-06 17:46:02,480] Trial 16 finished with value: 0.42530530891262114 and parameters: {'eta': 0.07099614951675237, 'max_depth': 6, 'subsample': 0.6797123678320562, 'colsample_bytree': 0.8718915951812478, 'lambda': 1.4351982829840615e-07, 'alpha': 0.00045311475341225865}. Best is trial 13 with value: 0.42488132969992215.\n",
      "[I 2024-08-06 17:46:05,363] Trial 17 finished with value: 0.4248856231621108 and parameters: {'eta': 0.04920450029701788, 'max_depth': 1, 'subsample': 0.8532184099720252, 'colsample_bytree': 0.7747836314299241, 'lambda': 6.824503791033095e-08, 'alpha': 0.08400823311605912}. Best is trial 13 with value: 0.42488132969992215.\n",
      "[I 2024-08-06 17:46:07,752] Trial 18 finished with value: 0.42558689556535395 and parameters: {'eta': 0.09870211527506369, 'max_depth': 8, 'subsample': 0.7613264262064567, 'colsample_bytree': 0.6399324943464269, 'lambda': 1.654727579264944e-06, 'alpha': 0.0007391323857192211}. Best is trial 13 with value: 0.42488132969992215.\n",
      "[I 2024-08-06 17:46:10,038] Trial 19 finished with value: 0.4250312932187543 and parameters: {'eta': 0.08599677456435348, 'max_depth': 4, 'subsample': 0.6952531489394138, 'colsample_bytree': 0.6012603361929181, 'lambda': 1.6061207076551895e-06, 'alpha': 0.02106153986044653}. Best is trial 13 with value: 0.42488132969992215.\n",
      "[I 2024-08-06 17:46:12,308] Trial 20 finished with value: 0.4249071855073596 and parameters: {'eta': 0.06649447269389736, 'max_depth': 3, 'subsample': 0.9276520268630464, 'colsample_bytree': 0.7774279613909209, 'lambda': 2.8704641870563694e-08, 'alpha': 0.8617238847734806}. Best is trial 13 with value: 0.42488132969992215.\n",
      "[I 2024-08-06 17:46:14,419] Trial 21 finished with value: 0.4248827202254051 and parameters: {'eta': 0.07675409017703277, 'max_depth': 1, 'subsample': 0.7608933513023202, 'colsample_bytree': 0.6004314845785639, 'lambda': 1.1200113990081925e-08, 'alpha': 0.522198997810966}. Best is trial 13 with value: 0.42488132969992215.\n",
      "[I 2024-08-06 17:46:16,337] Trial 22 finished with value: 0.4248966504920593 and parameters: {'eta': 0.07953916277092896, 'max_depth': 2, 'subsample': 0.8065190808391273, 'colsample_bytree': 0.6638594662241378, 'lambda': 4.693285591356786e-07, 'alpha': 0.07253156659913067}. Best is trial 13 with value: 0.42488132969992215.\n",
      "[I 2024-08-06 17:46:18,458] Trial 23 finished with value: 0.42519035224190166 and parameters: {'eta': 0.09101722544932495, 'max_depth': 5, 'subsample': 0.7279175085735115, 'colsample_bytree': 0.6283082328850583, 'lambda': 5.08625787141524e-08, 'alpha': 0.0017568838607955812}. Best is trial 13 with value: 0.42488132969992215.\n",
      "[I 2024-08-06 17:46:21,259] Trial 24 finished with value: 0.4248972627957074 and parameters: {'eta': 0.06157268426506405, 'max_depth': 2, 'subsample': 0.7681697056149173, 'colsample_bytree': 0.6871377194275583, 'lambda': 1.1137705604268729e-08, 'alpha': 0.048456907036224385}. Best is trial 13 with value: 0.42488132969992215.\n",
      "[I 2024-08-06 17:46:23,545] Trial 25 finished with value: 0.42556001974804214 and parameters: {'eta': 0.0756278178148849, 'max_depth': 8, 'subsample': 0.8370525731473356, 'colsample_bytree': 0.6269313095651665, 'lambda': 9.385420332033242e-06, 'alpha': 0.21448745221143517}. Best is trial 13 with value: 0.42488132969992215.\n",
      "[I 2024-08-06 17:46:25,649] Trial 26 finished with value: 0.42486968043187573 and parameters: {'eta': 0.06751574799364592, 'max_depth': 2, 'subsample': 0.78109415990801, 'colsample_bytree': 0.6979643011073269, 'lambda': 5.536156333456924e-07, 'alpha': 0.9245194888983206}. Best is trial 26 with value: 0.42486968043187573.\n",
      "[I 2024-08-06 17:46:27,700] Trial 27 finished with value: 0.4248760628271148 and parameters: {'eta': 0.05474303267017667, 'max_depth': 2, 'subsample': 0.7129256715498481, 'colsample_bytree': 0.7080399723396449, 'lambda': 3.853798726070928e-07, 'alpha': 0.00014506406906502413}. Best is trial 26 with value: 0.42486968043187573.\n",
      "[I 2024-08-06 17:46:30,052] Trial 28 finished with value: 0.42512450361447046 and parameters: {'eta': 0.05452088059103706, 'max_depth': 5, 'subsample': 0.6651313140920032, 'colsample_bytree': 0.7610648711882689, 'lambda': 6.845730393696525e-07, 'alpha': 0.0001239445355097563}. Best is trial 26 with value: 0.42486968043187573.\n",
      "[I 2024-08-06 17:46:32,604] Trial 29 finished with value: 0.4250280718296395 and parameters: {'eta': 0.03925122497483667, 'max_depth': 4, 'subsample': 0.7119321859675939, 'colsample_bytree': 0.7111342532603853, 'lambda': 6.105485750156224e-05, 'alpha': 2.344228397068753e-05}. Best is trial 26 with value: 0.42486968043187573.\n",
      "[I 2024-08-06 17:46:34,724] Trial 30 finished with value: 0.4248824269857556 and parameters: {'eta': 0.05450563302476852, 'max_depth': 2, 'subsample': 0.6682289119648286, 'colsample_bytree': 0.8554942434415894, 'lambda': 4.458621202164931e-06, 'alpha': 0.0011143589583459403}. Best is trial 26 with value: 0.42486968043187573.\n",
      "[I 2024-08-06 17:46:36,776] Trial 31 finished with value: 0.4248567771775395 and parameters: {'eta': 0.055621468103545096, 'max_depth': 2, 'subsample': 0.6553565164779855, 'colsample_bytree': 0.8586788066656587, 'lambda': 5.170377784503397e-06, 'alpha': 0.0005322460513465766}. Best is trial 31 with value: 0.4248567771775395.\n",
      "[I 2024-08-06 17:46:38,862] Trial 32 finished with value: 0.42489676352599326 and parameters: {'eta': 0.039938620374540254, 'max_depth': 3, 'subsample': 0.6466473159894123, 'colsample_bytree': 0.8958999376641198, 'lambda': 0.00020283250832441084, 'alpha': 0.00032790201276483344}. Best is trial 31 with value: 0.4248567771775395.\n",
      "[I 2024-08-06 17:46:40,773] Trial 33 finished with value: 0.42485918941869216 and parameters: {'eta': 0.058462883591093404, 'max_depth': 2, 'subsample': 0.7107443610830612, 'colsample_bytree': 0.8386454989840179, 'lambda': 3.093563146313657e-05, 'alpha': 3.11175712294112e-05}. Best is trial 31 with value: 0.4248567771775395.\n",
      "[I 2024-08-06 17:46:42,883] Trial 34 finished with value: 0.42490467350012046 and parameters: {'eta': 0.0595729040438126, 'max_depth': 3, 'subsample': 0.7048895884052292, 'colsample_bytree': 0.8423755848188361, 'lambda': 4.915625431917123e-05, 'alpha': 2.213204344209615e-05}. Best is trial 31 with value: 0.4248567771775395.\n",
      "[I 2024-08-06 17:46:45,171] Trial 35 finished with value: 0.42510992652319507 and parameters: {'eta': 0.02811427093195747, 'max_depth': 5, 'subsample': 0.7194365981155287, 'colsample_bytree': 0.9304595112774291, 'lambda': 4.327952453563809e-06, 'alpha': 1.3129323928210362e-06}. Best is trial 31 with value: 0.4248567771775395.\n",
      "[I 2024-08-06 17:46:47,293] Trial 36 finished with value: 0.4248347338907419 and parameters: {'eta': 0.050558095111528936, 'max_depth': 2, 'subsample': 0.6044757738963972, 'colsample_bytree': 0.7915810927294245, 'lambda': 2.6668637634463312e-05, 'alpha': 9.50225885655121e-06}. Best is trial 36 with value: 0.4248347338907419.\n",
      "[I 2024-08-06 17:46:49,473] Trial 37 finished with value: 0.42498523739040983 and parameters: {'eta': 0.042884057795556804, 'max_depth': 4, 'subsample': 0.603233539337424, 'colsample_bytree': 0.7967883453083913, 'lambda': 2.600810248233419e-05, 'alpha': 7.383981617488825e-06}. Best is trial 36 with value: 0.4248347338907419.\n",
      "[I 2024-08-06 17:46:51,609] Trial 38 finished with value: 0.4253897197968781 and parameters: {'eta': 0.050588239581792996, 'max_depth': 7, 'subsample': 0.626414292267625, 'colsample_bytree': 0.8813077385308427, 'lambda': 0.00031826498276118635, 'alpha': 3.923829057252081e-07}. Best is trial 36 with value: 0.4248347338907419.\n",
      "[I 2024-08-06 17:46:53,661] Trial 39 finished with value: 0.4248782069021862 and parameters: {'eta': 0.06285011125558422, 'max_depth': 3, 'subsample': 0.6535375399836526, 'colsample_bytree': 0.9343064571048513, 'lambda': 0.000526197940378915, 'alpha': 6.548912830489473e-05}. Best is trial 36 with value: 0.4248347338907419.\n",
      "[I 2024-08-06 17:46:57,165] Trial 40 finished with value: 0.42486336605747926 and parameters: {'eta': 0.012883025667231846, 'max_depth': 2, 'subsample': 0.6288213645507664, 'colsample_bytree': 0.8017452150760702, 'lambda': 0.00013872527405707323, 'alpha': 8.674391994183871e-06}. Best is trial 36 with value: 0.4248347338907419.\n",
      "[I 2024-08-06 17:47:00,370] Trial 41 finished with value: 0.42485278528238485 and parameters: {'eta': 0.019230005126488654, 'max_depth': 2, 'subsample': 0.6194666764385411, 'colsample_bytree': 0.8029445542749426, 'lambda': 0.00013511337572956456, 'alpha': 7.692344522565967e-06}. Best is trial 36 with value: 0.4248347338907419.\n",
      "[I 2024-08-06 17:47:03,589] Trial 42 finished with value: 0.42485137319887406 and parameters: {'eta': 0.01695507623343781, 'max_depth': 2, 'subsample': 0.6175239165673392, 'colsample_bytree': 0.8059981999836218, 'lambda': 0.013005291445616874, 'alpha': 9.923077775643191e-06}. Best is trial 36 with value: 0.4248347338907419.\n",
      "[I 2024-08-06 17:47:06,483] Trial 43 finished with value: 0.42494324178745974 and parameters: {'eta': 0.018876657871181562, 'max_depth': 4, 'subsample': 0.6024475361433058, 'colsample_bytree': 0.8377832796619215, 'lambda': 0.02490794774161712, 'alpha': 1.1412282562172307e-08}. Best is trial 36 with value: 0.4248347338907419.\n",
      "[I 2024-08-06 17:47:09,246] Trial 44 finished with value: 0.42498523893823664 and parameters: {'eta': 0.022615207767123464, 'max_depth': 4, 'subsample': 0.6209789398339224, 'colsample_bytree': 0.7400629605698704, 'lambda': 0.001507311221031055, 'alpha': 3.556098427095364e-05}. Best is trial 36 with value: 0.4248347338907419.\n",
      "[I 2024-08-06 17:47:11,656] Trial 45 finished with value: 0.4248983246227979 and parameters: {'eta': 0.030316366564326746, 'max_depth': 3, 'subsample': 0.6439161259074828, 'colsample_bytree': 0.8007259241640491, 'lambda': 0.008045360432235965, 'alpha': 1.8420218686575612e-06}. Best is trial 36 with value: 0.4248347338907419.\n",
      "[I 2024-08-06 17:47:14,492] Trial 46 finished with value: 0.42582201924783925 and parameters: {'eta': 0.024386853352027685, 'max_depth': 13, 'subsample': 0.664933042614373, 'colsample_bytree': 0.828432678920874, 'lambda': 0.44626622936437776, 'alpha': 4.539260506723346e-07}. Best is trial 36 with value: 0.4248347338907419.\n",
      "[I 2024-08-06 17:47:18,422] Trial 47 finished with value: 0.42557352065030646 and parameters: {'eta': 0.017166464492446916, 'max_depth': 9, 'subsample': 0.6124789844392756, 'colsample_bytree': 0.8563594313624825, 'lambda': 2.1540455989394644e-05, 'alpha': 1.0102441382773832e-05}. Best is trial 36 with value: 0.4248347338907419.\n",
      "[I 2024-08-06 17:47:28,583] Trial 48 finished with value: 0.42487680449302984 and parameters: {'eta': 0.011014099963224016, 'max_depth': 1, 'subsample': 0.6338336262111405, 'colsample_bytree': 0.8998528250096931, 'lambda': 0.04615735784278515, 'alpha': 3.8579257659053504e-06}. Best is trial 36 with value: 0.4248347338907419.\n",
      "[I 2024-08-06 17:47:31,152] Trial 49 finished with value: 0.4248852176718531 and parameters: {'eta': 0.033805942670093854, 'max_depth': 2, 'subsample': 0.6811329506452579, 'colsample_bytree': 0.7565864729839549, 'lambda': 5.346922011249878e-06, 'alpha': 5.05690073469253e-05}. Best is trial 36 with value: 0.4248347338907419.\n",
      "[I 2024-08-06 17:47:33,038] Trial 50 finished with value: 0.42511181357491207 and parameters: {'eta': 0.05774531900910593, 'max_depth': 5, 'subsample': 0.6548011435155177, 'colsample_bytree': 0.9552971317034596, 'lambda': 5.814688520368118e-05, 'alpha': 0.0003177681494225768}. Best is trial 36 with value: 0.4248347338907419.\n",
      "[I 2024-08-06 17:47:36,141] Trial 51 finished with value: 0.42485768387854983 and parameters: {'eta': 0.013994533898661392, 'max_depth': 2, 'subsample': 0.6280934072835663, 'colsample_bytree': 0.8029204634461166, 'lambda': 0.000932141580604954, 'alpha': 1.170328980584179e-05}. Best is trial 36 with value: 0.4248347338907419.\n",
      "[I 2024-08-06 17:47:40,462] Trial 52 finished with value: 0.4248713507919524 and parameters: {'eta': 0.016571040437744513, 'max_depth': 1, 'subsample': 0.6194392366651579, 'colsample_bytree': 0.8155114203581096, 'lambda': 0.0009679055978207469, 'alpha': 1.3619703294538905e-05}. Best is trial 36 with value: 0.4248347338907419.\n",
      "[I 2024-08-06 17:47:43,082] Trial 53 finished with value: 0.4248601748993333 and parameters: {'eta': 0.023929183168438437, 'max_depth': 3, 'subsample': 0.6002979275422372, 'colsample_bytree': 0.7838894590748705, 'lambda': 0.00804945249996886, 'alpha': 3.6887887689688177e-06}. Best is trial 36 with value: 0.4248347338907419.\n",
      "[I 2024-08-06 17:47:47,504] Trial 54 finished with value: 0.42486030372401395 and parameters: {'eta': 0.010184248773841538, 'max_depth': 2, 'subsample': 0.6411739479298807, 'colsample_bytree': 0.8128127848046678, 'lambda': 0.00038425197914015725, 'alpha': 0.00014991410978375646}. Best is trial 36 with value: 0.4248347338907419.\n",
      "[I 2024-08-06 17:47:51,458] Trial 55 finished with value: 0.42485876169300485 and parameters: {'eta': 0.020378408869606252, 'max_depth': 1, 'subsample': 0.6811017752684674, 'colsample_bytree': 0.8491712964198307, 'lambda': 0.0022499023852684814, 'alpha': 1.1614944479177967e-06}. Best is trial 36 with value: 0.4248347338907419.\n",
      "[I 2024-08-06 17:47:55,179] Trial 56 finished with value: 0.4248623988712029 and parameters: {'eta': 0.02040286059424834, 'max_depth': 1, 'subsample': 0.68282189102931, 'colsample_bytree': 0.7881279139488478, 'lambda': 0.030740151945030474, 'alpha': 4.181795902739172e-07}. Best is trial 36 with value: 0.4248347338907419.\n",
      "[I 2024-08-06 17:47:58,282] Trial 57 finished with value: 0.42484056131666187 and parameters: {'eta': 0.026397502223622114, 'max_depth': 1, 'subsample': 0.6161540933469059, 'colsample_bytree': 0.8618424518674762, 'lambda': 0.002873423445137087, 'alpha': 9.255382937383192e-07}. Best is trial 36 with value: 0.4248347338907419.\n",
      "[I 2024-08-06 17:48:01,286] Trial 58 finished with value: 0.42578730358135536 and parameters: {'eta': 0.028252550340252636, 'max_depth': 12, 'subsample': 0.6118530837555058, 'colsample_bytree': 0.77306698366094, 'lambda': 0.005324934589649515, 'alpha': 1.0084781614598697e-07}. Best is trial 36 with value: 0.4248347338907419.\n",
      "[I 2024-08-06 17:48:04,965] Trial 59 finished with value: 0.42582752527941337 and parameters: {'eta': 0.014676332943989501, 'max_depth': 15, 'subsample': 0.6336760407050428, 'colsample_bytree': 0.8716463248158582, 'lambda': 0.015181507770923398, 'alpha': 7.798513060190941e-07}. Best is trial 36 with value: 0.4248347338907419.\n",
      "[I 2024-08-06 17:48:07,183] Trial 60 finished with value: 0.4249971986337384 and parameters: {'eta': 0.035649387500905697, 'max_depth': 4, 'subsample': 0.6567674094643111, 'colsample_bytree': 0.8266135705116049, 'lambda': 0.0009568359644883718, 'alpha': 4.09463295249299e-06}. Best is trial 36 with value: 0.4248347338907419.\n",
      "[I 2024-08-06 17:48:10,513] Trial 61 finished with value: 0.42485664075751833 and parameters: {'eta': 0.021039310220459764, 'max_depth': 2, 'subsample': 0.6159900060640112, 'colsample_bytree': 0.851167019404832, 'lambda': 0.0034737053747447115, 'alpha': 1.974946668618518e-06}. Best is trial 36 with value: 0.4248347338907419.\n",
      "[I 2024-08-06 17:48:13,691] Trial 62 finished with value: 0.42486282985797413 and parameters: {'eta': 0.02701391151333014, 'max_depth': 2, 'subsample': 0.6164079061262339, 'colsample_bytree': 0.8658446486690992, 'lambda': 0.0034376433746721303, 'alpha': 1.992835189583307e-07}. Best is trial 36 with value: 0.4248347338907419.\n",
      "[I 2024-08-06 17:48:17,353] Trial 63 finished with value: 0.42489150615346777 and parameters: {'eta': 0.01590749785075589, 'max_depth': 3, 'subsample': 0.9767297994777416, 'colsample_bytree': 0.8919588623364412, 'lambda': 0.0788383774654251, 'alpha': 6.811380014691891e-06}. Best is trial 36 with value: 0.4248347338907419.\n",
      "[I 2024-08-06 17:48:21,243] Trial 64 finished with value: 0.424878812202652 and parameters: {'eta': 0.02246243433778478, 'max_depth': 1, 'subsample': 0.6277905935400953, 'colsample_bytree': 0.7267471088397424, 'lambda': 0.00012817369849257585, 'alpha': 2.623797745904801e-06}. Best is trial 36 with value: 0.4248347338907419.\n",
      "[I 2024-08-06 17:48:25,038] Trial 65 finished with value: 0.4248734474332755 and parameters: {'eta': 0.013335619630404996, 'max_depth': 3, 'subsample': 0.6410736584108898, 'colsample_bytree': 0.8098951011681523, 'lambda': 0.0016886714082669074, 'alpha': 1.6737601686917787e-05}. Best is trial 36 with value: 0.4248347338907419.\n",
      "[I 2024-08-06 17:48:28,850] Trial 66 finished with value: 0.42484204694948835 and parameters: {'eta': 0.026239548436924456, 'max_depth': 1, 'subsample': 0.6161930459228, 'colsample_bytree': 0.9106265990111201, 'lambda': 0.09560350575550991, 'alpha': 6.197619005612464e-05}. Best is trial 36 with value: 0.4248347338907419.\n",
      "[I 2024-08-06 17:48:32,354] Trial 67 finished with value: 0.4248368702111935 and parameters: {'eta': 0.033388786180727575, 'max_depth': 1, 'subsample': 0.6098584329587771, 'colsample_bytree': 0.9156227480987308, 'lambda': 0.11355086135887445, 'alpha': 0.0025353151635865256}. Best is trial 36 with value: 0.4248347338907419.\n",
      "[I 2024-08-06 17:48:36,492] Trial 68 finished with value: 0.4248442336033779 and parameters: {'eta': 0.03248167930514347, 'max_depth': 1, 'subsample': 0.8884382868462878, 'colsample_bytree': 0.9707621532226117, 'lambda': 0.24765004320805328, 'alpha': 0.0022552782592858995}. Best is trial 36 with value: 0.4248347338907419.\n",
      "[I 2024-08-06 17:48:41,082] Trial 69 finished with value: 0.4248504837809564 and parameters: {'eta': 0.03369591487975005, 'max_depth': 1, 'subsample': 0.9150912592352658, 'colsample_bytree': 0.9734613423853712, 'lambda': 0.20303720379791015, 'alpha': 0.003372683831913183}. Best is trial 36 with value: 0.4248347338907419.\n",
      "[I 2024-08-06 17:48:44,684] Trial 70 finished with value: 0.4248629103520775 and parameters: {'eta': 0.03285076107612021, 'max_depth': 1, 'subsample': 0.9208054383570926, 'colsample_bytree': 0.9984942624117126, 'lambda': 0.21742911515044586, 'alpha': 0.003809375173041269}. Best is trial 36 with value: 0.4248347338907419.\n",
      "[I 2024-08-06 17:48:49,412] Trial 71 finished with value: 0.4248467057709699 and parameters: {'eta': 0.031820518616605335, 'max_depth': 1, 'subsample': 0.8828241871933817, 'colsample_bytree': 0.977356037409608, 'lambda': 0.14337288904594161, 'alpha': 0.005348930664780091}. Best is trial 36 with value: 0.4248347338907419.\n",
      "[I 2024-08-06 17:48:53,228] Trial 72 finished with value: 0.4248561555781148 and parameters: {'eta': 0.037132268670226544, 'max_depth': 1, 'subsample': 0.872321763870938, 'colsample_bytree': 0.975053686532629, 'lambda': 0.1324207408325474, 'alpha': 0.0023139604278541166}. Best is trial 36 with value: 0.4248347338907419.\n",
      "[I 2024-08-06 17:48:56,549] Trial 73 finished with value: 0.42486316702941845 and parameters: {'eta': 0.04269675820536095, 'max_depth': 1, 'subsample': 0.8881014057964453, 'colsample_bytree': 0.9796447143694196, 'lambda': 0.15314598948249983, 'alpha': 0.02277122242963248}. Best is trial 36 with value: 0.4248347338907419.\n",
      "[I 2024-08-06 17:49:03,077] Trial 74 finished with value: 0.42486070443565105 and parameters: {'eta': 0.026403907868653376, 'max_depth': 1, 'subsample': 0.9368245306880982, 'colsample_bytree': 0.9150380121056046, 'lambda': 0.6475716863376609, 'alpha': 0.015347211894297335}. Best is trial 36 with value: 0.4248347338907419.\n",
      "[I 2024-08-06 17:49:09,130] Trial 75 finished with value: 0.42484938784822357 and parameters: {'eta': 0.03060948872022448, 'max_depth': 1, 'subsample': 0.9044418230280595, 'colsample_bytree': 0.9511447995525377, 'lambda': 0.32789151731128185, 'alpha': 0.0038787866063427216}. Best is trial 36 with value: 0.4248347338907419.\n",
      "[I 2024-08-06 17:49:15,872] Trial 76 finished with value: 0.4248475709088114 and parameters: {'eta': 0.03189791322458708, 'max_depth': 1, 'subsample': 0.8961595353493625, 'colsample_bytree': 0.9500243503061935, 'lambda': 0.3348637116070314, 'alpha': 0.0060734820726398}. Best is trial 36 with value: 0.4248347338907419.\n",
      "[I 2024-08-06 17:49:22,496] Trial 77 finished with value: 0.42484881051110623 and parameters: {'eta': 0.03005645625635915, 'max_depth': 1, 'subsample': 0.8948925851194918, 'colsample_bytree': 0.9530479376973222, 'lambda': 0.39938862265064734, 'alpha': 0.0011316634571933717}. Best is trial 36 with value: 0.4248347338907419.\n",
      "[I 2024-08-06 17:49:26,565] Trial 78 finished with value: 0.42487132198183375 and parameters: {'eta': 0.0378399227963646, 'max_depth': 1, 'subsample': 0.8618074831532738, 'colsample_bytree': 0.9488573739099458, 'lambda': 0.0726590850613243, 'alpha': 0.0009841515540790552}. Best is trial 36 with value: 0.4248347338907419.\n",
      "[I 2024-08-06 17:49:29,851] Trial 79 finished with value: 0.4248630314904567 and parameters: {'eta': 0.041540401620774825, 'max_depth': 1, 'subsample': 0.9492852802103509, 'colsample_bytree': 0.9890030908388925, 'lambda': 0.34879411715703434, 'alpha': 0.006997760435306777}. Best is trial 36 with value: 0.4248347338907419.\n",
      "[I 2024-08-06 17:49:32,036] Trial 80 finished with value: 0.42488295936401055 and parameters: {'eta': 0.04499034139756751, 'max_depth': 2, 'subsample': 0.8309864882421254, 'colsample_bytree': 0.9618966182004859, 'lambda': 0.07546197070546723, 'alpha': 0.0019905329556317982}. Best is trial 36 with value: 0.4248347338907419.\n",
      "[I 2024-08-06 17:49:35,640] Trial 81 finished with value: 0.42484588052426003 and parameters: {'eta': 0.030000675066430085, 'max_depth': 1, 'subsample': 0.893671503919929, 'colsample_bytree': 0.9420807633784338, 'lambda': 0.7902309234524484, 'alpha': 0.03745350544789107}. Best is trial 36 with value: 0.4248347338907419.\n",
      "[I 2024-08-06 17:49:39,111] Trial 82 finished with value: 0.4248538584849521 and parameters: {'eta': 0.03055995451197813, 'max_depth': 1, 'subsample': 0.8961678083544649, 'colsample_bytree': 0.912745010925153, 'lambda': 0.9069281392507693, 'alpha': 0.05406943100288421}. Best is trial 36 with value: 0.4248347338907419.\n",
      "[I 2024-08-06 17:49:41,982] Trial 83 finished with value: 0.4248768244637782 and parameters: {'eta': 0.035737662129869584, 'max_depth': 2, 'subsample': 0.8774615204741335, 'colsample_bytree': 0.9402386665002964, 'lambda': 0.9638877514034819, 'alpha': 0.035136258410351714}. Best is trial 36 with value: 0.4248347338907419.\n",
      "[I 2024-08-06 17:49:45,720] Trial 84 finished with value: 0.4248729607935727 and parameters: {'eta': 0.026236877150281203, 'max_depth': 1, 'subsample': 0.8572264379340717, 'colsample_bytree': 0.9233025833406744, 'lambda': 0.12500570338868905, 'alpha': 0.12778187958939094}. Best is trial 36 with value: 0.4248347338907419.\n",
      "[I 2024-08-06 17:49:48,706] Trial 85 finished with value: 0.4248688562281284 and parameters: {'eta': 0.029178955459971043, 'max_depth': 2, 'subsample': 0.8862757397832269, 'colsample_bytree': 0.941805800310771, 'lambda': 0.267112097132236, 'alpha': 0.008380444567317602}. Best is trial 36 with value: 0.4248347338907419.\n",
      "[I 2024-08-06 17:49:52,579] Trial 86 finished with value: 0.4248849301317285 and parameters: {'eta': 0.02508979343764066, 'max_depth': 3, 'subsample': 0.8146842904964336, 'colsample_bytree': 0.9635974946521809, 'lambda': 0.09217356582928331, 'alpha': 0.00021045636593931296}. Best is trial 36 with value: 0.4248347338907419.\n",
      "[I 2024-08-06 17:49:57,414] Trial 87 finished with value: 0.42486060712295687 and parameters: {'eta': 0.031730372352913226, 'max_depth': 1, 'subsample': 0.8434234325740125, 'colsample_bytree': 0.9085843162016646, 'lambda': 0.6065555050889573, 'alpha': 0.000665999471605927}. Best is trial 36 with value: 0.4248347338907419.\n",
      "[I 2024-08-06 17:50:02,144] Trial 88 finished with value: 0.42485375918748586 and parameters: {'eta': 0.0388738725242436, 'max_depth': 1, 'subsample': 0.9037615270333653, 'colsample_bytree': 0.926073325971885, 'lambda': 0.04893002956328574, 'alpha': 0.0012684368610970905}. Best is trial 36 with value: 0.4248347338907419.\n",
      "[I 2024-08-06 17:50:06,176] Trial 89 finished with value: 0.4257421627803382 and parameters: {'eta': 0.05018021233987865, 'max_depth': 10, 'subsample': 0.7884039731568343, 'colsample_bytree': 0.9896723382067653, 'lambda': 0.026603043646141182, 'alpha': 7.241083245190231e-05}. Best is trial 36 with value: 0.4248347338907419.\n",
      "[I 2024-08-06 17:50:08,677] Trial 90 finished with value: 0.42486763958845997 and parameters: {'eta': 0.03214061341846732, 'max_depth': 2, 'subsample': 0.9379213088773231, 'colsample_bytree': 0.8847964735004933, 'lambda': 0.4857568995417776, 'alpha': 0.013269941220632495}. Best is trial 36 with value: 0.4248347338907419.\n",
      "[I 2024-08-06 17:50:11,981] Trial 91 finished with value: 0.42485768675554747 and parameters: {'eta': 0.029660511775460335, 'max_depth': 1, 'subsample': 0.9010188557621721, 'colsample_bytree': 0.9508444856203114, 'lambda': 0.28857117755918854, 'alpha': 0.00567030916708649}. Best is trial 36 with value: 0.4248347338907419.\n",
      "[I 2024-08-06 17:50:14,250] Trial 92 finished with value: 0.42486832674114805 and parameters: {'eta': 0.035955125742939124, 'max_depth': 2, 'subsample': 0.9083002431684818, 'colsample_bytree': 0.9671658437662357, 'lambda': 0.4187472109782985, 'alpha': 0.003128785933909945}. Best is trial 36 with value: 0.4248347338907419.\n",
      "[I 2024-08-06 17:50:17,314] Trial 93 finished with value: 0.42484226583545415 and parameters: {'eta': 0.034398099410929014, 'max_depth': 1, 'subsample': 0.8863401585454435, 'colsample_bytree': 0.9435701486854395, 'lambda': 0.14282407203489636, 'alpha': 0.025680934118506686}. Best is trial 36 with value: 0.4248347338907419.\n",
      "[I 2024-08-06 17:50:20,557] Trial 94 finished with value: 0.4248481676830925 and parameters: {'eta': 0.03456629315060908, 'max_depth': 1, 'subsample': 0.8905022497202145, 'colsample_bytree': 0.9394487814314564, 'lambda': 0.1464411895501272, 'alpha': 0.030590482618717767}. Best is trial 36 with value: 0.4248347338907419.\n",
      "[I 2024-08-06 17:50:23,160] Trial 95 finished with value: 0.4248633082020994 and parameters: {'eta': 0.04696203080362764, 'max_depth': 1, 'subsample': 0.8808974806112586, 'colsample_bytree': 0.9370739432599573, 'lambda': 0.16516971262963873, 'alpha': 0.02447708237975543}. Best is trial 36 with value: 0.4248347338907419.\n",
      "[I 2024-08-06 17:50:25,548] Trial 96 finished with value: 0.42487190817756554 and parameters: {'eta': 0.03336059684107547, 'max_depth': 2, 'subsample': 0.8635932823625085, 'colsample_bytree': 0.9052888072929262, 'lambda': 0.10952806322557139, 'alpha': 0.37183959861486354}. Best is trial 36 with value: 0.4248347338907419.\n",
      "[I 2024-08-06 17:50:27,798] Trial 97 finished with value: 0.42491198780821454 and parameters: {'eta': 0.03993021084051979, 'max_depth': 3, 'subsample': 0.8488008031623097, 'colsample_bytree': 0.985437368331291, 'lambda': 0.05005209252807394, 'alpha': 0.11232646270714111}. Best is trial 36 with value: 0.4248347338907419.\n",
      "[I 2024-08-06 17:50:30,852] Trial 98 finished with value: 0.42486746573778555 and parameters: {'eta': 0.027895573642068773, 'max_depth': 1, 'subsample': 0.9184214890314144, 'colsample_bytree': 0.9217392232844126, 'lambda': 0.2189905177355738, 'alpha': 0.010850024678013553}. Best is trial 36 with value: 0.4248347338907419.\n",
      "[I 2024-08-06 17:50:33,157] Trial 99 finished with value: 0.42540034509685354 and parameters: {'eta': 0.037207141372709134, 'max_depth': 7, 'subsample': 0.8688800225730721, 'colsample_bytree': 0.9612280655533698, 'lambda': 0.019400970586599044, 'alpha': 0.16843623775911779}. Best is trial 36 with value: 0.4248347338907419.\n"
     ]
    },
    {
     "name": "stdout",
     "output_type": "stream",
     "text": [
      "Best Parameters: {'eta': 0.050558095111528936, 'max_depth': 2, 'subsample': 0.6044757738963972, 'colsample_bytree': 0.7915810927294245, 'lambda': 2.6668637634463312e-05, 'alpha': 9.50225885655121e-06}\n"
     ]
    }
   ],
   "source": [
    "\n",
    "# Define the objective function\n",
    "def objective(trial):\n",
    "    params = {\n",
    "        'objective': 'reg:squarederror',\n",
    "        'eval_metric': 'mae',\n",
    "        'eta': trial.suggest_float('eta', 0.01, 0.1),\n",
    "        'max_depth': trial.suggest_int('max_depth', 1, 15),\n",
    "        'subsample': trial.suggest_float('subsample', 0.6, 1.0),\n",
    "        'colsample_bytree': trial.suggest_float('colsample_bytree', 0.6, 1.0),\n",
    "        'lambda': trial.suggest_float('lambda', 1e-8, 1.0, log=True),\n",
    "        'alpha': trial.suggest_float('alpha', 1e-8, 1.0, log=True)\n",
    "    }\n",
    "        \n",
    "    # Train the model\n",
    "    model = xgb.train(params, d_train, num_boost_round=1000, evals=watchlist,\n",
    "                      early_stopping_rounds=100, verbose_eval=False)\n",
    "    \n",
    "    # Return the best validation MAE\n",
    "    val_mae = model.best_score\n",
    "    return val_mae\n",
    "\n",
    "# Create a study object and optimize the objective function\n",
    "study = optuna.create_study(direction='minimize')\n",
    "study.optimize(objective, n_trials=100, timeout=600)\n",
    "\n",
    "# Print the best parameters\n",
    "print(f\"Best Parameters: {study.best_params}\")\n"
   ]
  },
  {
   "cell_type": "code",
   "execution_count": 161,
   "metadata": {},
   "outputs": [],
   "source": [
    "best_opts= {'eta': 0.050558095111528936, \n",
    "            'max_depth': 1, \n",
    "            'subsample': 0.6044757738963972, \n",
    "            'colsample_bytree': 0.7915810927294245, \n",
    "            'lambda': 2.6668637634463312e-05, \n",
    "            'alpha': 9.50225885655121e-06,\n",
    "                'eval_metric' : 'mae'}\n"
   ]
  },
  {
   "cell_type": "code",
   "execution_count": 167,
   "metadata": {},
   "outputs": [
    {
     "name": "stdout",
     "output_type": "stream",
     "text": [
      "[0]\ttrain-mae:0.41934\tvalid-mae:0.42684\n",
      "[10]\ttrain-mae:0.41831\tvalid-mae:0.42591\n",
      "[20]\ttrain-mae:0.41780\tvalid-mae:0.42541\n",
      "[30]\ttrain-mae:0.41750\tvalid-mae:0.42514\n",
      "[40]\ttrain-mae:0.41733\tvalid-mae:0.42500\n",
      "[50]\ttrain-mae:0.41729\tvalid-mae:0.42497\n",
      "[60]\ttrain-mae:0.41723\tvalid-mae:0.42489\n",
      "[70]\ttrain-mae:0.41716\tvalid-mae:0.42483\n",
      "[71]\ttrain-mae:0.41716\tvalid-mae:0.42483\n"
     ]
    }
   ],
   "source": [
    "# Train best XGBoost model\n",
    "clf = xgb.train(\n",
    "    best_opts,\n",
    "    d_train,\n",
    "    num_boost_round=72,  # Choose a suitable number of boosting rounds\n",
    "    evals=watchlist,\n",
    "    early_stopping_rounds=100,\n",
    "    verbose_eval=10\n",
    ")"
   ]
  },
  {
   "cell_type": "code",
   "execution_count": 222,
   "metadata": {},
   "outputs": [
    {
     "data": {
      "text/plain": [
       "0.06974488"
      ]
     },
     "execution_count": 222,
     "metadata": {},
     "output_type": "execute_result"
    }
   ],
   "source": [
    "# Get final loss, it's near-identical\n",
    "xgb_val = (clf.predict(d_valid)*Y_train.std()) + Y_train.mean()\n",
    "get_loss(y_pred=xgb_val, y_true=Y_val)"
   ]
  },
  {
   "cell_type": "code",
   "execution_count": 245,
   "metadata": {},
   "outputs": [
    {
     "data": {
      "application/vnd.plotly.v1+json": {
       "config": {
        "plotlyServerURL": "https://plot.ly"
       },
       "data": [
        {
         "mode": "markers",
         "name": "Objective Value",
         "type": "scatter",
         "x": [
          0,
          1,
          2,
          3,
          4,
          5,
          6,
          7,
          8,
          9,
          10,
          11,
          12,
          13,
          14,
          15,
          16,
          17,
          18,
          19,
          20,
          21,
          22,
          23,
          24,
          25,
          26,
          27,
          28,
          29,
          30,
          31,
          32,
          33,
          34,
          35,
          36,
          37,
          38,
          39,
          40,
          41,
          42,
          43,
          44,
          45,
          46,
          47,
          48,
          49,
          50,
          51,
          52,
          53,
          54,
          55,
          56,
          57,
          58,
          59,
          60,
          61,
          62,
          63,
          64,
          65,
          66,
          67,
          68,
          69,
          70,
          71,
          72,
          73,
          74,
          75,
          76,
          77,
          78,
          79,
          80,
          81,
          82,
          83,
          84,
          85,
          86,
          87,
          88,
          89,
          90,
          91,
          92,
          93,
          94,
          95,
          96,
          97,
          98,
          99
         ],
         "y": [
          0.4250122785152996,
          0.42488807513324073,
          0.42583106763654893,
          0.42579302281200637,
          0.4258846941476487,
          0.42591210391685386,
          0.4251989848539579,
          0.42579619934650736,
          0.4257900953494082,
          0.42572426025177845,
          0.42488361658081725,
          0.42488402816802295,
          0.4248886342784975,
          0.42488132969992215,
          0.4253040000140747,
          0.4249020485811291,
          0.42530530891262114,
          0.4248856231621108,
          0.42558689556535395,
          0.4250312932187543,
          0.4249071855073596,
          0.4248827202254051,
          0.4248966504920593,
          0.42519035224190166,
          0.4248972627957074,
          0.42556001974804214,
          0.42486968043187573,
          0.4248760628271148,
          0.42512450361447046,
          0.4250280718296395,
          0.4248824269857556,
          0.4248567771775395,
          0.42489676352599326,
          0.42485918941869216,
          0.42490467350012046,
          0.42510992652319507,
          0.4248347338907419,
          0.42498523739040983,
          0.4253897197968781,
          0.4248782069021862,
          0.42486336605747926,
          0.42485278528238485,
          0.42485137319887406,
          0.42494324178745974,
          0.42498523893823664,
          0.4248983246227979,
          0.42582201924783925,
          0.42557352065030646,
          0.42487680449302984,
          0.4248852176718531,
          0.42511181357491207,
          0.42485768387854983,
          0.4248713507919524,
          0.4248601748993333,
          0.42486030372401395,
          0.42485876169300485,
          0.4248623988712029,
          0.42484056131666187,
          0.42578730358135536,
          0.42582752527941337,
          0.4249971986337384,
          0.42485664075751833,
          0.42486282985797413,
          0.42489150615346777,
          0.424878812202652,
          0.4248734474332755,
          0.42484204694948835,
          0.4248368702111935,
          0.4248442336033779,
          0.4248504837809564,
          0.4248629103520775,
          0.4248467057709699,
          0.4248561555781148,
          0.42486316702941845,
          0.42486070443565105,
          0.42484938784822357,
          0.4248475709088114,
          0.42484881051110623,
          0.42487132198183375,
          0.4248630314904567,
          0.42488295936401055,
          0.42484588052426003,
          0.4248538584849521,
          0.4248768244637782,
          0.4248729607935727,
          0.4248688562281284,
          0.4248849301317285,
          0.42486060712295687,
          0.42485375918748586,
          0.4257421627803382,
          0.42486763958845997,
          0.42485768675554747,
          0.42486832674114805,
          0.42484226583545415,
          0.4248481676830925,
          0.4248633082020994,
          0.42487190817756554,
          0.42491198780821454,
          0.42486746573778555,
          0.42540034509685354
         ]
        },
        {
         "mode": "lines",
         "name": "Best Value",
         "type": "scatter",
         "x": [
          0,
          1,
          2,
          3,
          4,
          5,
          6,
          7,
          8,
          9,
          10,
          11,
          12,
          13,
          14,
          15,
          16,
          17,
          18,
          19,
          20,
          21,
          22,
          23,
          24,
          25,
          26,
          27,
          28,
          29,
          30,
          31,
          32,
          33,
          34,
          35,
          36,
          37,
          38,
          39,
          40,
          41,
          42,
          43,
          44,
          45,
          46,
          47,
          48,
          49,
          50,
          51,
          52,
          53,
          54,
          55,
          56,
          57,
          58,
          59,
          60,
          61,
          62,
          63,
          64,
          65,
          66,
          67,
          68,
          69,
          70,
          71,
          72,
          73,
          74,
          75,
          76,
          77,
          78,
          79,
          80,
          81,
          82,
          83,
          84,
          85,
          86,
          87,
          88,
          89,
          90,
          91,
          92,
          93,
          94,
          95,
          96,
          97,
          98,
          99
         ],
         "y": [
          0.4250122785152996,
          0.42488807513324073,
          0.42488807513324073,
          0.42488807513324073,
          0.42488807513324073,
          0.42488807513324073,
          0.42488807513324073,
          0.42488807513324073,
          0.42488807513324073,
          0.42488807513324073,
          0.42488361658081725,
          0.42488361658081725,
          0.42488361658081725,
          0.42488132969992215,
          0.42488132969992215,
          0.42488132969992215,
          0.42488132969992215,
          0.42488132969992215,
          0.42488132969992215,
          0.42488132969992215,
          0.42488132969992215,
          0.42488132969992215,
          0.42488132969992215,
          0.42488132969992215,
          0.42488132969992215,
          0.42488132969992215,
          0.42486968043187573,
          0.42486968043187573,
          0.42486968043187573,
          0.42486968043187573,
          0.42486968043187573,
          0.4248567771775395,
          0.4248567771775395,
          0.4248567771775395,
          0.4248567771775395,
          0.4248567771775395,
          0.4248347338907419,
          0.4248347338907419,
          0.4248347338907419,
          0.4248347338907419,
          0.4248347338907419,
          0.4248347338907419,
          0.4248347338907419,
          0.4248347338907419,
          0.4248347338907419,
          0.4248347338907419,
          0.4248347338907419,
          0.4248347338907419,
          0.4248347338907419,
          0.4248347338907419,
          0.4248347338907419,
          0.4248347338907419,
          0.4248347338907419,
          0.4248347338907419,
          0.4248347338907419,
          0.4248347338907419,
          0.4248347338907419,
          0.4248347338907419,
          0.4248347338907419,
          0.4248347338907419,
          0.4248347338907419,
          0.4248347338907419,
          0.4248347338907419,
          0.4248347338907419,
          0.4248347338907419,
          0.4248347338907419,
          0.4248347338907419,
          0.4248347338907419,
          0.4248347338907419,
          0.4248347338907419,
          0.4248347338907419,
          0.4248347338907419,
          0.4248347338907419,
          0.4248347338907419,
          0.4248347338907419,
          0.4248347338907419,
          0.4248347338907419,
          0.4248347338907419,
          0.4248347338907419,
          0.4248347338907419,
          0.4248347338907419,
          0.4248347338907419,
          0.4248347338907419,
          0.4248347338907419,
          0.4248347338907419,
          0.4248347338907419,
          0.4248347338907419,
          0.4248347338907419,
          0.4248347338907419,
          0.4248347338907419,
          0.4248347338907419,
          0.4248347338907419,
          0.4248347338907419,
          0.4248347338907419,
          0.4248347338907419,
          0.4248347338907419,
          0.4248347338907419,
          0.4248347338907419,
          0.4248347338907419,
          0.4248347338907419
         ]
        },
        {
         "marker": {
          "color": "#cccccc"
         },
         "mode": "markers",
         "name": "Infeasible Trial",
         "showlegend": false,
         "type": "scatter",
         "x": [],
         "y": []
        }
       ],
       "layout": {
        "template": {
         "data": {
          "bar": [
           {
            "error_x": {
             "color": "#2a3f5f"
            },
            "error_y": {
             "color": "#2a3f5f"
            },
            "marker": {
             "line": {
              "color": "#E5ECF6",
              "width": 0.5
             },
             "pattern": {
              "fillmode": "overlay",
              "size": 10,
              "solidity": 0.2
             }
            },
            "type": "bar"
           }
          ],
          "barpolar": [
           {
            "marker": {
             "line": {
              "color": "#E5ECF6",
              "width": 0.5
             },
             "pattern": {
              "fillmode": "overlay",
              "size": 10,
              "solidity": 0.2
             }
            },
            "type": "barpolar"
           }
          ],
          "carpet": [
           {
            "aaxis": {
             "endlinecolor": "#2a3f5f",
             "gridcolor": "white",
             "linecolor": "white",
             "minorgridcolor": "white",
             "startlinecolor": "#2a3f5f"
            },
            "baxis": {
             "endlinecolor": "#2a3f5f",
             "gridcolor": "white",
             "linecolor": "white",
             "minorgridcolor": "white",
             "startlinecolor": "#2a3f5f"
            },
            "type": "carpet"
           }
          ],
          "choropleth": [
           {
            "colorbar": {
             "outlinewidth": 0,
             "ticks": ""
            },
            "type": "choropleth"
           }
          ],
          "contour": [
           {
            "colorbar": {
             "outlinewidth": 0,
             "ticks": ""
            },
            "colorscale": [
             [
              0,
              "#0d0887"
             ],
             [
              0.1111111111111111,
              "#46039f"
             ],
             [
              0.2222222222222222,
              "#7201a8"
             ],
             [
              0.3333333333333333,
              "#9c179e"
             ],
             [
              0.4444444444444444,
              "#bd3786"
             ],
             [
              0.5555555555555556,
              "#d8576b"
             ],
             [
              0.6666666666666666,
              "#ed7953"
             ],
             [
              0.7777777777777778,
              "#fb9f3a"
             ],
             [
              0.8888888888888888,
              "#fdca26"
             ],
             [
              1,
              "#f0f921"
             ]
            ],
            "type": "contour"
           }
          ],
          "contourcarpet": [
           {
            "colorbar": {
             "outlinewidth": 0,
             "ticks": ""
            },
            "type": "contourcarpet"
           }
          ],
          "heatmap": [
           {
            "colorbar": {
             "outlinewidth": 0,
             "ticks": ""
            },
            "colorscale": [
             [
              0,
              "#0d0887"
             ],
             [
              0.1111111111111111,
              "#46039f"
             ],
             [
              0.2222222222222222,
              "#7201a8"
             ],
             [
              0.3333333333333333,
              "#9c179e"
             ],
             [
              0.4444444444444444,
              "#bd3786"
             ],
             [
              0.5555555555555556,
              "#d8576b"
             ],
             [
              0.6666666666666666,
              "#ed7953"
             ],
             [
              0.7777777777777778,
              "#fb9f3a"
             ],
             [
              0.8888888888888888,
              "#fdca26"
             ],
             [
              1,
              "#f0f921"
             ]
            ],
            "type": "heatmap"
           }
          ],
          "heatmapgl": [
           {
            "colorbar": {
             "outlinewidth": 0,
             "ticks": ""
            },
            "colorscale": [
             [
              0,
              "#0d0887"
             ],
             [
              0.1111111111111111,
              "#46039f"
             ],
             [
              0.2222222222222222,
              "#7201a8"
             ],
             [
              0.3333333333333333,
              "#9c179e"
             ],
             [
              0.4444444444444444,
              "#bd3786"
             ],
             [
              0.5555555555555556,
              "#d8576b"
             ],
             [
              0.6666666666666666,
              "#ed7953"
             ],
             [
              0.7777777777777778,
              "#fb9f3a"
             ],
             [
              0.8888888888888888,
              "#fdca26"
             ],
             [
              1,
              "#f0f921"
             ]
            ],
            "type": "heatmapgl"
           }
          ],
          "histogram": [
           {
            "marker": {
             "pattern": {
              "fillmode": "overlay",
              "size": 10,
              "solidity": 0.2
             }
            },
            "type": "histogram"
           }
          ],
          "histogram2d": [
           {
            "colorbar": {
             "outlinewidth": 0,
             "ticks": ""
            },
            "colorscale": [
             [
              0,
              "#0d0887"
             ],
             [
              0.1111111111111111,
              "#46039f"
             ],
             [
              0.2222222222222222,
              "#7201a8"
             ],
             [
              0.3333333333333333,
              "#9c179e"
             ],
             [
              0.4444444444444444,
              "#bd3786"
             ],
             [
              0.5555555555555556,
              "#d8576b"
             ],
             [
              0.6666666666666666,
              "#ed7953"
             ],
             [
              0.7777777777777778,
              "#fb9f3a"
             ],
             [
              0.8888888888888888,
              "#fdca26"
             ],
             [
              1,
              "#f0f921"
             ]
            ],
            "type": "histogram2d"
           }
          ],
          "histogram2dcontour": [
           {
            "colorbar": {
             "outlinewidth": 0,
             "ticks": ""
            },
            "colorscale": [
             [
              0,
              "#0d0887"
             ],
             [
              0.1111111111111111,
              "#46039f"
             ],
             [
              0.2222222222222222,
              "#7201a8"
             ],
             [
              0.3333333333333333,
              "#9c179e"
             ],
             [
              0.4444444444444444,
              "#bd3786"
             ],
             [
              0.5555555555555556,
              "#d8576b"
             ],
             [
              0.6666666666666666,
              "#ed7953"
             ],
             [
              0.7777777777777778,
              "#fb9f3a"
             ],
             [
              0.8888888888888888,
              "#fdca26"
             ],
             [
              1,
              "#f0f921"
             ]
            ],
            "type": "histogram2dcontour"
           }
          ],
          "mesh3d": [
           {
            "colorbar": {
             "outlinewidth": 0,
             "ticks": ""
            },
            "type": "mesh3d"
           }
          ],
          "parcoords": [
           {
            "line": {
             "colorbar": {
              "outlinewidth": 0,
              "ticks": ""
             }
            },
            "type": "parcoords"
           }
          ],
          "pie": [
           {
            "automargin": true,
            "type": "pie"
           }
          ],
          "scatter": [
           {
            "fillpattern": {
             "fillmode": "overlay",
             "size": 10,
             "solidity": 0.2
            },
            "type": "scatter"
           }
          ],
          "scatter3d": [
           {
            "line": {
             "colorbar": {
              "outlinewidth": 0,
              "ticks": ""
             }
            },
            "marker": {
             "colorbar": {
              "outlinewidth": 0,
              "ticks": ""
             }
            },
            "type": "scatter3d"
           }
          ],
          "scattercarpet": [
           {
            "marker": {
             "colorbar": {
              "outlinewidth": 0,
              "ticks": ""
             }
            },
            "type": "scattercarpet"
           }
          ],
          "scattergeo": [
           {
            "marker": {
             "colorbar": {
              "outlinewidth": 0,
              "ticks": ""
             }
            },
            "type": "scattergeo"
           }
          ],
          "scattergl": [
           {
            "marker": {
             "colorbar": {
              "outlinewidth": 0,
              "ticks": ""
             }
            },
            "type": "scattergl"
           }
          ],
          "scattermapbox": [
           {
            "marker": {
             "colorbar": {
              "outlinewidth": 0,
              "ticks": ""
             }
            },
            "type": "scattermapbox"
           }
          ],
          "scatterpolar": [
           {
            "marker": {
             "colorbar": {
              "outlinewidth": 0,
              "ticks": ""
             }
            },
            "type": "scatterpolar"
           }
          ],
          "scatterpolargl": [
           {
            "marker": {
             "colorbar": {
              "outlinewidth": 0,
              "ticks": ""
             }
            },
            "type": "scatterpolargl"
           }
          ],
          "scatterternary": [
           {
            "marker": {
             "colorbar": {
              "outlinewidth": 0,
              "ticks": ""
             }
            },
            "type": "scatterternary"
           }
          ],
          "surface": [
           {
            "colorbar": {
             "outlinewidth": 0,
             "ticks": ""
            },
            "colorscale": [
             [
              0,
              "#0d0887"
             ],
             [
              0.1111111111111111,
              "#46039f"
             ],
             [
              0.2222222222222222,
              "#7201a8"
             ],
             [
              0.3333333333333333,
              "#9c179e"
             ],
             [
              0.4444444444444444,
              "#bd3786"
             ],
             [
              0.5555555555555556,
              "#d8576b"
             ],
             [
              0.6666666666666666,
              "#ed7953"
             ],
             [
              0.7777777777777778,
              "#fb9f3a"
             ],
             [
              0.8888888888888888,
              "#fdca26"
             ],
             [
              1,
              "#f0f921"
             ]
            ],
            "type": "surface"
           }
          ],
          "table": [
           {
            "cells": {
             "fill": {
              "color": "#EBF0F8"
             },
             "line": {
              "color": "white"
             }
            },
            "header": {
             "fill": {
              "color": "#C8D4E3"
             },
             "line": {
              "color": "white"
             }
            },
            "type": "table"
           }
          ]
         },
         "layout": {
          "annotationdefaults": {
           "arrowcolor": "#2a3f5f",
           "arrowhead": 0,
           "arrowwidth": 1
          },
          "autotypenumbers": "strict",
          "coloraxis": {
           "colorbar": {
            "outlinewidth": 0,
            "ticks": ""
           }
          },
          "colorscale": {
           "diverging": [
            [
             0,
             "#8e0152"
            ],
            [
             0.1,
             "#c51b7d"
            ],
            [
             0.2,
             "#de77ae"
            ],
            [
             0.3,
             "#f1b6da"
            ],
            [
             0.4,
             "#fde0ef"
            ],
            [
             0.5,
             "#f7f7f7"
            ],
            [
             0.6,
             "#e6f5d0"
            ],
            [
             0.7,
             "#b8e186"
            ],
            [
             0.8,
             "#7fbc41"
            ],
            [
             0.9,
             "#4d9221"
            ],
            [
             1,
             "#276419"
            ]
           ],
           "sequential": [
            [
             0,
             "#0d0887"
            ],
            [
             0.1111111111111111,
             "#46039f"
            ],
            [
             0.2222222222222222,
             "#7201a8"
            ],
            [
             0.3333333333333333,
             "#9c179e"
            ],
            [
             0.4444444444444444,
             "#bd3786"
            ],
            [
             0.5555555555555556,
             "#d8576b"
            ],
            [
             0.6666666666666666,
             "#ed7953"
            ],
            [
             0.7777777777777778,
             "#fb9f3a"
            ],
            [
             0.8888888888888888,
             "#fdca26"
            ],
            [
             1,
             "#f0f921"
            ]
           ],
           "sequentialminus": [
            [
             0,
             "#0d0887"
            ],
            [
             0.1111111111111111,
             "#46039f"
            ],
            [
             0.2222222222222222,
             "#7201a8"
            ],
            [
             0.3333333333333333,
             "#9c179e"
            ],
            [
             0.4444444444444444,
             "#bd3786"
            ],
            [
             0.5555555555555556,
             "#d8576b"
            ],
            [
             0.6666666666666666,
             "#ed7953"
            ],
            [
             0.7777777777777778,
             "#fb9f3a"
            ],
            [
             0.8888888888888888,
             "#fdca26"
            ],
            [
             1,
             "#f0f921"
            ]
           ]
          },
          "colorway": [
           "#636efa",
           "#EF553B",
           "#00cc96",
           "#ab63fa",
           "#FFA15A",
           "#19d3f3",
           "#FF6692",
           "#B6E880",
           "#FF97FF",
           "#FECB52"
          ],
          "font": {
           "color": "#2a3f5f"
          },
          "geo": {
           "bgcolor": "white",
           "lakecolor": "white",
           "landcolor": "#E5ECF6",
           "showlakes": true,
           "showland": true,
           "subunitcolor": "white"
          },
          "hoverlabel": {
           "align": "left"
          },
          "hovermode": "closest",
          "mapbox": {
           "style": "light"
          },
          "paper_bgcolor": "white",
          "plot_bgcolor": "#E5ECF6",
          "polar": {
           "angularaxis": {
            "gridcolor": "white",
            "linecolor": "white",
            "ticks": ""
           },
           "bgcolor": "#E5ECF6",
           "radialaxis": {
            "gridcolor": "white",
            "linecolor": "white",
            "ticks": ""
           }
          },
          "scene": {
           "xaxis": {
            "backgroundcolor": "#E5ECF6",
            "gridcolor": "white",
            "gridwidth": 2,
            "linecolor": "white",
            "showbackground": true,
            "ticks": "",
            "zerolinecolor": "white"
           },
           "yaxis": {
            "backgroundcolor": "#E5ECF6",
            "gridcolor": "white",
            "gridwidth": 2,
            "linecolor": "white",
            "showbackground": true,
            "ticks": "",
            "zerolinecolor": "white"
           },
           "zaxis": {
            "backgroundcolor": "#E5ECF6",
            "gridcolor": "white",
            "gridwidth": 2,
            "linecolor": "white",
            "showbackground": true,
            "ticks": "",
            "zerolinecolor": "white"
           }
          },
          "shapedefaults": {
           "line": {
            "color": "#2a3f5f"
           }
          },
          "ternary": {
           "aaxis": {
            "gridcolor": "white",
            "linecolor": "white",
            "ticks": ""
           },
           "baxis": {
            "gridcolor": "white",
            "linecolor": "white",
            "ticks": ""
           },
           "bgcolor": "#E5ECF6",
           "caxis": {
            "gridcolor": "white",
            "linecolor": "white",
            "ticks": ""
           }
          },
          "title": {
           "x": 0.05
          },
          "xaxis": {
           "automargin": true,
           "gridcolor": "white",
           "linecolor": "white",
           "ticks": "",
           "title": {
            "standoff": 15
           },
           "zerolinecolor": "white",
           "zerolinewidth": 2
          },
          "yaxis": {
           "automargin": true,
           "gridcolor": "white",
           "linecolor": "white",
           "ticks": "",
           "title": {
            "standoff": 15
           },
           "zerolinecolor": "white",
           "zerolinewidth": 2
          }
         }
        },
        "title": {
         "text": "Optimization History Plot"
        },
        "xaxis": {
         "title": {
          "text": "Trial"
         }
        },
        "yaxis": {
         "title": {
          "text": "Objective Value"
         }
        }
       }
      }
     },
     "metadata": {},
     "output_type": "display_data"
    }
   ],
   "source": [
    "# Optimization history plot\n",
    "opt_history_fig = vis.plot_optimization_history(study)\n",
    "opt_history_fig.show()"
   ]
  },
  {
   "cell_type": "code",
   "execution_count": null,
   "metadata": {},
   "outputs": [],
   "source": [
    "# Parameter importance plot\n",
    "param_importance_fig = vis.plot_param_importances(study)\n",
    "param_importance_fig.show()"
   ]
  },
  {
   "cell_type": "code",
   "execution_count": null,
   "metadata": {},
   "outputs": [],
   "source": [
    "# Slice plot\n",
    "slice_fig = vis.plot_slice(study)\n",
    "slice_fig.show()"
   ]
  },
  {
   "cell_type": "code",
   "execution_count": 247,
   "metadata": {},
   "outputs": [
    {
     "data": {
      "image/png": "[encoded data removed]",
      "text/plain": [
       "<Figure size 1000x600 with 1 Axes>"
      ]
     },
     "metadata": {},
     "output_type": "display_data"
    }
   ],
   "source": [
    "# Extract values from the study\n",
    "trial_values = [trial.value for trial in study.trials]\n",
    "\n",
    "# Apply the transformation: (value * a) + b\n",
    "transformed_values = [(value * Y_train.std()) + Y_train.mean() for value in trial_values]\n",
    "\n",
    "# Plotting\n",
    "plt.figure(figsize=(10, 6))\n",
    "plt.scatter(range(1,101,1), transformed_values)\n",
    "plt.xlabel('Trial')\n",
    "plt.ylabel('Validation MAE (RESCALED)')\n",
    "plt.title('Optuna Optimization History')\n",
    "plt.grid(True)\n",
    "plt.show()"
   ]
  },
  {
   "cell_type": "markdown",
   "metadata": {},
   "source": [
    "### Create test data"
   ]
  },
  {
   "cell_type": "code",
   "execution_count": 9,
   "metadata": {},
   "outputs": [
    {
     "data": {
      "text/html": [
       "<div>\n",
       "<style scoped>\n",
       "    .dataframe tbody tr th:only-of-type {\n",
       "        vertical-align: middle;\n",
       "    }\n",
       "\n",
       "    .dataframe tbody tr th {\n",
       "        vertical-align: top;\n",
       "    }\n",
       "\n",
       "    .dataframe thead th {\n",
       "        text-align: right;\n",
       "    }\n",
       "</style>\n",
       "<table border=\"1\" class=\"dataframe\">\n",
       "  <thead>\n",
       "    <tr style=\"text-align: right;\">\n",
       "      <th></th>\n",
       "      <th>ParcelId</th>\n",
       "      <th>201610</th>\n",
       "      <th>201611</th>\n",
       "      <th>201612</th>\n",
       "      <th>201710</th>\n",
       "      <th>201711</th>\n",
       "      <th>201712</th>\n",
       "    </tr>\n",
       "  </thead>\n",
       "  <tbody>\n",
       "    <tr>\n",
       "      <th>0</th>\n",
       "      <td>10754147</td>\n",
       "      <td>0</td>\n",
       "      <td>0</td>\n",
       "      <td>0</td>\n",
       "      <td>0</td>\n",
       "      <td>0</td>\n",
       "      <td>0</td>\n",
       "    </tr>\n",
       "    <tr>\n",
       "      <th>1</th>\n",
       "      <td>10759547</td>\n",
       "      <td>0</td>\n",
       "      <td>0</td>\n",
       "      <td>0</td>\n",
       "      <td>0</td>\n",
       "      <td>0</td>\n",
       "      <td>0</td>\n",
       "    </tr>\n",
       "    <tr>\n",
       "      <th>2</th>\n",
       "      <td>10843547</td>\n",
       "      <td>0</td>\n",
       "      <td>0</td>\n",
       "      <td>0</td>\n",
       "      <td>0</td>\n",
       "      <td>0</td>\n",
       "      <td>0</td>\n",
       "    </tr>\n",
       "    <tr>\n",
       "      <th>3</th>\n",
       "      <td>10859147</td>\n",
       "      <td>0</td>\n",
       "      <td>0</td>\n",
       "      <td>0</td>\n",
       "      <td>0</td>\n",
       "      <td>0</td>\n",
       "      <td>0</td>\n",
       "    </tr>\n",
       "    <tr>\n",
       "      <th>4</th>\n",
       "      <td>10879947</td>\n",
       "      <td>0</td>\n",
       "      <td>0</td>\n",
       "      <td>0</td>\n",
       "      <td>0</td>\n",
       "      <td>0</td>\n",
       "      <td>0</td>\n",
       "    </tr>\n",
       "    <tr>\n",
       "      <th>...</th>\n",
       "      <td>...</td>\n",
       "      <td>...</td>\n",
       "      <td>...</td>\n",
       "      <td>...</td>\n",
       "      <td>...</td>\n",
       "      <td>...</td>\n",
       "      <td>...</td>\n",
       "    </tr>\n",
       "    <tr>\n",
       "      <th>2985212</th>\n",
       "      <td>168176230</td>\n",
       "      <td>0</td>\n",
       "      <td>0</td>\n",
       "      <td>0</td>\n",
       "      <td>0</td>\n",
       "      <td>0</td>\n",
       "      <td>0</td>\n",
       "    </tr>\n",
       "    <tr>\n",
       "      <th>2985213</th>\n",
       "      <td>14273630</td>\n",
       "      <td>0</td>\n",
       "      <td>0</td>\n",
       "      <td>0</td>\n",
       "      <td>0</td>\n",
       "      <td>0</td>\n",
       "      <td>0</td>\n",
       "    </tr>\n",
       "    <tr>\n",
       "      <th>2985214</th>\n",
       "      <td>168040630</td>\n",
       "      <td>0</td>\n",
       "      <td>0</td>\n",
       "      <td>0</td>\n",
       "      <td>0</td>\n",
       "      <td>0</td>\n",
       "      <td>0</td>\n",
       "    </tr>\n",
       "    <tr>\n",
       "      <th>2985215</th>\n",
       "      <td>168040830</td>\n",
       "      <td>0</td>\n",
       "      <td>0</td>\n",
       "      <td>0</td>\n",
       "      <td>0</td>\n",
       "      <td>0</td>\n",
       "      <td>0</td>\n",
       "    </tr>\n",
       "    <tr>\n",
       "      <th>2985216</th>\n",
       "      <td>168040430</td>\n",
       "      <td>0</td>\n",
       "      <td>0</td>\n",
       "      <td>0</td>\n",
       "      <td>0</td>\n",
       "      <td>0</td>\n",
       "      <td>0</td>\n",
       "    </tr>\n",
       "  </tbody>\n",
       "</table>\n",
       "<p>2985217 rows × 7 columns</p>\n",
       "</div>"
      ],
      "text/plain": [
       "          ParcelId  201610  201611  201612  201710  201711  201712\n",
       "0         10754147       0       0       0       0       0       0\n",
       "1         10759547       0       0       0       0       0       0\n",
       "2         10843547       0       0       0       0       0       0\n",
       "3         10859147       0       0       0       0       0       0\n",
       "4         10879947       0       0       0       0       0       0\n",
       "...            ...     ...     ...     ...     ...     ...     ...\n",
       "2985212  168176230       0       0       0       0       0       0\n",
       "2985213   14273630       0       0       0       0       0       0\n",
       "2985214  168040630       0       0       0       0       0       0\n",
       "2985215  168040830       0       0       0       0       0       0\n",
       "2985216  168040430       0       0       0       0       0       0\n",
       "\n",
       "[2985217 rows x 7 columns]"
      ]
     },
     "execution_count": 9,
     "metadata": {},
     "output_type": "execute_result"
    }
   ],
   "source": [
    "sample = pd.read_csv('./data/sample_submission.csv')\n",
    "sample"
   ]
  },
  {
   "cell_type": "code",
   "execution_count": 2,
   "metadata": {},
   "outputs": [
    {
     "name": "stderr",
     "output_type": "stream",
     "text": [
      "C:\\Users\\ashet\\AppData\\Local\\Temp\\ipykernel_14956\\2619332840.py:1: DtypeWarning: Columns (49) have mixed types. Specify dtype option on import or set low_memory=False.\n",
      "  prop = pd.read_csv('./data/properties_2017.csv')\n"
     ]
    }
   ],
   "source": [
    "prop = pd.read_csv('./data/properties_2017.csv')\n",
    "sample['parcelid'] = sample['ParcelId']\n",
    "df_test = sample.merge(prop, on='parcelid', how = 'left')"
   ]
  },
  {
   "cell_type": "code",
   "execution_count": 53,
   "metadata": {},
   "outputs": [
    {
     "name": "stderr",
     "output_type": "stream",
     "text": [
      "C:\\Users\\ashet\\AppData\\Local\\Temp\\ipykernel_5348\\1250237004.py:12: SettingWithCopyWarning: \n",
      "A value is trying to be set on a copy of a slice from a DataFrame.\n",
      "Try using .loc[row_indexer,col_indexer] = value instead\n",
      "\n",
      "See the caveats in the documentation: https://pandas.pydata.org/pandas-docs/stable/user_guide/indexing.html#returning-a-view-versus-a-copy\n",
      "  x_test['LXXRNSA'] = 253.028\n",
      "C:\\Users\\ashet\\AppData\\Local\\Temp\\ipykernel_5348\\1250237004.py:13: SettingWithCopyWarning: \n",
      "A value is trying to be set on a copy of a slice from a DataFrame.\n",
      "Try using .loc[row_indexer,col_indexer] = value instead\n",
      "\n",
      "See the caveats in the documentation: https://pandas.pydata.org/pandas-docs/stable/user_guide/indexing.html#returning-a-view-versus-a-copy\n",
      "  x_test['month'] = \"12\"\n",
      "C:\\Users\\ashet\\AppData\\Local\\Temp\\ipykernel_5348\\1250237004.py:14: SettingWithCopyWarning: \n",
      "A value is trying to be set on a copy of a slice from a DataFrame.\n",
      "Try using .loc[row_indexer,col_indexer] = value instead\n",
      "\n",
      "See the caveats in the documentation: https://pandas.pydata.org/pandas-docs/stable/user_guide/indexing.html#returning-a-view-versus-a-copy\n",
      "  x_test['year'] = \"2016\"\n",
      "C:\\Users\\ashet\\AppData\\Local\\Temp\\ipykernel_5348\\1250237004.py:15: SettingWithCopyWarning: \n",
      "A value is trying to be set on a copy of a slice from a DataFrame.\n",
      "Try using .loc[row_indexer,col_indexer] = value instead\n",
      "\n",
      "See the caveats in the documentation: https://pandas.pydata.org/pandas-docs/stable/user_guide/indexing.html#returning-a-view-versus-a-copy\n",
      "  x_test['weekday'] = 4\n"
     ]
    }
   ],
   "source": [
    "# Run on test data\n",
    "\n",
    "train_columns =  ['bedroomcnt', 'roomcnt', 'bathroomcnt', 'taxamount',\n",
    "       'landtaxvaluedollarcnt', 'taxvaluedollarcnt',\n",
    "       'structuretaxvaluedollarcnt', 'latitude', 'longitude',\n",
    "        'lotsizesquarefeet', 'calculatedfinishedsquarefeet', 'yearbuilt',\n",
    "         ]\n",
    "x_test = df_test[train_columns]\n",
    "\n",
    "# Set the transaction date dependent columns to constants\n",
    "x_test['LXXRNSA'] = 253.028\n",
    "x_test['month'] = \"12\"\n",
    "x_test['year'] = \"2016\"\n",
    "x_test['weekday'] = 4\n"
   ]
  },
  {
   "cell_type": "code",
   "execution_count": 55,
   "metadata": {},
   "outputs": [],
   "source": [
    "X_test_std = x_test.copy()\n",
    "\n",
    "# Scale-standardize features\n",
    "sc_x = StandardScaler()\n",
    "sc_x.fit(X_train[numeric_columns])\n",
    "\n",
    "# Transform the test data using the same fitted scaler\n",
    "X_test_std[numeric_columns] = sc_x.transform(X_test_std[numeric_columns])\n",
    "\n",
    "# For latitude and longitude, we can't mask, so fill NAs with zeros\n",
    "X_test_std.longitude = X_test_std.longitude.fillna(0)\n",
    "X_test_std.latitude = X_test_std.latitude.fillna(0)\n",
    "\n",
    "# Mask missing data in columns \n",
    "mask_value = -999\n",
    "X_test_std = X_test_std.fillna(mask_value)"
   ]
  },
  {
   "cell_type": "code",
   "execution_count": 117,
   "metadata": {},
   "outputs": [
    {
     "name": "stdout",
     "output_type": "stream",
     "text": [
      "\u001b[1m93289/93289\u001b[0m \u001b[32m━━━━━━━━━━━━━━━━━━━━\u001b[0m\u001b[37m\u001b[0m \u001b[1m2894s\u001b[0m 31ms/step\n"
     ]
    }
   ],
   "source": [
    "# Generate neural network predictions for all parcel IDs\n",
    "preds = model.predict({\n",
    "        'bedroomcnt': X_test_std[['bedroomcnt']],\n",
    "        'roomcnt': X_test_std[['roomcnt']],\n",
    "        'bathroomcnt': X_test_std[['bathroomcnt']],\n",
    "        'taxamount': X_test_std[['taxamount']],\n",
    "        'landtaxvaluedollarcnt': X_test_std[['landtaxvaluedollarcnt']],\n",
    "        'taxvaluedollarcnt': X_test_std[['taxvaluedollarcnt']],\n",
    "        'structuretaxvaluedollarcnt': X_test_std[['structuretaxvaluedollarcnt']],\n",
    "        'latitude': X_test_std[['latitude']],\n",
    "        'longitude': X_test_std[['longitude']],\n",
    "        'lxxrnsa': X_test_std[['LXXRNSA']],\n",
    "        'year': X_test_std[['year']],  \n",
    "        'month': X_test_std[['month']],  \n",
    "        'weekday': X_test_std[['weekday']],\n",
    "        'lotsizesquarefeet': X_test_std[['lotsizesquarefeet']],\n",
    "        'calculatedfinishedsquarefeet': X_test_std[['calculatedfinishedsquarefeet']],\n",
    "        'yearbuilt': X_test_std[['yearbuilt']],\n",
    "    })"
   ]
  },
  {
   "cell_type": "code",
   "execution_count": 58,
   "metadata": {},
   "outputs": [],
   "source": [
    "for c in sample.columns[sample.columns != 'ParcelId']:\n",
    "    sample[c] = ((preds[:,0]*Y_train.std()) + Y_train.mean())\n"
   ]
  },
  {
   "cell_type": "code",
   "execution_count": 59,
   "metadata": {},
   "outputs": [
    {
     "data": {
      "text/html": [
       "<div>\n",
       "<style scoped>\n",
       "    .dataframe tbody tr th:only-of-type {\n",
       "        vertical-align: middle;\n",
       "    }\n",
       "\n",
       "    .dataframe tbody tr th {\n",
       "        vertical-align: top;\n",
       "    }\n",
       "\n",
       "    .dataframe thead th {\n",
       "        text-align: right;\n",
       "    }\n",
       "</style>\n",
       "<table border=\"1\" class=\"dataframe\">\n",
       "  <thead>\n",
       "    <tr style=\"text-align: right;\">\n",
       "      <th></th>\n",
       "      <th>ParcelId</th>\n",
       "      <th>201610</th>\n",
       "      <th>201611</th>\n",
       "      <th>201612</th>\n",
       "      <th>201710</th>\n",
       "      <th>201711</th>\n",
       "      <th>201712</th>\n",
       "    </tr>\n",
       "  </thead>\n",
       "  <tbody>\n",
       "    <tr>\n",
       "      <th>0</th>\n",
       "      <td>10754147</td>\n",
       "      <td>0.005542</td>\n",
       "      <td>0.005542</td>\n",
       "      <td>0.005542</td>\n",
       "      <td>0.005542</td>\n",
       "      <td>0.005542</td>\n",
       "      <td>0.005542</td>\n",
       "    </tr>\n",
       "    <tr>\n",
       "      <th>1</th>\n",
       "      <td>10759547</td>\n",
       "      <td>0.005886</td>\n",
       "      <td>0.005886</td>\n",
       "      <td>0.005886</td>\n",
       "      <td>0.005886</td>\n",
       "      <td>0.005886</td>\n",
       "      <td>0.005886</td>\n",
       "    </tr>\n",
       "    <tr>\n",
       "      <th>2</th>\n",
       "      <td>10843547</td>\n",
       "      <td>0.563296</td>\n",
       "      <td>0.563296</td>\n",
       "      <td>0.563296</td>\n",
       "      <td>0.563296</td>\n",
       "      <td>0.563296</td>\n",
       "      <td>0.563296</td>\n",
       "    </tr>\n",
       "    <tr>\n",
       "      <th>3</th>\n",
       "      <td>10859147</td>\n",
       "      <td>0.016259</td>\n",
       "      <td>0.016259</td>\n",
       "      <td>0.016259</td>\n",
       "      <td>0.016259</td>\n",
       "      <td>0.016259</td>\n",
       "      <td>0.016259</td>\n",
       "    </tr>\n",
       "    <tr>\n",
       "      <th>4</th>\n",
       "      <td>10879947</td>\n",
       "      <td>0.006889</td>\n",
       "      <td>0.006889</td>\n",
       "      <td>0.006889</td>\n",
       "      <td>0.006889</td>\n",
       "      <td>0.006889</td>\n",
       "      <td>0.006889</td>\n",
       "    </tr>\n",
       "    <tr>\n",
       "      <th>...</th>\n",
       "      <td>...</td>\n",
       "      <td>...</td>\n",
       "      <td>...</td>\n",
       "      <td>...</td>\n",
       "      <td>...</td>\n",
       "      <td>...</td>\n",
       "      <td>...</td>\n",
       "    </tr>\n",
       "    <tr>\n",
       "      <th>2985212</th>\n",
       "      <td>168176230</td>\n",
       "      <td>0.010419</td>\n",
       "      <td>0.010419</td>\n",
       "      <td>0.010419</td>\n",
       "      <td>0.010419</td>\n",
       "      <td>0.010419</td>\n",
       "      <td>0.010419</td>\n",
       "    </tr>\n",
       "    <tr>\n",
       "      <th>2985213</th>\n",
       "      <td>14273630</td>\n",
       "      <td>0.011146</td>\n",
       "      <td>0.011146</td>\n",
       "      <td>0.011146</td>\n",
       "      <td>0.011146</td>\n",
       "      <td>0.011146</td>\n",
       "      <td>0.011146</td>\n",
       "    </tr>\n",
       "    <tr>\n",
       "      <th>2985214</th>\n",
       "      <td>168040630</td>\n",
       "      <td>0.009144</td>\n",
       "      <td>0.009144</td>\n",
       "      <td>0.009144</td>\n",
       "      <td>0.009144</td>\n",
       "      <td>0.009144</td>\n",
       "      <td>0.009144</td>\n",
       "    </tr>\n",
       "    <tr>\n",
       "      <th>2985215</th>\n",
       "      <td>168040830</td>\n",
       "      <td>0.007757</td>\n",
       "      <td>0.007757</td>\n",
       "      <td>0.007757</td>\n",
       "      <td>0.007757</td>\n",
       "      <td>0.007757</td>\n",
       "      <td>0.007757</td>\n",
       "    </tr>\n",
       "    <tr>\n",
       "      <th>2985216</th>\n",
       "      <td>168040430</td>\n",
       "      <td>0.012034</td>\n",
       "      <td>0.012034</td>\n",
       "      <td>0.012034</td>\n",
       "      <td>0.012034</td>\n",
       "      <td>0.012034</td>\n",
       "      <td>0.012034</td>\n",
       "    </tr>\n",
       "  </tbody>\n",
       "</table>\n",
       "<p>2985217 rows × 7 columns</p>\n",
       "</div>"
      ],
      "text/plain": [
       "          ParcelId    201610    201611    201612    201710    201711    201712\n",
       "0         10754147  0.005542  0.005542  0.005542  0.005542  0.005542  0.005542\n",
       "1         10759547  0.005886  0.005886  0.005886  0.005886  0.005886  0.005886\n",
       "2         10843547  0.563296  0.563296  0.563296  0.563296  0.563296  0.563296\n",
       "3         10859147  0.016259  0.016259  0.016259  0.016259  0.016259  0.016259\n",
       "4         10879947  0.006889  0.006889  0.006889  0.006889  0.006889  0.006889\n",
       "...            ...       ...       ...       ...       ...       ...       ...\n",
       "2985212  168176230  0.010419  0.010419  0.010419  0.010419  0.010419  0.010419\n",
       "2985213   14273630  0.011146  0.011146  0.011146  0.011146  0.011146  0.011146\n",
       "2985214  168040630  0.009144  0.009144  0.009144  0.009144  0.009144  0.009144\n",
       "2985215  168040830  0.007757  0.007757  0.007757  0.007757  0.007757  0.007757\n",
       "2985216  168040430  0.012034  0.012034  0.012034  0.012034  0.012034  0.012034\n",
       "\n",
       "[2985217 rows x 7 columns]"
      ]
     },
     "execution_count": 59,
     "metadata": {},
     "output_type": "execute_result"
    }
   ],
   "source": [
    "sample"
   ]
  },
  {
   "cell_type": "code",
   "execution_count": 60,
   "metadata": {},
   "outputs": [],
   "source": [
    "# Save neural network predictions to csv\n",
    "sample.to_csv('nn1.csv', index=False, float_format='%.4f')\n"
   ]
  },
  {
   "cell_type": "code",
   "execution_count": null,
   "metadata": {},
   "outputs": [],
   "source": [
    "# Create XGBoost predictions from neural network predictions\n",
    "d_test_1 = xgb.DMatrix(preds)\n",
    "xg_preds_1 = (clf.predict(d_test_1)*Y_train.std()) + Y_train.mean()"
   ]
  },
  {
   "cell_type": "code",
   "execution_count": 174,
   "metadata": {},
   "outputs": [],
   "source": [
    "for c in sample.columns[sample.columns != 'ParcelId']:\n",
    "    sample[c] = xg_preds_1"
   ]
  },
  {
   "cell_type": "code",
   "execution_count": 175,
   "metadata": {},
   "outputs": [
    {
     "data": {
      "text/html": [
       "<div>\n",
       "<style scoped>\n",
       "    .dataframe tbody tr th:only-of-type {\n",
       "        vertical-align: middle;\n",
       "    }\n",
       "\n",
       "    .dataframe tbody tr th {\n",
       "        vertical-align: top;\n",
       "    }\n",
       "\n",
       "    .dataframe thead th {\n",
       "        text-align: right;\n",
       "    }\n",
       "</style>\n",
       "<table border=\"1\" class=\"dataframe\">\n",
       "  <thead>\n",
       "    <tr style=\"text-align: right;\">\n",
       "      <th></th>\n",
       "      <th>ParcelId</th>\n",
       "      <th>201610</th>\n",
       "      <th>201611</th>\n",
       "      <th>201612</th>\n",
       "      <th>201710</th>\n",
       "      <th>201711</th>\n",
       "      <th>201712</th>\n",
       "    </tr>\n",
       "  </thead>\n",
       "  <tbody>\n",
       "    <tr>\n",
       "      <th>0</th>\n",
       "      <td>10754147</td>\n",
       "      <td>0.009251</td>\n",
       "      <td>0.009251</td>\n",
       "      <td>0.009251</td>\n",
       "      <td>0.009251</td>\n",
       "      <td>0.009251</td>\n",
       "      <td>0.009251</td>\n",
       "    </tr>\n",
       "    <tr>\n",
       "      <th>1</th>\n",
       "      <td>10759547</td>\n",
       "      <td>0.009251</td>\n",
       "      <td>0.009251</td>\n",
       "      <td>0.009251</td>\n",
       "      <td>0.009251</td>\n",
       "      <td>0.009251</td>\n",
       "      <td>0.009251</td>\n",
       "    </tr>\n",
       "    <tr>\n",
       "      <th>2</th>\n",
       "      <td>10843547</td>\n",
       "      <td>0.073047</td>\n",
       "      <td>0.073047</td>\n",
       "      <td>0.073047</td>\n",
       "      <td>0.073047</td>\n",
       "      <td>0.073047</td>\n",
       "      <td>0.073047</td>\n",
       "    </tr>\n",
       "    <tr>\n",
       "      <th>3</th>\n",
       "      <td>10859147</td>\n",
       "      <td>0.021976</td>\n",
       "      <td>0.021976</td>\n",
       "      <td>0.021976</td>\n",
       "      <td>0.021976</td>\n",
       "      <td>0.021976</td>\n",
       "      <td>0.021976</td>\n",
       "    </tr>\n",
       "    <tr>\n",
       "      <th>4</th>\n",
       "      <td>10879947</td>\n",
       "      <td>0.009251</td>\n",
       "      <td>0.009251</td>\n",
       "      <td>0.009251</td>\n",
       "      <td>0.009251</td>\n",
       "      <td>0.009251</td>\n",
       "      <td>0.009251</td>\n",
       "    </tr>\n",
       "    <tr>\n",
       "      <th>...</th>\n",
       "      <td>...</td>\n",
       "      <td>...</td>\n",
       "      <td>...</td>\n",
       "      <td>...</td>\n",
       "      <td>...</td>\n",
       "      <td>...</td>\n",
       "      <td>...</td>\n",
       "    </tr>\n",
       "    <tr>\n",
       "      <th>2985212</th>\n",
       "      <td>168176230</td>\n",
       "      <td>0.014024</td>\n",
       "      <td>0.014024</td>\n",
       "      <td>0.014024</td>\n",
       "      <td>0.014024</td>\n",
       "      <td>0.014024</td>\n",
       "      <td>0.014024</td>\n",
       "    </tr>\n",
       "    <tr>\n",
       "      <th>2985213</th>\n",
       "      <td>14273630</td>\n",
       "      <td>0.014236</td>\n",
       "      <td>0.014236</td>\n",
       "      <td>0.014236</td>\n",
       "      <td>0.014236</td>\n",
       "      <td>0.014236</td>\n",
       "      <td>0.014236</td>\n",
       "    </tr>\n",
       "    <tr>\n",
       "      <th>2985214</th>\n",
       "      <td>168040630</td>\n",
       "      <td>0.013153</td>\n",
       "      <td>0.013153</td>\n",
       "      <td>0.013153</td>\n",
       "      <td>0.013153</td>\n",
       "      <td>0.013153</td>\n",
       "      <td>0.013153</td>\n",
       "    </tr>\n",
       "    <tr>\n",
       "      <th>2985215</th>\n",
       "      <td>168040830</td>\n",
       "      <td>0.009730</td>\n",
       "      <td>0.009730</td>\n",
       "      <td>0.009730</td>\n",
       "      <td>0.009730</td>\n",
       "      <td>0.009730</td>\n",
       "      <td>0.009730</td>\n",
       "    </tr>\n",
       "    <tr>\n",
       "      <th>2985216</th>\n",
       "      <td>168040430</td>\n",
       "      <td>0.014236</td>\n",
       "      <td>0.014236</td>\n",
       "      <td>0.014236</td>\n",
       "      <td>0.014236</td>\n",
       "      <td>0.014236</td>\n",
       "      <td>0.014236</td>\n",
       "    </tr>\n",
       "  </tbody>\n",
       "</table>\n",
       "<p>2985217 rows × 7 columns</p>\n",
       "</div>"
      ],
      "text/plain": [
       "          ParcelId    201610    201611    201612    201710    201711    201712\n",
       "0         10754147  0.009251  0.009251  0.009251  0.009251  0.009251  0.009251\n",
       "1         10759547  0.009251  0.009251  0.009251  0.009251  0.009251  0.009251\n",
       "2         10843547  0.073047  0.073047  0.073047  0.073047  0.073047  0.073047\n",
       "3         10859147  0.021976  0.021976  0.021976  0.021976  0.021976  0.021976\n",
       "4         10879947  0.009251  0.009251  0.009251  0.009251  0.009251  0.009251\n",
       "...            ...       ...       ...       ...       ...       ...       ...\n",
       "2985212  168176230  0.014024  0.014024  0.014024  0.014024  0.014024  0.014024\n",
       "2985213   14273630  0.014236  0.014236  0.014236  0.014236  0.014236  0.014236\n",
       "2985214  168040630  0.013153  0.013153  0.013153  0.013153  0.013153  0.013153\n",
       "2985215  168040830  0.009730  0.009730  0.009730  0.009730  0.009730  0.009730\n",
       "2985216  168040430  0.014236  0.014236  0.014236  0.014236  0.014236  0.014236\n",
       "\n",
       "[2985217 rows x 7 columns]"
      ]
     },
     "execution_count": 175,
     "metadata": {},
     "output_type": "execute_result"
    }
   ],
   "source": [
    "sample"
   ]
  },
  {
   "cell_type": "code",
   "execution_count": 176,
   "metadata": {},
   "outputs": [],
   "source": [
    "# Save combination model outputs to csv\n",
    "sample.to_csv('nn1+xg.csv', index=False, float_format='%.4f')\n"
   ]
  }
 ],
 "metadata": {
  "kernelspec": {
   "display_name": "ml",
   "language": "python",
   "name": "python3"
  },
  "language_info": {
   "codemirror_mode": {
    "name": "ipython",
    "version": 3
   },
   "file_extension": ".py",
   "mimetype": "text/x-python",
   "name": "python",
   "nbconvert_exporter": "python",
   "pygments_lexer": "ipython3",
   "version": "3.11.5"
  }
 },
 "nbformat": 4,
 "nbformat_minor": 2
}
