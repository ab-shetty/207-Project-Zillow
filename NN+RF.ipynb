{
 "cells": [
  {
   "cell_type": "code",
   "execution_count": 43,
   "metadata": {},
   "outputs": [],
   "source": [
    "# standard\n",
    "import pandas as pd\n",
    "import numpy as np\n",
    "import random\n",
    "\n",
    "# tf and keras\n",
    "import tensorflow as tf\n",
    "import keras\n",
    "from keras import models\n",
    "from keras import layers\n",
    "from sklearn.model_selection import train_test_split\n",
    "from sklearn import ensemble\n",
    "\n",
    "# plots\n",
    "import seaborn as sns\n",
    "import matplotlib.pyplot as plt\n",
    "\n",
    "random.seed(2)"
   ]
  },
  {
   "cell_type": "code",
   "execution_count": 122,
   "metadata": {},
   "outputs": [],
   "source": [
    "# This is reading the cleaned dataframe from the cleaning notebook\n",
    "df = pd.read_csv('./data/nn.csv')\n",
    "pd.options.display.max_columns = None"
   ]
  },
  {
   "cell_type": "code",
   "execution_count": 201,
   "metadata": {},
   "outputs": [],
   "source": [
    "df = df[~df.landtaxvaluedollarcnt.isnull()]\n",
    "df = df[~df.taxamount.isnull()]\n",
    "df = df[~df.regionidzip.isnull()]\n",
    "df = df[~df.structuretaxvaluedollarcnt.isnull()]"
   ]
  },
  {
   "cell_type": "code",
   "execution_count": 227,
   "metadata": {},
   "outputs": [
    {
     "data": {
      "text/plain": [
       "14"
      ]
     },
     "execution_count": 227,
     "metadata": {},
     "output_type": "execute_result"
    }
   ],
   "source": [
    "df.propertylandusetypeid.nunique()"
   ]
  },
  {
   "cell_type": "code",
   "execution_count": 202,
   "metadata": {},
   "outputs": [
    {
     "data": {
      "text/plain": [
       "buildingclasstypeid             167204\n",
       "finishedsquarefeet13            167176\n",
       "storytypeid                     167142\n",
       "basementsqft                    167142\n",
       "yardbuildingsqft26              167070\n",
       "fireplaceflag                   166841\n",
       "architecturalstyletypeid        166767\n",
       "typeconstructiontypeid          166713\n",
       "finishedsquarefeet6             166434\n",
       "decktypeid                      165975\n",
       "poolsizesum                     165397\n",
       "pooltypeid10                    165021\n",
       "pooltypeid2                     164985\n",
       "hashottuborspa                  162771\n",
       "taxdelinquencyyear              162561\n",
       "taxdelinquencyflag              162561\n",
       "yardbuildingsqft17              162246\n",
       "finishedsquarefeet15            160664\n",
       "finishedfloor1squarefeet        154377\n",
       "finishedsquarefeet50            154377\n",
       "fireplacecnt                    149361\n",
       "threequarterbathnbr             145218\n",
       "pooltypeid7                     136063\n",
       "poolcnt                         133813\n",
       "numberofstories                 129129\n",
       "airconditioningtypeid           113570\n",
       "garagecarcnt                    111965\n",
       "garagetotalsqft                 111965\n",
       "regionidneighborhood            100435\n",
       "heatingorsystemtypeid            62601\n",
       "buildingqualitytypeid            60179\n",
       "propertyzoningdesc               58830\n",
       "unitcnt                          58323\n",
       "lotsizesquarefeet                18174\n",
       "finishedsquarefeet12              8004\n",
       "regionidcity                      3158\n",
       "fullbathcnt                       1520\n",
       "calculatedbathnbr                 1520\n",
       "yearbuilt                          742\n",
       "calculatedfinishedsquarefeet       573\n",
       "censustractandblock                513\n",
       "propertycountylandusecode            1\n",
       "regionidzip                          0\n",
       "bedroomcnt                           0\n",
       "transactiondate                      0\n",
       "bathroomcnt                          0\n",
       "taxamount                            0\n",
       "landtaxvaluedollarcnt                0\n",
       "assessmentyear                       0\n",
       "taxvaluedollarcnt                    0\n",
       "structuretaxvaluedollarcnt           0\n",
       "fips                                 0\n",
       "roomcnt                              0\n",
       "latitude                             0\n",
       "longitude                            0\n",
       "logerror                             0\n",
       "propertylandusetypeid                0\n",
       "rawcensustractandblock               0\n",
       "regionidcounty                       0\n",
       "parcelid                             0\n",
       "dtype: int64"
      ]
     },
     "execution_count": 202,
     "metadata": {},
     "output_type": "execute_result"
    }
   ],
   "source": [
    "df.isnull().sum().sort_values(ascending=False)"
   ]
  },
  {
   "cell_type": "code",
   "execution_count": 228,
   "metadata": {},
   "outputs": [],
   "source": [
    "X = df[['bedroomcnt','roomcnt','bathroomcnt','taxamount','landtaxvaluedollarcnt','taxvaluedollarcnt','structuretaxvaluedollarcnt',\n",
    "        'taxvaluedollarcnt','landtaxvaluedollarcnt',  'regionidzip', 'propertylandusetypeid']]\n",
    "Y = df.logerror"
   ]
  },
  {
   "cell_type": "code",
   "execution_count": 229,
   "metadata": {},
   "outputs": [],
   "source": [
    "X=pd.get_dummies(X, columns=['regionidzip','propertylandusetypeid'], dtype=int)"
   ]
  },
  {
   "cell_type": "code",
   "execution_count": 230,
   "metadata": {},
   "outputs": [],
   "source": [
    "X_train, X_test, Y_train, Y_test = train_test_split(X, Y, test_size=0.2, random_state=1234)\n",
    "\n",
    "X_train, X_val, Y_train, Y_val = train_test_split(X_train, Y_train, test_size=0.25, random_state=1234)"
   ]
  },
  {
   "cell_type": "code",
   "execution_count": 231,
   "metadata": {},
   "outputs": [
    {
     "data": {
      "text/plain": [
       "'X_train_std = X_train\\nX_val_std = X_val\\nY_train_std = Y_train\\nY_val_std = Y_val'"
      ]
     },
     "execution_count": 231,
     "metadata": {},
     "output_type": "execute_result"
    }
   ],
   "source": [
    "# Applying standardization to inputs\n",
    "X_train_std = (X_train - X_train.mean())/X_train.std()\n",
    "X_val_std = (X_val - X_train.mean())/X_train.std()\n",
    "X_test_std = (X_test - X_train.mean())/X_train.std()\n",
    "\n",
    "# Applying standardization to outputs\n",
    "Y_train_std = (Y_train - Y_train.mean())/Y_train.std()\n",
    "Y_val_std = (Y_val - Y_train.mean())/Y_train.std()\n",
    "Y_test_std = (Y_test - Y_train.mean())/Y_train.std()\n",
    "\n",
    "\"\"\"X_train_std = X_train\n",
    "X_val_std = X_val\n",
    "Y_train_std = Y_train\n",
    "Y_val_std = Y_val\"\"\""
   ]
  },
  {
   "cell_type": "code",
   "execution_count": 217,
   "metadata": {},
   "outputs": [
    {
     "data": {
      "text/plain": [
       "0.42480575912518204"
      ]
     },
     "execution_count": 217,
     "metadata": {},
     "output_type": "execute_result"
    }
   ],
   "source": [
    "avg_error = Y_val_std.mean()\n",
    "#y_true = np.array(Y)\n",
    "#y_pred = np.ones(len(Y_val_std)) * avg_error\n",
    "y_pred = np.zeros(len(Y_val_std)) * avg_error\n",
    "\n",
    "def get_loss(y_pred, y_true):\n",
    "    return tf.keras.losses.MAE(\n",
    "    y_true, y_pred).numpy()\n",
    "\n",
    "get_loss(y_pred,Y_val_std)"
   ]
  },
  {
   "cell_type": "code",
   "execution_count": 208,
   "metadata": {},
   "outputs": [],
   "source": [
    "def build_model(num_features, lr):\n",
    "    \"\"\"Return a simple logistic regression model using the Keras Sequential API.\"\"\"\n",
    "  # Clear session and set a random seed for consistent behavior.\n",
    "    tf.random.set_seed(1234)\n",
    "    \n",
    "  # Use Keras Sequential API to build a logistic regression\n",
    "    model = keras.Sequential()\n",
    "    \n",
    "    # create input layer\n",
    "    model.add(tf.keras.Input(shape=(num_features,), name='Input'))\n",
    "\n",
    "    model.add(layers.Dense(1000, activation='relu'))\n",
    "\n",
    "\n",
    "    # create output layer\n",
    "    model.add(tf.keras.layers.Dense(\n",
    "          activation = None,           # linear activation is used\n",
    "          units=1,                     # output dim\n",
    "          use_bias=True,              # do not use a bias (intercept) param (see how fixed effects have been added to the model)\n",
    "          kernel_initializer=tf.ones_initializer,  # initialize params to 1\n",
    "          bias_initializer='ones'\n",
    "      ))\n",
    "  \n",
    "  # Use Categorical Crossentropy as our loss and the SGD optimizer.\n",
    "    model.compile(\n",
    "        optimizer=tf.keras.optimizers.Adam(learning_rate=lr),\n",
    "        loss='mae',\n",
    "        metrics=['mae']\n",
    "    )\n",
    "    return model"
   ]
  },
  {
   "cell_type": "code",
   "execution_count": 232,
   "metadata": {},
   "outputs": [
    {
     "name": "stdout",
     "output_type": "stream",
     "text": [
      "Epoch 1/5\n",
      "\u001b[1m1004/1004\u001b[0m \u001b[32m━━━━━━━━━━━━━━━━━━━━\u001b[0m\u001b[37m\u001b[0m \u001b[1m13s\u001b[0m 11ms/step - loss: 0.9335 - mae: 0.9335 - val_loss: 0.4549 - val_mae: 0.4549\n",
      "Epoch 2/5\n",
      "\u001b[1m1004/1004\u001b[0m \u001b[32m━━━━━━━━━━━━━━━━━━━━\u001b[0m\u001b[37m\u001b[0m \u001b[1m19s\u001b[0m 9ms/step - loss: 0.4334 - mae: 0.4334 - val_loss: 0.4216 - val_mae: 0.4216\n",
      "Epoch 3/5\n",
      "\u001b[1m1004/1004\u001b[0m \u001b[32m━━━━━━━━━━━━━━━━━━━━\u001b[0m\u001b[37m\u001b[0m \u001b[1m9s\u001b[0m 9ms/step - loss: 0.4224 - mae: 0.4224 - val_loss: 0.4216 - val_mae: 0.4216\n",
      "Epoch 4/5\n",
      "\u001b[1m1004/1004\u001b[0m \u001b[32m━━━━━━━━━━━━━━━━━━━━\u001b[0m\u001b[37m\u001b[0m \u001b[1m9s\u001b[0m 9ms/step - loss: 0.4224 - mae: 0.4224 - val_loss: 0.4216 - val_mae: 0.4216\n",
      "Epoch 5/5\n",
      "\u001b[1m1004/1004\u001b[0m \u001b[32m━━━━━━━━━━━━━━━━━━━━\u001b[0m\u001b[37m\u001b[0m \u001b[1m9s\u001b[0m 9ms/step - loss: 0.4224 - mae: 0.4224 - val_loss: 0.4216 - val_mae: 0.4216\n",
      "[0.7440910339355469, 0.42297518253326416, 0.4189496636390686, 0.41895586252212524, 0.4189620912075043]\n"
     ]
    },
    {
     "data": {
      "text/plain": [
       "Text(0.5, 1.0, 'Training Loss after each Epoch')"
      ]
     },
     "execution_count": 232,
     "metadata": {},
     "output_type": "execute_result"
    },
    {
     "data": {
      "image/png": "[encoded data removed]",
      "text/plain": [
       "<Figure size 640x480 with 1 Axes>"
      ]
     },
     "metadata": {},
     "output_type": "display_data"
    }
   ],
   "source": [
    "tf.random.set_seed(0)\n",
    "# 2. Build and compile model\n",
    "\n",
    "model = build_model(\n",
    "        num_features=X_train_std.shape[1],\n",
    "        lr=0.001\n",
    "    )\n",
    "\n",
    "# 3. Fit the model\n",
    "# YOUR CODE HERE\n",
    "\n",
    "model_fit = model.fit(\n",
    "      x = X_train_std,\n",
    "      y = Y_train_std,\n",
    "      epochs=5,\n",
    "      batch_size=100, #use some data\n",
    "      verbose=True,\n",
    "      validation_data = (X_val_std, Y_val_std))\n",
    "\n",
    "#print (model_fit.history['loss'])\n",
    "    \n",
    "plt.plot(range(1, 6), model_fit.history['val_loss'], marker='o')\n",
    "plt.xlabel('Epoch')\n",
    "plt.ylabel('Loss')\n",
    "plt.title(\"Training Loss after each Epoch\")\n",
    "plt.show()"
   ]
  },
  {
   "cell_type": "code",
   "execution_count": 233,
   "metadata": {},
   "outputs": [
    {
     "name": "stdout",
     "output_type": "stream",
     "text": [
      "\u001b[1m3136/3136\u001b[0m \u001b[32m━━━━━━━━━━━━━━━━━━━━\u001b[0m\u001b[37m\u001b[0m \u001b[1m8s\u001b[0m 2ms/step\n",
      "\u001b[1m1046/1046\u001b[0m \u001b[32m━━━━━━━━━━━━━━━━━━━━\u001b[0m\u001b[37m\u001b[0m \u001b[1m2s\u001b[0m 2ms/step\n"
     ]
    }
   ],
   "source": [
    "X_forest_train_std = model.predict(X_train_std)\n",
    "X_forest_val_std = model.predict(X_val_std)"
   ]
  },
  {
   "cell_type": "code",
   "execution_count": 235,
   "metadata": {},
   "outputs": [
    {
     "data": {
      "text/plain": [
       "array([[-0.04283076],\n",
       "       [-0.04283076],\n",
       "       [-0.04283076],\n",
       "       [-0.04283076],\n",
       "       [-0.04283076],\n",
       "       [-0.04283076],\n",
       "       [-0.04283076],\n",
       "       [-0.04283076],\n",
       "       [-0.04283076],\n",
       "       [-0.04283076],\n",
       "       [-0.04283076],\n",
       "       [-0.04283076],\n",
       "       [-0.04283076],\n",
       "       [-0.04283076],\n",
       "       [-0.04283076],\n",
       "       [-0.04283076],\n",
       "       [-0.04283076],\n",
       "       [-0.04283076],\n",
       "       [-0.04283076],\n",
       "       [-0.04283076],\n",
       "       [-0.04283076],\n",
       "       [-0.04283076],\n",
       "       [-0.04283076],\n",
       "       [-0.04283076],\n",
       "       [-0.04283076],\n",
       "       [-0.04283076],\n",
       "       [-0.04283076],\n",
       "       [-0.04283076],\n",
       "       [-0.04283076],\n",
       "       [-0.04283076]], dtype=float32)"
      ]
     },
     "execution_count": 235,
     "metadata": {},
     "output_type": "execute_result"
    }
   ],
   "source": [
    "X_forest_train_std[10:40]"
   ]
  },
  {
   "cell_type": "markdown",
   "metadata": {},
   "source": [
    "#### Random Forest for when the Predictions from NN are better"
   ]
  },
  {
   "cell_type": "code",
   "execution_count": 101,
   "metadata": {},
   "outputs": [
    {
     "name": "stdout",
     "output_type": "stream",
     "text": [
      "Train accuracy: 0.1746\n",
      "Validation accuracy: -0.0232\n",
      "0.4216051096706643\n"
     ]
    }
   ],
   "source": [
    "clf = ensemble.GradientBoostingRegressor(max_depth=10, random_state=7, n_estimators=64, )\n",
    "clf.fit(X_forest_train_std, Y_train_std)\n",
    "train_accuracy = clf.score(X_forest_train_std, Y_train_std)\n",
    "val_accuracy = clf.score(X_forest_val_std, Y_val_std)\n",
    "print(\"Train accuracy:\", round(train_accuracy,4))\n",
    "print(\"Validation accuracy:\", round(val_accuracy,4))\n",
    "print(get_loss(clf.predict(X_forest_val_std), Y_val_std))"
   ]
  },
  {
   "cell_type": "code",
   "execution_count": 115,
   "metadata": {},
   "outputs": [
    {
     "name": "stdout",
     "output_type": "stream",
     "text": [
      "Train accuracy: 0.4271\n",
      "Validation accuracy: -0.2881\n",
      "0.5167216070318533\n"
     ]
    }
   ],
   "source": [
    "clf = ensemble.RandomForestRegressor(max_depth=50, random_state=7, n_estimators=20, n_jobs=4)\n",
    "clf.fit(X_forest_train_std, Y_train_std)\n",
    "train_accuracy = clf.score(X_forest_train_std, Y_train_std)\n",
    "val_accuracy = clf.score(X_forest_val_std, Y_val_std)\n",
    "print(\"Train accuracy:\", round(train_accuracy,4))\n",
    "print(\"Validation accuracy:\", round(val_accuracy,4))\n",
    "print(get_loss(clf.predict(X_forest_val_std), Y_val_std))"
   ]
  },
  {
   "cell_type": "code",
   "execution_count": 94,
   "metadata": {},
   "outputs": [
    {
     "data": {
      "text/plain": [
       "0.28893871410069283"
      ]
     },
     "execution_count": 94,
     "metadata": {},
     "output_type": "execute_result"
    }
   ],
   "source": [
    "get_loss(clf.predict(X_forest_train_std), Y_train_std)"
   ]
  },
  {
   "cell_type": "code",
   "execution_count": 95,
   "metadata": {},
   "outputs": [
    {
     "data": {
      "text/plain": [
       "0.4941038305116366"
      ]
     },
     "execution_count": 95,
     "metadata": {},
     "output_type": "execute_result"
    }
   ],
   "source": [
    "get_loss(clf.predict(X_forest_val_std), Y_val_std)"
   ]
  },
  {
   "cell_type": "code",
   "execution_count": 71,
   "metadata": {},
   "outputs": [
    {
     "name": "stdout",
     "output_type": "stream",
     "text": [
      "[-0.063335   -0.03888871 -0.02761343 -0.063335   -0.02761343 -0.063335\n",
      "  0.68843555 -0.03283435 -0.02992298 -0.02596131]\n"
     ]
    }
   ],
   "source": [
    "print(clf.predict(X_forest_train_std)[10:20])"
   ]
  },
  {
   "cell_type": "code",
   "execution_count": 72,
   "metadata": {},
   "outputs": [
    {
     "data": {
      "text/plain": [
       "array([-0.51358327,  1.25786755, -0.20299447, -6.97661526,  0.0150899 ,\n",
       "        0.11177056,  0.23721435, -0.9073431 ,  1.47768007, -0.03864651])"
      ]
     },
     "execution_count": 72,
     "metadata": {},
     "output_type": "execute_result"
    }
   ],
   "source": [
    "np.array(Y_val_std)[10:20]"
   ]
  }
 ],
 "metadata": {
  "kernelspec": {
   "display_name": "ml",
   "language": "python",
   "name": "python3"
  },
  "language_info": {
   "codemirror_mode": {
    "name": "ipython",
    "version": 3
   },
   "file_extension": ".py",
   "mimetype": "text/x-python",
   "name": "python",
   "nbconvert_exporter": "python",
   "pygments_lexer": "ipython3",
   "version": "3.11.5"
  }
 },
 "nbformat": 4,
 "nbformat_minor": 2
}
