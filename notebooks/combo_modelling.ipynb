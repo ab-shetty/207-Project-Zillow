{
 "cells": [
  {
   "cell_type": "code",
   "execution_count": 3,
   "metadata": {},
   "outputs": [],
   "source": [
    "# standard\n",
    "import pandas as pd\n",
    "import numpy as np\n",
    "import random\n",
    "\n",
    "# tf and keras\n",
    "import tensorflow as tf\n",
    "#import keras\n",
    "from keras import layers\n",
    "from sklearn.model_selection import train_test_split\n",
    "from sklearn.preprocessing import StandardScaler\n",
    "\n",
    "# plots\n",
    "import seaborn as sns\n",
    "sns.set_theme()\n",
    "import matplotlib.pyplot as plt\n",
    "\n",
    "# xgboost\n",
    "import xgboost as xgb\n",
    "import optuna\n",
    "import optuna.visualization as vis\n",
    "from functools import partial\n",
    "\n",
    "random.seed(42)"
   ]
  },
  {
   "cell_type": "code",
   "execution_count": 17,
   "metadata": {},
   "outputs": [],
   "source": [
    "# Read and clean dataframe\n",
    "\n",
    "def create_dataframe(properties, train_2016, train_2017):\n",
    "\n",
    "    # Get properties data\n",
    "    df_properties = pd.read_csv(properties)\n",
    "\n",
    "    # Get logerrors of transactions and merge\n",
    "    df_2016 = pd.read_csv(train_2016, parse_dates=[\"transactiondate\"])\n",
    "    df_2017 = pd.read_csv(train_2017, parse_dates=[\"transactiondate\"])\n",
    "    df_logs = pd.concat([df_2016, df_2017])\n",
    "\n",
    "    # Inner join transactions with the dataset of all properties\n",
    "    df_all = pd.merge(df_logs, df_properties, on='parcelid', how='inner')\n",
    "\n",
    "    return df_all\n",
    "\n",
    "\n",
    "def clean_augment(df):\n",
    "\n",
    "    # Remove some rows missing important data\n",
    "    df = df.dropna(subset=['regionidcounty','landtaxvaluedollarcnt', 'taxamount', \n",
    "                               'regionidzip', 'structuretaxvaluedollarcnt'])\n",
    "\n",
    "    # Now we read in the housing index for LA County, and add the index for each month\n",
    "    dfh = pd.read_csv(\"https://docs.google.com/spreadsheets/d/1mk0WRuUrXjD9VlJa9EMavjDuWVfwPSeJJ22JUBoJaLU/pub?gid=0&single=true&output=csv\")\n",
    "    dfh.DATE = pd.to_datetime(dfh.DATE)\n",
    "    df.transactiondate = pd.to_datetime(df.transactiondate)\n",
    "    df['transactionmonth'] =  df['transactiondate'].dt.strftime('%Y%m')\n",
    "    dfh.DATE = dfh['DATE'].dt.strftime('%Y%m')\n",
    "    df = pd.merge(df, dfh, left_on='transactionmonth', right_on='DATE', how='left')\n",
    "    df = df.drop(columns='DATE')\n",
    "\n",
    "    # Get month, year, weekday\n",
    "    df['month'] = df.transactionmonth.str[4:]\n",
    "    df['year'] = df.transactionmonth.str[:-2]\n",
    "    df['weekday'] = df.transactiondate.dt.day_of_week\n",
    "\n",
    "    return df\n",
    "\n",
    "def create_test_val(df):\n",
    "\n",
    "    # Select only certain features from full dataset\n",
    "    X = df[['bedroomcnt','roomcnt','bathroomcnt','taxamount','landtaxvaluedollarcnt',\n",
    "            'taxvaluedollarcnt','structuretaxvaluedollarcnt', 'latitude', 'longitude', \n",
    "            'LXXRNSA', 'month', 'year', 'weekday', 'lotsizesquarefeet', \n",
    "            'calculatedfinishedsquarefeet', 'yearbuilt',\n",
    "            ]]\n",
    "    Y = df.logerror\n",
    "\n",
    "    X_train, X_val, Y_train, Y_val = train_test_split(X, Y, test_size=0.2, random_state=1234)\n",
    "\n",
    "    # Applying standardization to inputs\n",
    "\n",
    "    numeric_columns = ['bedroomcnt', 'roomcnt', 'bathroomcnt', 'taxamount',\n",
    "        'landtaxvaluedollarcnt', 'taxvaluedollarcnt',\n",
    "        'structuretaxvaluedollarcnt', 'latitude', 'longitude', 'LXXRNSA', \n",
    "            'lotsizesquarefeet', 'calculatedfinishedsquarefeet', 'yearbuilt',\n",
    "            ]\n",
    "\n",
    "    # Standardize numeric columns\n",
    "    sc_x = StandardScaler()\n",
    "    X_train_std = X_train.copy()\n",
    "    X_val_std = X_val.copy()\n",
    "\n",
    "    X_train_std[numeric_columns] = sc_x.fit(X_train[numeric_columns]).transform(X_train[numeric_columns])\n",
    "    X_val_std[numeric_columns] = sc_x.fit(X_train[numeric_columns]).transform(X_val[numeric_columns])\n",
    "\n",
    "    # Applying standardization to outputs\n",
    "    Y_train_std = (Y_train - Y_train.mean())/Y_train.std()\n",
    "    Y_val_std = (Y_val - Y_train.mean())/Y_train.std()\n",
    "\n",
    "    # Mask missing data in columns - helps a tiny bit\n",
    "    mask_value = -999\n",
    "    X_train_std = X_train_std.fillna(mask_value)\n",
    "    X_val_std = X_val_std.fillna(mask_value)\n",
    "\n",
    "    y_mean = Y_train.mean()\n",
    "    y_std = Y_train.std()\n",
    "\n",
    "    return X_train_std, X_val_std, Y_train_std, Y_val_std, y_mean, y_std, X_train\n",
    "\n",
    "\n",
    "def get_loss(y_true, y_pred):\n",
    "    \"\"\"This function provides mean absolute error\"\"\"\n",
    "\n",
    "    return tf.keras.losses.MAE(y_true, y_pred).numpy()\n",
    "\n",
    "\n",
    "def build_model(lr, resolution_in_degrees):\n",
    "    \"\"\"Use Keras functional API to create neural network model\"\"\"\n",
    "    \n",
    "    tf.keras.backend.clear_session()\n",
    "    tf.random.set_seed(1234)\n",
    "    random.seed(42)\n",
    "    mask_value = -999\n",
    "    \n",
    "\n",
    "    bedroomcnt = layers.Input(shape=(1,), dtype=tf.float32, name='bedroomcnt')\n",
    "    roomcnt = layers.Input(shape=(1,), dtype=tf.float32, name='roomcnt')\n",
    "    bathroomcnt = layers.Input(shape=(1,), dtype=tf.float32, name='bathroomcnt')\n",
    "    taxamount = layers.Input(shape=(1,), dtype=tf.float32, name='taxamount')\n",
    "    landtaxvaluedollarcnt = layers.Input(shape=(1,), dtype=tf.float32, name='landtaxvaluedollarcnt')\n",
    "    taxvaluedollarcnt = layers.Input(shape=(1,), dtype=tf.float32, name='taxvaluedollarcnt')\n",
    "    structuretaxvaluedollarcnt = layers.Input(shape=(1,), dtype=tf.float32, name='structuretaxvaluedollarcnt')\n",
    "    latitude = layers.Input(shape=(1,), dtype=tf.float32, name='latitude')\n",
    "    longitude = layers.Input(shape=(1,), dtype=tf.float32, name='longitude')\n",
    "    lxxrnsa = layers.Input(shape=(1,), dtype=tf.float32, name='lxxrnsa')\n",
    "    month = layers.Input(shape=(1,), dtype=tf.string, name='month')\n",
    "    year = layers.Input(shape=(1,), dtype=tf.string, name='year')\n",
    "    weekday = layers.Input(shape=(1,), dtype=tf.int64, name='weekday')\n",
    "\n",
    "    \n",
    "    lotsizesquarefeet = layers.Input(shape=(1,), dtype=tf.float32, name='lotsizesquarefeet')\n",
    "    lotsizemask = layers.Masking(mask_value=mask_value)(lotsizesquarefeet)\n",
    "\n",
    "    calculatedfinishedsquarefeet = layers.Input(shape=(1,), dtype=tf.float32, name='calculatedfinishedsquarefeet')\n",
    "    finishedsqftmask = layers.Masking(mask_value=mask_value)(calculatedfinishedsquarefeet)\n",
    "\n",
    "    yearbuilt = layers.Input(shape=(1,), dtype=tf.float32, name='yearbuilt')\n",
    "    yearblt = layers.Masking(mask_value=mask_value)(yearbuilt)\n",
    "\n",
    "    bedroomcnt_masked = layers.Masking(mask_value=mask_value)(bedroomcnt)\n",
    "    roomcnt_masked = layers.Masking(mask_value=mask_value)(roomcnt)\n",
    "    bathroomcnt_masked = layers.Masking(mask_value=mask_value)(bathroomcnt)\n",
    "    taxamount_masked = layers.Masking(mask_value=mask_value)(taxamount)\n",
    "    landtaxvaluedollarcnt_masked = layers.Masking(mask_value=mask_value)(landtaxvaluedollarcnt)\n",
    "    taxvaluedollarcnt_masked = layers.Masking(mask_value=mask_value)(taxvaluedollarcnt)\n",
    "    structuretaxvaluedollarcnt_masked = layers.Masking(mask_value=mask_value)(structuretaxvaluedollarcnt)\n",
    "\n",
    "    # One hot encode month, year and weekday\n",
    "    month_id = tf.keras.layers.StringLookup(\n",
    "      vocabulary=['01', '02', '03', '04', '05', '06', '07', '08', '09', '10', '11', '12'], \n",
    "      output_mode='one_hot')(month)\n",
    "    \n",
    "    year_id = tf.keras.layers.StringLookup(\n",
    "      vocabulary=['2016', '2017'], \n",
    "      output_mode='one_hot')(year)   \n",
    "\n",
    "    weekday_id = tf.keras.layers.IntegerLookup(\n",
    "      vocabulary=[0,1,2,3,4,5,6], \n",
    "      output_mode='one_hot')(weekday) \n",
    "\n",
    "\n",
    "    # Create a list of numbers representing the bucket boundaries for latitude.\n",
    "    latitude_boundaries = list(np.arange(-3, 3 + resolution_in_degrees, resolution_in_degrees))\n",
    "\n",
    "    # Create a Discretization layer to separate the latitude data into buckets.\n",
    "    latitude_discretized = tf.keras.layers.Discretization(\n",
    "        bin_boundaries=latitude_boundaries,\n",
    "        name='discretization_latitude')(latitude)\n",
    "\n",
    "    # Create a list of numbers representing the bucket boundaries for longitude.\n",
    "    longitude_boundaries = list(np.arange(-3, 3 + resolution_in_degrees, resolution_in_degrees))\n",
    "\n",
    "    # Create a Discretization layer to separate the longitude data into buckets.\n",
    "    longitude_discretized = tf.keras.layers.Discretization(\n",
    "        bin_boundaries=longitude_boundaries,\n",
    "        name='discretization_longitude')(longitude)\n",
    "\n",
    "    # Cross the latitude and longitude features into a single one-hot vector.\n",
    "    feature_cross = tf.keras.layers.HashedCrossing(\n",
    "        num_bins=len(latitude_boundaries) * len(longitude_boundaries),\n",
    "        output_mode='one_hot',\n",
    "        name='cross_latitude_longitude')([latitude_discretized, longitude_discretized])\n",
    "\n",
    "    features = layers.Concatenate()([\n",
    "                    bedroomcnt_masked, \n",
    "                    roomcnt_masked, \n",
    "                    bathroomcnt_masked, \n",
    "                    taxamount_masked, \n",
    "                    landtaxvaluedollarcnt_masked, \n",
    "                    taxvaluedollarcnt_masked, \n",
    "                    structuretaxvaluedollarcnt_masked,\n",
    "                    feature_cross,\n",
    "                    lxxrnsa,\n",
    "                    month_id,\n",
    "                    year_id,\n",
    "                    weekday_id,\n",
    "                    lotsizemask,\n",
    "                    finishedsqftmask,\n",
    "                    yearblt,\n",
    "    ]) \n",
    "\n",
    "    x = layers.Dense(units=600, kernel_initializer='normal', activation='relu')(features)\n",
    "    x = layers.Dropout(0.36)(x)\n",
    "    x = layers.Dense(units=200, kernel_initializer='normal', activation='relu')(x)\n",
    "    x = layers.BatchNormalization()(x)\n",
    "    x = layers.Dropout(0.6)(x)\n",
    "    x = layers.Dense(1, kernel_initializer='normal')(x)\n",
    "    x = layers.Dense(1, kernel_initializer='normal')(x)\n",
    "\n",
    "    logerror = tf.keras.layers.Dense(\n",
    "        units=1, activation='linear', name='logerror')(x)\n",
    "\n",
    "    model = tf.keras.Model(inputs=[\n",
    "        bedroomcnt, \n",
    "        roomcnt, \n",
    "        bathroomcnt, \n",
    "        taxamount, \n",
    "        landtaxvaluedollarcnt, \n",
    "        taxvaluedollarcnt, \n",
    "        structuretaxvaluedollarcnt,\n",
    "        latitude,\n",
    "        longitude,\n",
    "        lxxrnsa,\n",
    "        month,\n",
    "        year,\n",
    "        weekday,\n",
    "        lotsizesquarefeet,\n",
    "        calculatedfinishedsquarefeet,\n",
    "        yearbuilt,\n",
    "    ], outputs=logerror)\n",
    "    \n",
    "    model.compile(\n",
    "        optimizer=tf.keras.optimizers.Adam(learning_rate=lr),\n",
    "        loss='mae',\n",
    "        metrics=['mae'])\n",
    "\n",
    "    return model\n",
    "\n",
    "# Define the objective function\n",
    "def objective(trial, train_x, Y_train_std, val_x, Y_val_std):\n",
    "    \"\"\"Trial various hyperparameters for neural network model. Return validation MAE.\"\"\"\n",
    "\n",
    "    lr = trial.suggest_float(\"lr\", 0.0005, 0.005)\n",
    "    resolution_in_degrees = trial.suggest_float(\"resolution_in_degrees\", 0.05, 0.7)\n",
    "    epochs = trial.suggest_int(\"epochs\", 5, 10)\n",
    "    batch = trial.suggest_int(\"batch\", 4000, 10000)\n",
    "\n",
    "    random.seed(42)\n",
    "    tf.random.set_seed(1234)    \n",
    "\n",
    "    model = build_model(lr, resolution_in_degrees)\n",
    "  \n",
    "    # Train the model\n",
    "    history = model.fit(\n",
    "    x=train_x,\n",
    "    y=Y_train_std,\n",
    "    epochs= epochs,\n",
    "    batch_size=batch,\n",
    "    validation_data=(val_x, Y_val_std),\n",
    "    verbose = 0,\n",
    ")\n",
    "    \n",
    "    # Return the final validation MAE\n",
    "    val_mae = history.history['val_mae'][-1]\n",
    "    return val_mae\n",
    "\n",
    "\n"
   ]
  },
  {
   "cell_type": "code",
   "execution_count": 13,
   "metadata": {},
   "outputs": [
    {
     "name": "stderr",
     "output_type": "stream",
     "text": [
      "C:\\Users\\ashet\\AppData\\Local\\Temp\\ipykernel_20608\\1745589771.py:6: DtypeWarning: Columns (49) have mixed types. Specify dtype option on import or set low_memory=False.\n",
      "  df_properties = pd.read_csv(properties)\n",
      "C:\\Users\\ashet\\AppData\\Local\\Temp\\ipykernel_20608\\1745589771.py:28: SettingWithCopyWarning: \n",
      "A value is trying to be set on a copy of a slice from a DataFrame.\n",
      "Try using .loc[row_indexer,col_indexer] = value instead\n",
      "\n",
      "See the caveats in the documentation: https://pandas.pydata.org/pandas-docs/stable/user_guide/indexing.html#returning-a-view-versus-a-copy\n",
      "  df.transactiondate = pd.to_datetime(df.transactiondate)\n",
      "C:\\Users\\ashet\\AppData\\Local\\Temp\\ipykernel_20608\\1745589771.py:29: SettingWithCopyWarning: \n",
      "A value is trying to be set on a copy of a slice from a DataFrame.\n",
      "Try using .loc[row_indexer,col_indexer] = value instead\n",
      "\n",
      "See the caveats in the documentation: https://pandas.pydata.org/pandas-docs/stable/user_guide/indexing.html#returning-a-view-versus-a-copy\n",
      "  df['transactionmonth'] =  df['transactiondate'].dt.strftime('%Y%m')\n",
      "[I 2024-08-09 19:54:23,806] A new study created in memory with name: no-name-5274b549-50b8-446f-8dab-7b4d28488d26\n"
     ]
    },
    {
     "name": "stdout",
     "output_type": "stream",
     "text": [
      "0.4320137920376952\n",
      "WARNING:tensorflow:From c:\\Users\\ashet\\anaconda3\\envs\\ml\\Lib\\site-packages\\keras\\src\\backend\\common\\global_state.py:82: The name tf.reset_default_graph is deprecated. Please use tf.compat.v1.reset_default_graph instead.\n",
      "\n"
     ]
    },
    {
     "name": "stderr",
     "output_type": "stream",
     "text": [
      "[I 2024-08-09 19:55:01,770] Trial 0 finished with value: 0.42657366394996643 and parameters: {'lr': 0.0006131942188513374, 'resolution_in_degrees': 0.41857442553536406, 'epochs': 6, 'batch': 4068}. Best is trial 0 with value: 0.42657366394996643.\n",
      "[I 2024-08-09 19:59:36,957] Trial 1 finished with value: 0.4266696870326996 and parameters: {'lr': 0.0012454424441563708, 'resolution_in_degrees': 0.06939509839075729, 'epochs': 8, 'batch': 7550}. Best is trial 0 with value: 0.42657366394996643.\n",
      "[I 2024-08-09 20:00:22,427] Trial 2 finished with value: 0.42691320180892944 and parameters: {'lr': 0.0012030960791913946, 'resolution_in_degrees': 0.6223482008844723, 'epochs': 10, 'batch': 9362}. Best is trial 0 with value: 0.42657366394996643.\n",
      "[I 2024-08-09 20:01:31,108] Trial 3 finished with value: 0.42654189467430115 and parameters: {'lr': 0.0027568720769117973, 'resolution_in_degrees': 0.14623292035427857, 'epochs': 6, 'batch': 9846}. Best is trial 3 with value: 0.42654189467430115.\n",
      "[I 2024-08-09 20:04:10,546] Trial 4 finished with value: 0.4256261885166168 and parameters: {'lr': 0.0036659881923132654, 'resolution_in_degrees': 0.11062887130622294, 'epochs': 9, 'batch': 6579}. Best is trial 4 with value: 0.4256261885166168.\n"
     ]
    },
    {
     "name": "stdout",
     "output_type": "stream",
     "text": [
      "Best Parameters: {'lr': 0.0036659881923132654, 'resolution_in_degrees': 0.11062887130622294, 'epochs': 9, 'batch': 6579}\n",
      "Epoch 1/9\n",
      "\u001b[1m21/21\u001b[0m \u001b[32m━━━━━━━━━━━━━━━━━━━━\u001b[0m\u001b[37m\u001b[0m \u001b[1m19s\u001b[0m 645ms/step - loss: 0.4279 - mae: 0.4279 - val_loss: 0.4272 - val_mae: 0.4272\n",
      "Epoch 2/9\n",
      "\u001b[1m21/21\u001b[0m \u001b[32m━━━━━━━━━━━━━━━━━━━━\u001b[0m\u001b[37m\u001b[0m \u001b[1m12s\u001b[0m 560ms/step - loss: 0.4244 - mae: 0.4244 - val_loss: 0.4268 - val_mae: 0.4268\n",
      "Epoch 3/9\n",
      "\u001b[1m21/21\u001b[0m \u001b[32m━━━━━━━━━━━━━━━━━━━━\u001b[0m\u001b[37m\u001b[0m \u001b[1m23s\u001b[0m 675ms/step - loss: 0.4239 - mae: 0.4239 - val_loss: 0.4264 - val_mae: 0.4264\n",
      "Epoch 4/9\n",
      "\u001b[1m21/21\u001b[0m \u001b[32m━━━━━━━━━━━━━━━━━━━━\u001b[0m\u001b[37m\u001b[0m \u001b[1m13s\u001b[0m 617ms/step - loss: 0.4237 - mae: 0.4237 - val_loss: 0.4264 - val_mae: 0.4264\n",
      "Epoch 5/9\n",
      "\u001b[1m21/21\u001b[0m \u001b[32m━━━━━━━━━━━━━━━━━━━━\u001b[0m\u001b[37m\u001b[0m \u001b[1m16s\u001b[0m 769ms/step - loss: 0.4236 - mae: 0.4236 - val_loss: 0.4260 - val_mae: 0.4260\n",
      "Epoch 6/9\n",
      "\u001b[1m21/21\u001b[0m \u001b[32m━━━━━━━━━━━━━━━━━━━━\u001b[0m\u001b[37m\u001b[0m \u001b[1m21s\u001b[0m 786ms/step - loss: 0.4234 - mae: 0.4234 - val_loss: 0.4259 - val_mae: 0.4259\n",
      "Epoch 7/9\n",
      "\u001b[1m21/21\u001b[0m \u001b[32m━━━━━━━━━━━━━━━━━━━━\u001b[0m\u001b[37m\u001b[0m \u001b[1m15s\u001b[0m 678ms/step - loss: 0.4232 - mae: 0.4232 - val_loss: 0.4260 - val_mae: 0.4260\n",
      "Epoch 8/9\n",
      "\u001b[1m21/21\u001b[0m \u001b[32m━━━━━━━━━━━━━━━━━━━━\u001b[0m\u001b[37m\u001b[0m \u001b[1m21s\u001b[0m 702ms/step - loss: 0.4233 - mae: 0.4233 - val_loss: 0.4258 - val_mae: 0.4258\n",
      "Epoch 9/9\n",
      "\u001b[1m21/21\u001b[0m \u001b[32m━━━━━━━━━━━━━━━━━━━━\u001b[0m\u001b[37m\u001b[0m \u001b[1m16s\u001b[0m 756ms/step - loss: 0.4230 - mae: 0.4230 - val_loss: 0.4256 - val_mae: 0.4256\n"
     ]
    }
   ],
   "source": [
    "df = create_dataframe(\"./data/properties_2017.csv\", \"./data/train_2016_v2.csv\", \"./data/train_2017.csv\")\n",
    "\n",
    "df = clean_augment(df)\n",
    "\n",
    "X_train_std, X_val_std, Y_train_std, Y_val_std, y_mean, y_std, X_train = create_test_val(df)\n",
    "\n",
    "\n",
    "print(get_loss(Y_val_std, y_pred=np.zeros(len(Y_val_std))))\n",
    "\n",
    "train_x = {\n",
    "        'bedroomcnt': X_train_std[['bedroomcnt']],\n",
    "        'roomcnt': X_train_std[['roomcnt']],\n",
    "        'bathroomcnt': X_train_std[['bathroomcnt']],\n",
    "        'taxamount': X_train_std[['taxamount']],\n",
    "        'landtaxvaluedollarcnt': X_train_std[['landtaxvaluedollarcnt']],\n",
    "        'taxvaluedollarcnt': X_train_std[['taxvaluedollarcnt']],\n",
    "        'structuretaxvaluedollarcnt': X_train_std[['structuretaxvaluedollarcnt']],\n",
    "        'latitude': X_train_std[['latitude']],\n",
    "        'longitude': X_train_std[['longitude']],\n",
    "        'lxxrnsa': X_train_std[['LXXRNSA']],\n",
    "        'year': X_train_std[['year']],  \n",
    "        'month': X_train_std[['month']],  \n",
    "        'weekday': X_train_std[['weekday']],\n",
    "        'lotsizesquarefeet': X_train_std[['lotsizesquarefeet']],\n",
    "        'calculatedfinishedsquarefeet': X_train_std[['calculatedfinishedsquarefeet']],\n",
    "        'yearbuilt': X_train_std[['yearbuilt']],\n",
    "\n",
    "    }\n",
    "\n",
    "val_x = {\n",
    "        'bedroomcnt': X_val_std[['bedroomcnt']],\n",
    "        'roomcnt': X_val_std[['roomcnt']],\n",
    "        'bathroomcnt': X_val_std[['bathroomcnt']],\n",
    "        'taxamount': X_val_std[['taxamount']],\n",
    "        'landtaxvaluedollarcnt': X_val_std[['landtaxvaluedollarcnt']],\n",
    "        'taxvaluedollarcnt': X_val_std[['taxvaluedollarcnt']],\n",
    "        'structuretaxvaluedollarcnt': X_val_std[['structuretaxvaluedollarcnt']],\n",
    "        'latitude': X_val_std[['latitude']],\n",
    "        'longitude': X_val_std[['longitude']],\n",
    "        'lxxrnsa': X_val_std[['LXXRNSA']],\n",
    "        'year': X_val_std[['year']], \n",
    "        'month': X_val_std[['month']], \n",
    "        'weekday': X_val_std[['weekday']],\n",
    "        'lotsizesquarefeet': X_val_std[['lotsizesquarefeet']],\n",
    "        'calculatedfinishedsquarefeet': X_val_std[['calculatedfinishedsquarefeet']],\n",
    "        'yearbuilt': X_val_std[['yearbuilt']],\n",
    "        }\n",
    "\n",
    "# Create a study object and optimize the objective function\n",
    "objective_partial = partial(objective, train_x=train_x, Y_train_std=Y_train_std, val_x=val_x, Y_val_std=Y_val_std)\n",
    "study = optuna.create_study(direction='minimize')\n",
    "study.optimize(objective_partial, n_trials=100, timeout=900)\n",
    "\n",
    "# Print the best parameters\n",
    "print(f\"Best Parameters: {study.best_params}\")\n",
    "\n",
    "# Extracting the best parameters from the study\n",
    "best_params = study.best_params\n",
    "\n",
    "# Unpacking the best parameters into individual variables\n",
    "lr = best_params[\"lr\"]\n",
    "resolution_in_degrees = best_params[\"resolution_in_degrees\"]\n",
    "epochs = best_params[\"epochs\"]\n",
    "batch = best_params[\"batch\"]\n",
    "\n",
    "model = build_model(lr, resolution_in_degrees)\n",
    "#model.summary()\n",
    "#display(tf.keras.utils.plot_model(model))\n",
    "random.seed(42)\n",
    "tf.random.set_seed(1234)\n",
    "\n",
    "# Fit model\n",
    "history = model.fit(\n",
    "    x=train_x,\n",
    "    y=Y_train_std,\n",
    "    epochs=epochs,\n",
    "    batch_size=batch,\n",
    "    validation_data=(val_x, Y_val_std)\n",
    ")"
   ]
  },
  {
   "cell_type": "code",
   "execution_count": 21,
   "metadata": {},
   "outputs": [
    {
     "name": "stdout",
     "output_type": "stream",
     "text": [
      "\u001b[1m1046/1046\u001b[0m \u001b[32m━━━━━━━━━━━━━━━━━━━━\u001b[0m\u001b[37m\u001b[0m \u001b[1m8s\u001b[0m 8ms/step\n",
      "0.068795204\n"
     ]
    }
   ],
   "source": [
    "val_preds = model.predict(val_x)\n",
    "\n",
    "# Convert to regular scale from scaled-standardized scale and print loss\n",
    "val_preds= (val_preds[:,0]*y_std) + y_mean\n",
    "Y_val = (Y_val_std*y_std) + y_mean\n",
    "print(get_loss(y_pred=val_preds, y_true=Y_val))"
   ]
  },
  {
   "cell_type": "markdown",
   "metadata": {},
   "source": [
    "### XGBoost"
   ]
  },
  {
   "cell_type": "code",
   "execution_count": 22,
   "metadata": {},
   "outputs": [],
   "source": [
    "def xgboost_train(d_train, watchlist, best_opts):   \n",
    "\n",
    "    clf = xgb.train(\n",
    "    best_opts,\n",
    "    d_train,\n",
    "    num_boost_round=1500,  # Choose a suitable number of boosting rounds\n",
    "    evals=watchlist,\n",
    "    early_stopping_rounds=100,\n",
    "    verbose_eval=10\n",
    ")\n",
    "\n",
    "    return clf\n",
    "\n",
    "# Define the objective function\n",
    "def objective_xg(trial, d_train, watchlist):\n",
    "    \"\"\"Tune hyperparameters for XGBoost model\"\"\"\n",
    "    params = {\n",
    "        'objective': 'reg:squarederror',\n",
    "        'eval_metric': 'mae',\n",
    "        'eta': trial.suggest_float('eta', 0.01, 0.1),\n",
    "        'max_depth': trial.suggest_int('max_depth', 1, 15),\n",
    "        'subsample': trial.suggest_float('subsample', 0.6, 1.0),\n",
    "        'colsample_bytree': trial.suggest_float('colsample_bytree', 0.6, 1.0),\n",
    "        'lambda': trial.suggest_float('lambda', 1e-8, 1.0, log=True),\n",
    "        'alpha': trial.suggest_float('alpha', 1e-8, 1.0, log=True)\n",
    "    }\n",
    "        \n",
    "    # Train the model\n",
    "    model = xgb.train(params, d_train, num_boost_round=1000, evals=watchlist,\n",
    "                      early_stopping_rounds=100, verbose_eval=False)\n",
    "    \n",
    "    # Return the best validation MAE\n",
    "    val_mae = model.best_score\n",
    "    return val_mae"
   ]
  },
  {
   "cell_type": "markdown",
   "metadata": {},
   "source": [
    "### Hyperparameter Tuning and run XGBoost"
   ]
  },
  {
   "cell_type": "code",
   "execution_count": 24,
   "metadata": {},
   "outputs": [
    {
     "name": "stderr",
     "output_type": "stream",
     "text": [
      "[I 2024-08-09 20:15:19,150] A new study created in memory with name: no-name-919e00c6-22c5-478e-86da-c0220af5a46d\n",
      "[I 2024-08-09 20:15:22,812] Trial 0 finished with value: 0.42938613166157763 and parameters: {'eta': 0.08453015953529507, 'max_depth': 14, 'subsample': 0.9413850995100834, 'colsample_bytree': 0.8049683030578855, 'lambda': 0.0009959786037431447, 'alpha': 0.00018946646180184604}. Best is trial 0 with value: 0.42938613166157763.\n",
      "[I 2024-08-09 20:15:26,224] Trial 1 finished with value: 0.42926785434453424 and parameters: {'eta': 0.021589700559158577, 'max_depth': 11, 'subsample': 0.7479367992431482, 'colsample_bytree': 0.6685829909018006, 'lambda': 2.473902102439808e-08, 'alpha': 0.00013482539439948433}. Best is trial 1 with value: 0.42926785434453424.\n",
      "[I 2024-08-09 20:15:28,600] Trial 2 finished with value: 0.429413282144301 and parameters: {'eta': 0.09876866734724224, 'max_depth': 15, 'subsample': 0.9645997677376954, 'colsample_bytree': 0.958866723807715, 'lambda': 0.00564492520177791, 'alpha': 0.050516095426080994}. Best is trial 1 with value: 0.42926785434453424.\n",
      "[I 2024-08-09 20:15:30,726] Trial 3 finished with value: 0.4285739803240085 and parameters: {'eta': 0.07623525970768488, 'max_depth': 3, 'subsample': 0.947975283449839, 'colsample_bytree': 0.8684645675412456, 'lambda': 5.307662373541456e-07, 'alpha': 7.962170036548114e-07}. Best is trial 3 with value: 0.4285739803240085.\n",
      "[I 2024-08-09 20:15:32,988] Trial 4 finished with value: 0.42850500441908385 and parameters: {'eta': 0.07021985769951963, 'max_depth': 2, 'subsample': 0.7420082354043573, 'colsample_bytree': 0.9464956040484163, 'lambda': 2.520851345100201e-07, 'alpha': 9.871187019343699e-07}. Best is trial 4 with value: 0.42850500441908385.\n",
      "[I 2024-08-09 20:15:35,401] Trial 5 finished with value: 0.42925226672649985 and parameters: {'eta': 0.08573139232117924, 'max_depth': 10, 'subsample': 0.9646359250417222, 'colsample_bytree': 0.6197676670974589, 'lambda': 4.336675883071264e-06, 'alpha': 0.02554734382405254}. Best is trial 4 with value: 0.42850500441908385.\n",
      "[I 2024-08-09 20:15:37,555] Trial 6 finished with value: 0.4290726539958041 and parameters: {'eta': 0.0890593094057024, 'max_depth': 8, 'subsample': 0.7601395534280805, 'colsample_bytree': 0.7798216666934872, 'lambda': 0.01746321786760403, 'alpha': 1.5090846288798932e-07}. Best is trial 4 with value: 0.42850500441908385.\n",
      "[I 2024-08-09 20:15:41,686] Trial 7 finished with value: 0.4292457944622787 and parameters: {'eta': 0.022298380965520503, 'max_depth': 11, 'subsample': 0.7169338570875616, 'colsample_bytree': 0.7819036054588144, 'lambda': 0.02576466833144934, 'alpha': 0.02865355481308607}. Best is trial 4 with value: 0.42850500441908385.\n",
      "[I 2024-08-09 20:15:44,602] Trial 8 finished with value: 0.4293642528901042 and parameters: {'eta': 0.0409485837950811, 'max_depth': 13, 'subsample': 0.7225686704569967, 'colsample_bytree': 0.79990216532102, 'lambda': 3.1233359285706776e-06, 'alpha': 0.005918410672920402}. Best is trial 4 with value: 0.42850500441908385.\n",
      "[I 2024-08-09 20:15:46,972] Trial 9 finished with value: 0.42904343501293607 and parameters: {'eta': 0.03359731564478007, 'max_depth': 8, 'subsample': 0.7044555196274349, 'colsample_bytree': 0.8178649582048947, 'lambda': 1.2232508832210324e-07, 'alpha': 0.000316274492119893}. Best is trial 4 with value: 0.42850500441908385.\n",
      "[I 2024-08-09 20:15:49,692] Trial 10 finished with value: 0.4283961968827314 and parameters: {'eta': 0.06213686026426219, 'max_depth': 1, 'subsample': 0.6009097688608647, 'colsample_bytree': 0.9705236380361846, 'lambda': 0.6830910014303269, 'alpha': 1.0951123996164474e-08}. Best is trial 10 with value: 0.4283961968827314.\n",
      "[I 2024-08-09 20:15:51,858] Trial 11 finished with value: 0.42840512331500563 and parameters: {'eta': 0.061611988720231825, 'max_depth': 1, 'subsample': 0.6037990687191939, 'colsample_bytree': 0.9645174332184195, 'lambda': 0.00010900187238143747, 'alpha': 1.9025674544721462e-08}. Best is trial 10 with value: 0.4283961968827314.\n",
      "[I 2024-08-09 20:15:53,983] Trial 12 finished with value: 0.4288149175394762 and parameters: {'eta': 0.05924041600122097, 'max_depth': 5, 'subsample': 0.610138616244757, 'colsample_bytree': 0.9911940250499941, 'lambda': 0.7873771389985297, 'alpha': 1.247734281056397e-08}. Best is trial 10 with value: 0.4283961968827314.\n",
      "[I 2024-08-09 20:15:56,198] Trial 13 finished with value: 0.4284227338687216 and parameters: {'eta': 0.05527266097642238, 'max_depth': 1, 'subsample': 0.633483209246991, 'colsample_bytree': 0.904597206959574, 'lambda': 0.00010755235891782893, 'alpha': 1.1529965043343617e-08}. Best is trial 10 with value: 0.4283961968827314.\n",
      "[I 2024-08-09 20:15:58,047] Trial 14 finished with value: 0.4287647451611569 and parameters: {'eta': 0.04338416344555318, 'max_depth': 5, 'subsample': 0.8569621711292579, 'colsample_bytree': 0.8910544421430688, 'lambda': 0.25336064236322114, 'alpha': 9.98320890626974e-06}. Best is trial 10 with value: 0.4283961968827314.\n",
      "[I 2024-08-09 20:16:00,514] Trial 15 finished with value: 0.4286646899622353 and parameters: {'eta': 0.06640130115377939, 'max_depth': 4, 'subsample': 0.6661632002176615, 'colsample_bytree': 0.9878000410812375, 'lambda': 0.00012542414473413615, 'alpha': 0.9639640400525897}. Best is trial 10 with value: 0.4283961968827314.\n",
      "[I 2024-08-09 20:16:03,518] Trial 16 finished with value: 0.42848103255816644 and parameters: {'eta': 0.04931175963880262, 'max_depth': 1, 'subsample': 0.8461698720024602, 'colsample_bytree': 0.9267056132507691, 'lambda': 1.2743206641294353e-05, 'alpha': 1.2478901636824943e-07}. Best is trial 10 with value: 0.4283961968827314.\n",
      "[I 2024-08-09 20:16:06,646] Trial 17 finished with value: 0.428931657673703 and parameters: {'eta': 0.05925543517869232, 'max_depth': 6, 'subsample': 0.601220014658017, 'colsample_bytree': 0.7149836422638123, 'lambda': 0.0010220993321784684, 'alpha': 8.876745435212649e-06}. Best is trial 10 with value: 0.4283961968827314.\n",
      "[I 2024-08-09 20:16:09,106] Trial 18 finished with value: 0.4286498369640357 and parameters: {'eta': 0.07319806110797641, 'max_depth': 3, 'subsample': 0.6601136606671701, 'colsample_bytree': 0.8495653518131384, 'lambda': 0.12531068273553375, 'alpha': 7.216038232385625e-08}. Best is trial 10 with value: 0.4283961968827314.\n",
      "[I 2024-08-09 20:16:11,770] Trial 19 finished with value: 0.42886533148996553 and parameters: {'eta': 0.032765962608109545, 'max_depth': 6, 'subsample': 0.7996098176334389, 'colsample_bytree': 0.9988528015483927, 'lambda': 0.001165004454407582, 'alpha': 1.310668345827743e-05}. Best is trial 10 with value: 0.4283961968827314.\n"
     ]
    },
    {
     "name": "stdout",
     "output_type": "stream",
     "text": [
      "Best Parameters: {'eta': 0.06213686026426219, 'max_depth': 1, 'subsample': 0.6009097688608647, 'colsample_bytree': 0.9705236380361846, 'lambda': 0.6830910014303269, 'alpha': 1.0951123996164474e-08}\n",
      "[0]\ttrain-mae:0.42567\tvalid-mae:0.43161\n",
      "[10]\ttrain-mae:0.42351\tvalid-mae:0.42957\n",
      "[20]\ttrain-mae:0.42263\tvalid-mae:0.42885\n",
      "[30]\ttrain-mae:0.42220\tvalid-mae:0.42852\n",
      "[40]\ttrain-mae:0.42198\tvalid-mae:0.42843\n",
      "[50]\ttrain-mae:0.42194\tvalid-mae:0.42850\n",
      "[60]\ttrain-mae:0.42197\tvalid-mae:0.42859\n",
      "[70]\ttrain-mae:0.42201\tvalid-mae:0.42869\n",
      "[80]\ttrain-mae:0.42205\tvalid-mae:0.42876\n",
      "[90]\ttrain-mae:0.42198\tvalid-mae:0.42876\n",
      "[100]\ttrain-mae:0.42214\tvalid-mae:0.42895\n",
      "[110]\ttrain-mae:0.42233\tvalid-mae:0.42918\n",
      "[120]\ttrain-mae:0.42232\tvalid-mae:0.42917\n",
      "[130]\ttrain-mae:0.42234\tvalid-mae:0.42919\n",
      "[137]\ttrain-mae:0.42224\tvalid-mae:0.42908\n"
     ]
    },
    {
     "data": {
      "text/plain": [
       "0.0693538"
      ]
     },
     "execution_count": 24,
     "metadata": {},
     "output_type": "execute_result"
    }
   ],
   "source": [
    "# Get train and validation predictions from neural network as inputs for XGBoost\n",
    "\n",
    "train_preds = model.predict(train_x)\n",
    "val_preds = model.predict(val_x)\n",
    "\n",
    "# Create XGBoost matrices\n",
    "d_train = xgb.DMatrix(train_preds, label = Y_train_std)\n",
    "d_valid = xgb.DMatrix(val_preds, label = Y_val_std)\n",
    "watchlist = [(d_train, 'train'), (d_valid, 'valid')]\n",
    "\n",
    "# Create a study object and optimize the objective function\n",
    "objective_partial = partial(objective_xg, d_train=d_train, watchlist=watchlist)\n",
    "study = optuna.create_study(direction='minimize')\n",
    "study.optimize(objective_partial, n_trials=100, timeout=600)\n",
    "\n",
    "# Print the best parameters\n",
    "print(f\"Best Parameters: {study.best_params}\")\n",
    "\n",
    "best_opts= study.best_params\n",
    "best_opts['eval_metric'] = \"mae\"\n",
    "clf = xgboost_train(d_train, watchlist, best_opts)\n",
    "\n",
    "# Get final loss, it's near-identical\n",
    "xgb_val = (clf.predict(d_valid)*y_std) + y_mean\n",
    "get_loss(y_pred=xgb_val, y_true=Y_val)"
   ]
  },
  {
   "cell_type": "code",
   "execution_count": 245,
   "metadata": {},
   "outputs": [
    {
     "data": {
      "application/vnd.plotly.v1+json": {
       "config": {
        "plotlyServerURL": "https://plot.ly"
       },
       "data": [
        {
         "mode": "markers",
         "name": "Objective Value",
         "type": "scatter",
         "x": [
          0,
          1,
          2,
          3,
          4,
          5,
          6,
          7,
          8,
          9,
          10,
          11,
          12,
          13,
          14,
          15,
          16,
          17,
          18,
          19,
          20,
          21,
          22,
          23,
          24,
          25,
          26,
          27,
          28,
          29,
          30,
          31,
          32,
          33,
          34,
          35,
          36,
          37,
          38,
          39,
          40,
          41,
          42,
          43,
          44,
          45,
          46,
          47,
          48,
          49,
          50,
          51,
          52,
          53,
          54,
          55,
          56,
          57,
          58,
          59,
          60,
          61,
          62,
          63,
          64,
          65,
          66,
          67,
          68,
          69,
          70,
          71,
          72,
          73,
          74,
          75,
          76,
          77,
          78,
          79,
          80,
          81,
          82,
          83,
          84,
          85,
          86,
          87,
          88,
          89,
          90,
          91,
          92,
          93,
          94,
          95,
          96,
          97,
          98,
          99
         ],
         "y": [
          0.4250122785152996,
          0.42488807513324073,
          0.42583106763654893,
          0.42579302281200637,
          0.4258846941476487,
          0.42591210391685386,
          0.4251989848539579,
          0.42579619934650736,
          0.4257900953494082,
          0.42572426025177845,
          0.42488361658081725,
          0.42488402816802295,
          0.4248886342784975,
          0.42488132969992215,
          0.4253040000140747,
          0.4249020485811291,
          0.42530530891262114,
          0.4248856231621108,
          0.42558689556535395,
          0.4250312932187543,
          0.4249071855073596,
          0.4248827202254051,
          0.4248966504920593,
          0.42519035224190166,
          0.4248972627957074,
          0.42556001974804214,
          0.42486968043187573,
          0.4248760628271148,
          0.42512450361447046,
          0.4250280718296395,
          0.4248824269857556,
          0.4248567771775395,
          0.42489676352599326,
          0.42485918941869216,
          0.42490467350012046,
          0.42510992652319507,
          0.4248347338907419,
          0.42498523739040983,
          0.4253897197968781,
          0.4248782069021862,
          0.42486336605747926,
          0.42485278528238485,
          0.42485137319887406,
          0.42494324178745974,
          0.42498523893823664,
          0.4248983246227979,
          0.42582201924783925,
          0.42557352065030646,
          0.42487680449302984,
          0.4248852176718531,
          0.42511181357491207,
          0.42485768387854983,
          0.4248713507919524,
          0.4248601748993333,
          0.42486030372401395,
          0.42485876169300485,
          0.4248623988712029,
          0.42484056131666187,
          0.42578730358135536,
          0.42582752527941337,
          0.4249971986337384,
          0.42485664075751833,
          0.42486282985797413,
          0.42489150615346777,
          0.424878812202652,
          0.4248734474332755,
          0.42484204694948835,
          0.4248368702111935,
          0.4248442336033779,
          0.4248504837809564,
          0.4248629103520775,
          0.4248467057709699,
          0.4248561555781148,
          0.42486316702941845,
          0.42486070443565105,
          0.42484938784822357,
          0.4248475709088114,
          0.42484881051110623,
          0.42487132198183375,
          0.4248630314904567,
          0.42488295936401055,
          0.42484588052426003,
          0.4248538584849521,
          0.4248768244637782,
          0.4248729607935727,
          0.4248688562281284,
          0.4248849301317285,
          0.42486060712295687,
          0.42485375918748586,
          0.4257421627803382,
          0.42486763958845997,
          0.42485768675554747,
          0.42486832674114805,
          0.42484226583545415,
          0.4248481676830925,
          0.4248633082020994,
          0.42487190817756554,
          0.42491198780821454,
          0.42486746573778555,
          0.42540034509685354
         ]
        },
        {
         "mode": "lines",
         "name": "Best Value",
         "type": "scatter",
         "x": [
          0,
          1,
          2,
          3,
          4,
          5,
          6,
          7,
          8,
          9,
          10,
          11,
          12,
          13,
          14,
          15,
          16,
          17,
          18,
          19,
          20,
          21,
          22,
          23,
          24,
          25,
          26,
          27,
          28,
          29,
          30,
          31,
          32,
          33,
          34,
          35,
          36,
          37,
          38,
          39,
          40,
          41,
          42,
          43,
          44,
          45,
          46,
          47,
          48,
          49,
          50,
          51,
          52,
          53,
          54,
          55,
          56,
          57,
          58,
          59,
          60,
          61,
          62,
          63,
          64,
          65,
          66,
          67,
          68,
          69,
          70,
          71,
          72,
          73,
          74,
          75,
          76,
          77,
          78,
          79,
          80,
          81,
          82,
          83,
          84,
          85,
          86,
          87,
          88,
          89,
          90,
          91,
          92,
          93,
          94,
          95,
          96,
          97,
          98,
          99
         ],
         "y": [
          0.4250122785152996,
          0.42488807513324073,
          0.42488807513324073,
          0.42488807513324073,
          0.42488807513324073,
          0.42488807513324073,
          0.42488807513324073,
          0.42488807513324073,
          0.42488807513324073,
          0.42488807513324073,
          0.42488361658081725,
          0.42488361658081725,
          0.42488361658081725,
          0.42488132969992215,
          0.42488132969992215,
          0.42488132969992215,
          0.42488132969992215,
          0.42488132969992215,
          0.42488132969992215,
          0.42488132969992215,
          0.42488132969992215,
          0.42488132969992215,
          0.42488132969992215,
          0.42488132969992215,
          0.42488132969992215,
          0.42488132969992215,
          0.42486968043187573,
          0.42486968043187573,
          0.42486968043187573,
          0.42486968043187573,
          0.42486968043187573,
          0.4248567771775395,
          0.4248567771775395,
          0.4248567771775395,
          0.4248567771775395,
          0.4248567771775395,
          0.4248347338907419,
          0.4248347338907419,
          0.4248347338907419,
          0.4248347338907419,
          0.4248347338907419,
          0.4248347338907419,
          0.4248347338907419,
          0.4248347338907419,
          0.4248347338907419,
          0.4248347338907419,
          0.4248347338907419,
          0.4248347338907419,
          0.4248347338907419,
          0.4248347338907419,
          0.4248347338907419,
          0.4248347338907419,
          0.4248347338907419,
          0.4248347338907419,
          0.4248347338907419,
          0.4248347338907419,
          0.4248347338907419,
          0.4248347338907419,
          0.4248347338907419,
          0.4248347338907419,
          0.4248347338907419,
          0.4248347338907419,
          0.4248347338907419,
          0.4248347338907419,
          0.4248347338907419,
          0.4248347338907419,
          0.4248347338907419,
          0.4248347338907419,
          0.4248347338907419,
          0.4248347338907419,
          0.4248347338907419,
          0.4248347338907419,
          0.4248347338907419,
          0.4248347338907419,
          0.4248347338907419,
          0.4248347338907419,
          0.4248347338907419,
          0.4248347338907419,
          0.4248347338907419,
          0.4248347338907419,
          0.4248347338907419,
          0.4248347338907419,
          0.4248347338907419,
          0.4248347338907419,
          0.4248347338907419,
          0.4248347338907419,
          0.4248347338907419,
          0.4248347338907419,
          0.4248347338907419,
          0.4248347338907419,
          0.4248347338907419,
          0.4248347338907419,
          0.4248347338907419,
          0.4248347338907419,
          0.4248347338907419,
          0.4248347338907419,
          0.4248347338907419,
          0.4248347338907419,
          0.4248347338907419,
          0.4248347338907419
         ]
        },
        {
         "marker": {
          "color": "#cccccc"
         },
         "mode": "markers",
         "name": "Infeasible Trial",
         "showlegend": false,
         "type": "scatter",
         "x": [],
         "y": []
        }
       ],
       "layout": {
        "template": {
         "data": {
          "bar": [
           {
            "error_x": {
             "color": "#2a3f5f"
            },
            "error_y": {
             "color": "#2a3f5f"
            },
            "marker": {
             "line": {
              "color": "#E5ECF6",
              "width": 0.5
             },
             "pattern": {
              "fillmode": "overlay",
              "size": 10,
              "solidity": 0.2
             }
            },
            "type": "bar"
           }
          ],
          "barpolar": [
           {
            "marker": {
             "line": {
              "color": "#E5ECF6",
              "width": 0.5
             },
             "pattern": {
              "fillmode": "overlay",
              "size": 10,
              "solidity": 0.2
             }
            },
            "type": "barpolar"
           }
          ],
          "carpet": [
           {
            "aaxis": {
             "endlinecolor": "#2a3f5f",
             "gridcolor": "white",
             "linecolor": "white",
             "minorgridcolor": "white",
             "startlinecolor": "#2a3f5f"
            },
            "baxis": {
             "endlinecolor": "#2a3f5f",
             "gridcolor": "white",
             "linecolor": "white",
             "minorgridcolor": "white",
             "startlinecolor": "#2a3f5f"
            },
            "type": "carpet"
           }
          ],
          "choropleth": [
           {
            "colorbar": {
             "outlinewidth": 0,
             "ticks": ""
            },
            "type": "choropleth"
           }
          ],
          "contour": [
           {
            "colorbar": {
             "outlinewidth": 0,
             "ticks": ""
            },
            "colorscale": [
             [
              0,
              "#0d0887"
             ],
             [
              0.1111111111111111,
              "#46039f"
             ],
             [
              0.2222222222222222,
              "#7201a8"
             ],
             [
              0.3333333333333333,
              "#9c179e"
             ],
             [
              0.4444444444444444,
              "#bd3786"
             ],
             [
              0.5555555555555556,
              "#d8576b"
             ],
             [
              0.6666666666666666,
              "#ed7953"
             ],
             [
              0.7777777777777778,
              "#fb9f3a"
             ],
             [
              0.8888888888888888,
              "#fdca26"
             ],
             [
              1,
              "#f0f921"
             ]
            ],
            "type": "contour"
           }
          ],
          "contourcarpet": [
           {
            "colorbar": {
             "outlinewidth": 0,
             "ticks": ""
            },
            "type": "contourcarpet"
           }
          ],
          "heatmap": [
           {
            "colorbar": {
             "outlinewidth": 0,
             "ticks": ""
            },
            "colorscale": [
             [
              0,
              "#0d0887"
             ],
             [
              0.1111111111111111,
              "#46039f"
             ],
             [
              0.2222222222222222,
              "#7201a8"
             ],
             [
              0.3333333333333333,
              "#9c179e"
             ],
             [
              0.4444444444444444,
              "#bd3786"
             ],
             [
              0.5555555555555556,
              "#d8576b"
             ],
             [
              0.6666666666666666,
              "#ed7953"
             ],
             [
              0.7777777777777778,
              "#fb9f3a"
             ],
             [
              0.8888888888888888,
              "#fdca26"
             ],
             [
              1,
              "#f0f921"
             ]
            ],
            "type": "heatmap"
           }
          ],
          "heatmapgl": [
           {
            "colorbar": {
             "outlinewidth": 0,
             "ticks": ""
            },
            "colorscale": [
             [
              0,
              "#0d0887"
             ],
             [
              0.1111111111111111,
              "#46039f"
             ],
             [
              0.2222222222222222,
              "#7201a8"
             ],
             [
              0.3333333333333333,
              "#9c179e"
             ],
             [
              0.4444444444444444,
              "#bd3786"
             ],
             [
              0.5555555555555556,
              "#d8576b"
             ],
             [
              0.6666666666666666,
              "#ed7953"
             ],
             [
              0.7777777777777778,
              "#fb9f3a"
             ],
             [
              0.8888888888888888,
              "#fdca26"
             ],
             [
              1,
              "#f0f921"
             ]
            ],
            "type": "heatmapgl"
           }
          ],
          "histogram": [
           {
            "marker": {
             "pattern": {
              "fillmode": "overlay",
              "size": 10,
              "solidity": 0.2
             }
            },
            "type": "histogram"
           }
          ],
          "histogram2d": [
           {
            "colorbar": {
             "outlinewidth": 0,
             "ticks": ""
            },
            "colorscale": [
             [
              0,
              "#0d0887"
             ],
             [
              0.1111111111111111,
              "#46039f"
             ],
             [
              0.2222222222222222,
              "#7201a8"
             ],
             [
              0.3333333333333333,
              "#9c179e"
             ],
             [
              0.4444444444444444,
              "#bd3786"
             ],
             [
              0.5555555555555556,
              "#d8576b"
             ],
             [
              0.6666666666666666,
              "#ed7953"
             ],
             [
              0.7777777777777778,
              "#fb9f3a"
             ],
             [
              0.8888888888888888,
              "#fdca26"
             ],
             [
              1,
              "#f0f921"
             ]
            ],
            "type": "histogram2d"
           }
          ],
          "histogram2dcontour": [
           {
            "colorbar": {
             "outlinewidth": 0,
             "ticks": ""
            },
            "colorscale": [
             [
              0,
              "#0d0887"
             ],
             [
              0.1111111111111111,
              "#46039f"
             ],
             [
              0.2222222222222222,
              "#7201a8"
             ],
             [
              0.3333333333333333,
              "#9c179e"
             ],
             [
              0.4444444444444444,
              "#bd3786"
             ],
             [
              0.5555555555555556,
              "#d8576b"
             ],
             [
              0.6666666666666666,
              "#ed7953"
             ],
             [
              0.7777777777777778,
              "#fb9f3a"
             ],
             [
              0.8888888888888888,
              "#fdca26"
             ],
             [
              1,
              "#f0f921"
             ]
            ],
            "type": "histogram2dcontour"
           }
          ],
          "mesh3d": [
           {
            "colorbar": {
             "outlinewidth": 0,
             "ticks": ""
            },
            "type": "mesh3d"
           }
          ],
          "parcoords": [
           {
            "line": {
             "colorbar": {
              "outlinewidth": 0,
              "ticks": ""
             }
            },
            "type": "parcoords"
           }
          ],
          "pie": [
           {
            "automargin": true,
            "type": "pie"
           }
          ],
          "scatter": [
           {
            "fillpattern": {
             "fillmode": "overlay",
             "size": 10,
             "solidity": 0.2
            },
            "type": "scatter"
           }
          ],
          "scatter3d": [
           {
            "line": {
             "colorbar": {
              "outlinewidth": 0,
              "ticks": ""
             }
            },
            "marker": {
             "colorbar": {
              "outlinewidth": 0,
              "ticks": ""
             }
            },
            "type": "scatter3d"
           }
          ],
          "scattercarpet": [
           {
            "marker": {
             "colorbar": {
              "outlinewidth": 0,
              "ticks": ""
             }
            },
            "type": "scattercarpet"
           }
          ],
          "scattergeo": [
           {
            "marker": {
             "colorbar": {
              "outlinewidth": 0,
              "ticks": ""
             }
            },
            "type": "scattergeo"
           }
          ],
          "scattergl": [
           {
            "marker": {
             "colorbar": {
              "outlinewidth": 0,
              "ticks": ""
             }
            },
            "type": "scattergl"
           }
          ],
          "scattermapbox": [
           {
            "marker": {
             "colorbar": {
              "outlinewidth": 0,
              "ticks": ""
             }
            },
            "type": "scattermapbox"
           }
          ],
          "scatterpolar": [
           {
            "marker": {
             "colorbar": {
              "outlinewidth": 0,
              "ticks": ""
             }
            },
            "type": "scatterpolar"
           }
          ],
          "scatterpolargl": [
           {
            "marker": {
             "colorbar": {
              "outlinewidth": 0,
              "ticks": ""
             }
            },
            "type": "scatterpolargl"
           }
          ],
          "scatterternary": [
           {
            "marker": {
             "colorbar": {
              "outlinewidth": 0,
              "ticks": ""
             }
            },
            "type": "scatterternary"
           }
          ],
          "surface": [
           {
            "colorbar": {
             "outlinewidth": 0,
             "ticks": ""
            },
            "colorscale": [
             [
              0,
              "#0d0887"
             ],
             [
              0.1111111111111111,
              "#46039f"
             ],
             [
              0.2222222222222222,
              "#7201a8"
             ],
             [
              0.3333333333333333,
              "#9c179e"
             ],
             [
              0.4444444444444444,
              "#bd3786"
             ],
             [
              0.5555555555555556,
              "#d8576b"
             ],
             [
              0.6666666666666666,
              "#ed7953"
             ],
             [
              0.7777777777777778,
              "#fb9f3a"
             ],
             [
              0.8888888888888888,
              "#fdca26"
             ],
             [
              1,
              "#f0f921"
             ]
            ],
            "type": "surface"
           }
          ],
          "table": [
           {
            "cells": {
             "fill": {
              "color": "#EBF0F8"
             },
             "line": {
              "color": "white"
             }
            },
            "header": {
             "fill": {
              "color": "#C8D4E3"
             },
             "line": {
              "color": "white"
             }
            },
            "type": "table"
           }
          ]
         },
         "layout": {
          "annotationdefaults": {
           "arrowcolor": "#2a3f5f",
           "arrowhead": 0,
           "arrowwidth": 1
          },
          "autotypenumbers": "strict",
          "coloraxis": {
           "colorbar": {
            "outlinewidth": 0,
            "ticks": ""
           }
          },
          "colorscale": {
           "diverging": [
            [
             0,
             "#8e0152"
            ],
            [
             0.1,
             "#c51b7d"
            ],
            [
             0.2,
             "#de77ae"
            ],
            [
             0.3,
             "#f1b6da"
            ],
            [
             0.4,
             "#fde0ef"
            ],
            [
             0.5,
             "#f7f7f7"
            ],
            [
             0.6,
             "#e6f5d0"
            ],
            [
             0.7,
             "#b8e186"
            ],
            [
             0.8,
             "#7fbc41"
            ],
            [
             0.9,
             "#4d9221"
            ],
            [
             1,
             "#276419"
            ]
           ],
           "sequential": [
            [
             0,
             "#0d0887"
            ],
            [
             0.1111111111111111,
             "#46039f"
            ],
            [
             0.2222222222222222,
             "#7201a8"
            ],
            [
             0.3333333333333333,
             "#9c179e"
            ],
            [
             0.4444444444444444,
             "#bd3786"
            ],
            [
             0.5555555555555556,
             "#d8576b"
            ],
            [
             0.6666666666666666,
             "#ed7953"
            ],
            [
             0.7777777777777778,
             "#fb9f3a"
            ],
            [
             0.8888888888888888,
             "#fdca26"
            ],
            [
             1,
             "#f0f921"
            ]
           ],
           "sequentialminus": [
            [
             0,
             "#0d0887"
            ],
            [
             0.1111111111111111,
             "#46039f"
            ],
            [
             0.2222222222222222,
             "#7201a8"
            ],
            [
             0.3333333333333333,
             "#9c179e"
            ],
            [
             0.4444444444444444,
             "#bd3786"
            ],
            [
             0.5555555555555556,
             "#d8576b"
            ],
            [
             0.6666666666666666,
             "#ed7953"
            ],
            [
             0.7777777777777778,
             "#fb9f3a"
            ],
            [
             0.8888888888888888,
             "#fdca26"
            ],
            [
             1,
             "#f0f921"
            ]
           ]
          },
          "colorway": [
           "#636efa",
           "#EF553B",
           "#00cc96",
           "#ab63fa",
           "#FFA15A",
           "#19d3f3",
           "#FF6692",
           "#B6E880",
           "#FF97FF",
           "#FECB52"
          ],
          "font": {
           "color": "#2a3f5f"
          },
          "geo": {
           "bgcolor": "white",
           "lakecolor": "white",
           "landcolor": "#E5ECF6",
           "showlakes": true,
           "showland": true,
           "subunitcolor": "white"
          },
          "hoverlabel": {
           "align": "left"
          },
          "hovermode": "closest",
          "mapbox": {
           "style": "light"
          },
          "paper_bgcolor": "white",
          "plot_bgcolor": "#E5ECF6",
          "polar": {
           "angularaxis": {
            "gridcolor": "white",
            "linecolor": "white",
            "ticks": ""
           },
           "bgcolor": "#E5ECF6",
           "radialaxis": {
            "gridcolor": "white",
            "linecolor": "white",
            "ticks": ""
           }
          },
          "scene": {
           "xaxis": {
            "backgroundcolor": "#E5ECF6",
            "gridcolor": "white",
            "gridwidth": 2,
            "linecolor": "white",
            "showbackground": true,
            "ticks": "",
            "zerolinecolor": "white"
           },
           "yaxis": {
            "backgroundcolor": "#E5ECF6",
            "gridcolor": "white",
            "gridwidth": 2,
            "linecolor": "white",
            "showbackground": true,
            "ticks": "",
            "zerolinecolor": "white"
           },
           "zaxis": {
            "backgroundcolor": "#E5ECF6",
            "gridcolor": "white",
            "gridwidth": 2,
            "linecolor": "white",
            "showbackground": true,
            "ticks": "",
            "zerolinecolor": "white"
           }
          },
          "shapedefaults": {
           "line": {
            "color": "#2a3f5f"
           }
          },
          "ternary": {
           "aaxis": {
            "gridcolor": "white",
            "linecolor": "white",
            "ticks": ""
           },
           "baxis": {
            "gridcolor": "white",
            "linecolor": "white",
            "ticks": ""
           },
           "bgcolor": "#E5ECF6",
           "caxis": {
            "gridcolor": "white",
            "linecolor": "white",
            "ticks": ""
           }
          },
          "title": {
           "x": 0.05
          },
          "xaxis": {
           "automargin": true,
           "gridcolor": "white",
           "linecolor": "white",
           "ticks": "",
           "title": {
            "standoff": 15
           },
           "zerolinecolor": "white",
           "zerolinewidth": 2
          },
          "yaxis": {
           "automargin": true,
           "gridcolor": "white",
           "linecolor": "white",
           "ticks": "",
           "title": {
            "standoff": 15
           },
           "zerolinecolor": "white",
           "zerolinewidth": 2
          }
         }
        },
        "title": {
         "text": "Optimization History Plot"
        },
        "xaxis": {
         "title": {
          "text": "Trial"
         }
        },
        "yaxis": {
         "title": {
          "text": "Objective Value"
         }
        }
       }
      }
     },
     "metadata": {},
     "output_type": "display_data"
    }
   ],
   "source": [
    "# Optimization history plot\n",
    "opt_history_fig = vis.plot_optimization_history(study)\n",
    "opt_history_fig.show()"
   ]
  },
  {
   "cell_type": "code",
   "execution_count": null,
   "metadata": {},
   "outputs": [],
   "source": [
    "# Parameter importance plot\n",
    "param_importance_fig = vis.plot_param_importances(study)\n",
    "param_importance_fig.show()"
   ]
  },
  {
   "cell_type": "code",
   "execution_count": null,
   "metadata": {},
   "outputs": [],
   "source": [
    "# Slice plot\n",
    "slice_fig = vis.plot_slice(study)\n",
    "slice_fig.show()"
   ]
  },
  {
   "cell_type": "markdown",
   "metadata": {},
   "source": [
    "### Create test data"
   ]
  },
  {
   "cell_type": "code",
   "execution_count": 2,
   "metadata": {},
   "outputs": [
    {
     "name": "stderr",
     "output_type": "stream",
     "text": [
      "C:\\Users\\ashet\\AppData\\Local\\Temp\\ipykernel_14956\\2619332840.py:1: DtypeWarning: Columns (49) have mixed types. Specify dtype option on import or set low_memory=False.\n",
      "  prop = pd.read_csv('./data/properties_2017.csv')\n"
     ]
    }
   ],
   "source": [
    "def read_test_data():\n",
    "    sample = pd.read_csv('./data/sample_submission.csv')\n",
    "    prop = pd.read_csv('./data/properties_2017.csv')\n",
    "    sample['parcelid'] = sample['ParcelId']\n",
    "    df_test = sample.merge(prop, on='parcelid', how = 'left')\n",
    "\n",
    "    return df_test, sample\n",
    "\n",
    "def create_clean_test(df_test, X_train):\n",
    "\n",
    "    train_columns =  ['bedroomcnt', 'roomcnt', 'bathroomcnt', 'taxamount',\n",
    "        'landtaxvaluedollarcnt', 'taxvaluedollarcnt',\n",
    "        'structuretaxvaluedollarcnt', 'latitude', 'longitude',\n",
    "        'lotsizesquarefeet', 'calculatedfinishedsquarefeet', 'yearbuilt',\n",
    "        ]\n",
    "    x_test = df_test[train_columns]\n",
    "\n",
    "    # Set the transaction date dependent columns to constants\n",
    "    x_test['LXXRNSA'] = 253.028\n",
    "    x_test['month'] = \"12\"\n",
    "    x_test['year'] = \"2016\"\n",
    "    x_test['weekday'] = 4\n",
    "\n",
    "    X_test_std = x_test.copy()\n",
    "\n",
    "    # Scale-standardize features\n",
    "    numeric_columns = ['bedroomcnt', 'roomcnt', 'bathroomcnt', 'taxamount',\n",
    "        'landtaxvaluedollarcnt', 'taxvaluedollarcnt',\n",
    "        'structuretaxvaluedollarcnt', 'latitude', 'longitude', 'LXXRNSA', \n",
    "            'lotsizesquarefeet', 'calculatedfinishedsquarefeet', 'yearbuilt',\n",
    "            ]\n",
    "    sc_x = StandardScaler()\n",
    "    sc_x.fit(X_train[numeric_columns])\n",
    "\n",
    "    # Transform the test data using the same fitted scaler\n",
    "    X_test_std[numeric_columns] = sc_x.transform(X_test_std[numeric_columns])\n",
    "\n",
    "    # For latitude and longitude, we can't mask, so fill NAs with zeros\n",
    "    X_test_std.longitude = X_test_std.longitude.fillna(0)\n",
    "    X_test_std.latitude = X_test_std.latitude.fillna(0)\n",
    "\n",
    "    # Mask missing data in columns \n",
    "    mask_value = -999\n",
    "    X_test_std = X_test_std.fillna(mask_value)\n",
    "\n",
    "    return X_test_std"
   ]
  },
  {
   "cell_type": "code",
   "execution_count": 117,
   "metadata": {},
   "outputs": [
    {
     "name": "stdout",
     "output_type": "stream",
     "text": [
      "\u001b[1m93289/93289\u001b[0m \u001b[32m━━━━━━━━━━━━━━━━━━━━\u001b[0m\u001b[37m\u001b[0m \u001b[1m2894s\u001b[0m 31ms/step\n"
     ]
    }
   ],
   "source": [
    "df_test, sample = read_test_data()\n",
    "X_test_std = create_clean_test(df_test, X_train)\n",
    "\n",
    "# Generate neural network predictions for all parcel IDs\n",
    "preds = model.predict({\n",
    "        'bedroomcnt': X_test_std[['bedroomcnt']],\n",
    "        'roomcnt': X_test_std[['roomcnt']],\n",
    "        'bathroomcnt': X_test_std[['bathroomcnt']],\n",
    "        'taxamount': X_test_std[['taxamount']],\n",
    "        'landtaxvaluedollarcnt': X_test_std[['landtaxvaluedollarcnt']],\n",
    "        'taxvaluedollarcnt': X_test_std[['taxvaluedollarcnt']],\n",
    "        'structuretaxvaluedollarcnt': X_test_std[['structuretaxvaluedollarcnt']],\n",
    "        'latitude': X_test_std[['latitude']],\n",
    "        'longitude': X_test_std[['longitude']],\n",
    "        'lxxrnsa': X_test_std[['LXXRNSA']],\n",
    "        'year': X_test_std[['year']],  \n",
    "        'month': X_test_std[['month']],  \n",
    "        'weekday': X_test_std[['weekday']],\n",
    "        'lotsizesquarefeet': X_test_std[['lotsizesquarefeet']],\n",
    "        'calculatedfinishedsquarefeet': X_test_std[['calculatedfinishedsquarefeet']],\n",
    "        'yearbuilt': X_test_std[['yearbuilt']],\n",
    "    })"
   ]
  },
  {
   "cell_type": "code",
   "execution_count": 58,
   "metadata": {},
   "outputs": [],
   "source": [
    "for c in sample.columns[sample.columns != 'ParcelId']:\n",
    "    sample[c] = ((preds[:,0]*y_std) + y_mean)\n"
   ]
  },
  {
   "cell_type": "code",
   "execution_count": 59,
   "metadata": {},
   "outputs": [
    {
     "data": {
      "text/html": [
       "<div>\n",
       "<style scoped>\n",
       "    .dataframe tbody tr th:only-of-type {\n",
       "        vertical-align: middle;\n",
       "    }\n",
       "\n",
       "    .dataframe tbody tr th {\n",
       "        vertical-align: top;\n",
       "    }\n",
       "\n",
       "    .dataframe thead th {\n",
       "        text-align: right;\n",
       "    }\n",
       "</style>\n",
       "<table border=\"1\" class=\"dataframe\">\n",
       "  <thead>\n",
       "    <tr style=\"text-align: right;\">\n",
       "      <th></th>\n",
       "      <th>ParcelId</th>\n",
       "      <th>201610</th>\n",
       "      <th>201611</th>\n",
       "      <th>201612</th>\n",
       "      <th>201710</th>\n",
       "      <th>201711</th>\n",
       "      <th>201712</th>\n",
       "    </tr>\n",
       "  </thead>\n",
       "  <tbody>\n",
       "    <tr>\n",
       "      <th>0</th>\n",
       "      <td>10754147</td>\n",
       "      <td>0.005542</td>\n",
       "      <td>0.005542</td>\n",
       "      <td>0.005542</td>\n",
       "      <td>0.005542</td>\n",
       "      <td>0.005542</td>\n",
       "      <td>0.005542</td>\n",
       "    </tr>\n",
       "    <tr>\n",
       "      <th>1</th>\n",
       "      <td>10759547</td>\n",
       "      <td>0.005886</td>\n",
       "      <td>0.005886</td>\n",
       "      <td>0.005886</td>\n",
       "      <td>0.005886</td>\n",
       "      <td>0.005886</td>\n",
       "      <td>0.005886</td>\n",
       "    </tr>\n",
       "    <tr>\n",
       "      <th>2</th>\n",
       "      <td>10843547</td>\n",
       "      <td>0.563296</td>\n",
       "      <td>0.563296</td>\n",
       "      <td>0.563296</td>\n",
       "      <td>0.563296</td>\n",
       "      <td>0.563296</td>\n",
       "      <td>0.563296</td>\n",
       "    </tr>\n",
       "    <tr>\n",
       "      <th>3</th>\n",
       "      <td>10859147</td>\n",
       "      <td>0.016259</td>\n",
       "      <td>0.016259</td>\n",
       "      <td>0.016259</td>\n",
       "      <td>0.016259</td>\n",
       "      <td>0.016259</td>\n",
       "      <td>0.016259</td>\n",
       "    </tr>\n",
       "    <tr>\n",
       "      <th>4</th>\n",
       "      <td>10879947</td>\n",
       "      <td>0.006889</td>\n",
       "      <td>0.006889</td>\n",
       "      <td>0.006889</td>\n",
       "      <td>0.006889</td>\n",
       "      <td>0.006889</td>\n",
       "      <td>0.006889</td>\n",
       "    </tr>\n",
       "    <tr>\n",
       "      <th>...</th>\n",
       "      <td>...</td>\n",
       "      <td>...</td>\n",
       "      <td>...</td>\n",
       "      <td>...</td>\n",
       "      <td>...</td>\n",
       "      <td>...</td>\n",
       "      <td>...</td>\n",
       "    </tr>\n",
       "    <tr>\n",
       "      <th>2985212</th>\n",
       "      <td>168176230</td>\n",
       "      <td>0.010419</td>\n",
       "      <td>0.010419</td>\n",
       "      <td>0.010419</td>\n",
       "      <td>0.010419</td>\n",
       "      <td>0.010419</td>\n",
       "      <td>0.010419</td>\n",
       "    </tr>\n",
       "    <tr>\n",
       "      <th>2985213</th>\n",
       "      <td>14273630</td>\n",
       "      <td>0.011146</td>\n",
       "      <td>0.011146</td>\n",
       "      <td>0.011146</td>\n",
       "      <td>0.011146</td>\n",
       "      <td>0.011146</td>\n",
       "      <td>0.011146</td>\n",
       "    </tr>\n",
       "    <tr>\n",
       "      <th>2985214</th>\n",
       "      <td>168040630</td>\n",
       "      <td>0.009144</td>\n",
       "      <td>0.009144</td>\n",
       "      <td>0.009144</td>\n",
       "      <td>0.009144</td>\n",
       "      <td>0.009144</td>\n",
       "      <td>0.009144</td>\n",
       "    </tr>\n",
       "    <tr>\n",
       "      <th>2985215</th>\n",
       "      <td>168040830</td>\n",
       "      <td>0.007757</td>\n",
       "      <td>0.007757</td>\n",
       "      <td>0.007757</td>\n",
       "      <td>0.007757</td>\n",
       "      <td>0.007757</td>\n",
       "      <td>0.007757</td>\n",
       "    </tr>\n",
       "    <tr>\n",
       "      <th>2985216</th>\n",
       "      <td>168040430</td>\n",
       "      <td>0.012034</td>\n",
       "      <td>0.012034</td>\n",
       "      <td>0.012034</td>\n",
       "      <td>0.012034</td>\n",
       "      <td>0.012034</td>\n",
       "      <td>0.012034</td>\n",
       "    </tr>\n",
       "  </tbody>\n",
       "</table>\n",
       "<p>2985217 rows × 7 columns</p>\n",
       "</div>"
      ],
      "text/plain": [
       "          ParcelId    201610    201611    201612    201710    201711    201712\n",
       "0         10754147  0.005542  0.005542  0.005542  0.005542  0.005542  0.005542\n",
       "1         10759547  0.005886  0.005886  0.005886  0.005886  0.005886  0.005886\n",
       "2         10843547  0.563296  0.563296  0.563296  0.563296  0.563296  0.563296\n",
       "3         10859147  0.016259  0.016259  0.016259  0.016259  0.016259  0.016259\n",
       "4         10879947  0.006889  0.006889  0.006889  0.006889  0.006889  0.006889\n",
       "...            ...       ...       ...       ...       ...       ...       ...\n",
       "2985212  168176230  0.010419  0.010419  0.010419  0.010419  0.010419  0.010419\n",
       "2985213   14273630  0.011146  0.011146  0.011146  0.011146  0.011146  0.011146\n",
       "2985214  168040630  0.009144  0.009144  0.009144  0.009144  0.009144  0.009144\n",
       "2985215  168040830  0.007757  0.007757  0.007757  0.007757  0.007757  0.007757\n",
       "2985216  168040430  0.012034  0.012034  0.012034  0.012034  0.012034  0.012034\n",
       "\n",
       "[2985217 rows x 7 columns]"
      ]
     },
     "execution_count": 59,
     "metadata": {},
     "output_type": "execute_result"
    }
   ],
   "source": [
    "sample"
   ]
  },
  {
   "cell_type": "code",
   "execution_count": 60,
   "metadata": {},
   "outputs": [],
   "source": [
    "# Save neural network predictions to csv\n",
    "sample.to_csv('nn1.csv', index=False, float_format='%.4f')"
   ]
  },
  {
   "cell_type": "code",
   "execution_count": null,
   "metadata": {},
   "outputs": [],
   "source": [
    "# Create XGBoost predictions from neural network predictions\n",
    "d_test_1 = xgb.DMatrix(preds)\n",
    "xg_preds_1 = (clf.predict(d_test_1)*y_std) + y_mean"
   ]
  },
  {
   "cell_type": "code",
   "execution_count": 174,
   "metadata": {},
   "outputs": [],
   "source": [
    "for c in sample.columns[sample.columns != 'ParcelId']:\n",
    "    sample[c] = xg_preds_1"
   ]
  },
  {
   "cell_type": "code",
   "execution_count": 175,
   "metadata": {},
   "outputs": [
    {
     "data": {
      "text/html": [
       "<div>\n",
       "<style scoped>\n",
       "    .dataframe tbody tr th:only-of-type {\n",
       "        vertical-align: middle;\n",
       "    }\n",
       "\n",
       "    .dataframe tbody tr th {\n",
       "        vertical-align: top;\n",
       "    }\n",
       "\n",
       "    .dataframe thead th {\n",
       "        text-align: right;\n",
       "    }\n",
       "</style>\n",
       "<table border=\"1\" class=\"dataframe\">\n",
       "  <thead>\n",
       "    <tr style=\"text-align: right;\">\n",
       "      <th></th>\n",
       "      <th>ParcelId</th>\n",
       "      <th>201610</th>\n",
       "      <th>201611</th>\n",
       "      <th>201612</th>\n",
       "      <th>201710</th>\n",
       "      <th>201711</th>\n",
       "      <th>201712</th>\n",
       "    </tr>\n",
       "  </thead>\n",
       "  <tbody>\n",
       "    <tr>\n",
       "      <th>0</th>\n",
       "      <td>10754147</td>\n",
       "      <td>0.009251</td>\n",
       "      <td>0.009251</td>\n",
       "      <td>0.009251</td>\n",
       "      <td>0.009251</td>\n",
       "      <td>0.009251</td>\n",
       "      <td>0.009251</td>\n",
       "    </tr>\n",
       "    <tr>\n",
       "      <th>1</th>\n",
       "      <td>10759547</td>\n",
       "      <td>0.009251</td>\n",
       "      <td>0.009251</td>\n",
       "      <td>0.009251</td>\n",
       "      <td>0.009251</td>\n",
       "      <td>0.009251</td>\n",
       "      <td>0.009251</td>\n",
       "    </tr>\n",
       "    <tr>\n",
       "      <th>2</th>\n",
       "      <td>10843547</td>\n",
       "      <td>0.073047</td>\n",
       "      <td>0.073047</td>\n",
       "      <td>0.073047</td>\n",
       "      <td>0.073047</td>\n",
       "      <td>0.073047</td>\n",
       "      <td>0.073047</td>\n",
       "    </tr>\n",
       "    <tr>\n",
       "      <th>3</th>\n",
       "      <td>10859147</td>\n",
       "      <td>0.021976</td>\n",
       "      <td>0.021976</td>\n",
       "      <td>0.021976</td>\n",
       "      <td>0.021976</td>\n",
       "      <td>0.021976</td>\n",
       "      <td>0.021976</td>\n",
       "    </tr>\n",
       "    <tr>\n",
       "      <th>4</th>\n",
       "      <td>10879947</td>\n",
       "      <td>0.009251</td>\n",
       "      <td>0.009251</td>\n",
       "      <td>0.009251</td>\n",
       "      <td>0.009251</td>\n",
       "      <td>0.009251</td>\n",
       "      <td>0.009251</td>\n",
       "    </tr>\n",
       "    <tr>\n",
       "      <th>...</th>\n",
       "      <td>...</td>\n",
       "      <td>...</td>\n",
       "      <td>...</td>\n",
       "      <td>...</td>\n",
       "      <td>...</td>\n",
       "      <td>...</td>\n",
       "      <td>...</td>\n",
       "    </tr>\n",
       "    <tr>\n",
       "      <th>2985212</th>\n",
       "      <td>168176230</td>\n",
       "      <td>0.014024</td>\n",
       "      <td>0.014024</td>\n",
       "      <td>0.014024</td>\n",
       "      <td>0.014024</td>\n",
       "      <td>0.014024</td>\n",
       "      <td>0.014024</td>\n",
       "    </tr>\n",
       "    <tr>\n",
       "      <th>2985213</th>\n",
       "      <td>14273630</td>\n",
       "      <td>0.014236</td>\n",
       "      <td>0.014236</td>\n",
       "      <td>0.014236</td>\n",
       "      <td>0.014236</td>\n",
       "      <td>0.014236</td>\n",
       "      <td>0.014236</td>\n",
       "    </tr>\n",
       "    <tr>\n",
       "      <th>2985214</th>\n",
       "      <td>168040630</td>\n",
       "      <td>0.013153</td>\n",
       "      <td>0.013153</td>\n",
       "      <td>0.013153</td>\n",
       "      <td>0.013153</td>\n",
       "      <td>0.013153</td>\n",
       "      <td>0.013153</td>\n",
       "    </tr>\n",
       "    <tr>\n",
       "      <th>2985215</th>\n",
       "      <td>168040830</td>\n",
       "      <td>0.009730</td>\n",
       "      <td>0.009730</td>\n",
       "      <td>0.009730</td>\n",
       "      <td>0.009730</td>\n",
       "      <td>0.009730</td>\n",
       "      <td>0.009730</td>\n",
       "    </tr>\n",
       "    <tr>\n",
       "      <th>2985216</th>\n",
       "      <td>168040430</td>\n",
       "      <td>0.014236</td>\n",
       "      <td>0.014236</td>\n",
       "      <td>0.014236</td>\n",
       "      <td>0.014236</td>\n",
       "      <td>0.014236</td>\n",
       "      <td>0.014236</td>\n",
       "    </tr>\n",
       "  </tbody>\n",
       "</table>\n",
       "<p>2985217 rows × 7 columns</p>\n",
       "</div>"
      ],
      "text/plain": [
       "          ParcelId    201610    201611    201612    201710    201711    201712\n",
       "0         10754147  0.009251  0.009251  0.009251  0.009251  0.009251  0.009251\n",
       "1         10759547  0.009251  0.009251  0.009251  0.009251  0.009251  0.009251\n",
       "2         10843547  0.073047  0.073047  0.073047  0.073047  0.073047  0.073047\n",
       "3         10859147  0.021976  0.021976  0.021976  0.021976  0.021976  0.021976\n",
       "4         10879947  0.009251  0.009251  0.009251  0.009251  0.009251  0.009251\n",
       "...            ...       ...       ...       ...       ...       ...       ...\n",
       "2985212  168176230  0.014024  0.014024  0.014024  0.014024  0.014024  0.014024\n",
       "2985213   14273630  0.014236  0.014236  0.014236  0.014236  0.014236  0.014236\n",
       "2985214  168040630  0.013153  0.013153  0.013153  0.013153  0.013153  0.013153\n",
       "2985215  168040830  0.009730  0.009730  0.009730  0.009730  0.009730  0.009730\n",
       "2985216  168040430  0.014236  0.014236  0.014236  0.014236  0.014236  0.014236\n",
       "\n",
       "[2985217 rows x 7 columns]"
      ]
     },
     "execution_count": 175,
     "metadata": {},
     "output_type": "execute_result"
    }
   ],
   "source": [
    "sample"
   ]
  },
  {
   "cell_type": "code",
   "execution_count": 176,
   "metadata": {},
   "outputs": [],
   "source": [
    "# Save combination model outputs to csv\n",
    "sample.to_csv('nn1+xg.csv', index=False, float_format='%.4f')\n"
   ]
  }
 ],
 "metadata": {
  "kernelspec": {
   "display_name": "ml",
   "language": "python",
   "name": "python3"
  },
  "language_info": {
   "codemirror_mode": {
    "name": "ipython",
    "version": 3
   },
   "file_extension": ".py",
   "mimetype": "text/x-python",
   "name": "python",
   "nbconvert_exporter": "python",
   "pygments_lexer": "ipython3",
   "version": "3.11.5"
  }
 },
 "nbformat": 4,
 "nbformat_minor": 2
}
